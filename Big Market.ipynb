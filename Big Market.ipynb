{
 "cells": [
  {
   "cell_type": "code",
   "execution_count": 1,
   "metadata": {},
   "outputs": [],
   "source": [
    "import numpy as np\n",
    "import pandas as pd\n",
    "import matplotlib.pyplot as plt\n",
    "import seaborn as sns\n",
    "import warnings\n",
    "warnings.filterwarnings('ignore')"
   ]
  },
  {
   "cell_type": "code",
   "execution_count": 2,
   "metadata": {},
   "outputs": [],
   "source": [
    "df=pd.read_csv('Train.csv')"
   ]
  },
  {
   "cell_type": "code",
   "execution_count": 3,
   "metadata": {},
   "outputs": [
    {
     "data": {
      "text/html": [
       "<div>\n",
       "<style scoped>\n",
       "    .dataframe tbody tr th:only-of-type {\n",
       "        vertical-align: middle;\n",
       "    }\n",
       "\n",
       "    .dataframe tbody tr th {\n",
       "        vertical-align: top;\n",
       "    }\n",
       "\n",
       "    .dataframe thead th {\n",
       "        text-align: right;\n",
       "    }\n",
       "</style>\n",
       "<table border=\"1\" class=\"dataframe\">\n",
       "  <thead>\n",
       "    <tr style=\"text-align: right;\">\n",
       "      <th></th>\n",
       "      <th>Item_Identifier</th>\n",
       "      <th>Item_Weight</th>\n",
       "      <th>Item_Fat_Content</th>\n",
       "      <th>Item_Visibility</th>\n",
       "      <th>Item_Type</th>\n",
       "      <th>Item_MRP</th>\n",
       "      <th>Outlet_Identifier</th>\n",
       "      <th>Outlet_Establishment_Year</th>\n",
       "      <th>Outlet_Size</th>\n",
       "      <th>Outlet_Location_Type</th>\n",
       "      <th>Outlet_Type</th>\n",
       "      <th>Item_Outlet_Sales</th>\n",
       "    </tr>\n",
       "  </thead>\n",
       "  <tbody>\n",
       "    <tr>\n",
       "      <th>0</th>\n",
       "      <td>FDA15</td>\n",
       "      <td>9.30</td>\n",
       "      <td>Low Fat</td>\n",
       "      <td>0.016047</td>\n",
       "      <td>Dairy</td>\n",
       "      <td>249.8092</td>\n",
       "      <td>OUT049</td>\n",
       "      <td>1999</td>\n",
       "      <td>Medium</td>\n",
       "      <td>Tier 1</td>\n",
       "      <td>Supermarket Type1</td>\n",
       "      <td>3735.1380</td>\n",
       "    </tr>\n",
       "    <tr>\n",
       "      <th>1</th>\n",
       "      <td>DRC01</td>\n",
       "      <td>5.92</td>\n",
       "      <td>Regular</td>\n",
       "      <td>0.019278</td>\n",
       "      <td>Soft Drinks</td>\n",
       "      <td>48.2692</td>\n",
       "      <td>OUT018</td>\n",
       "      <td>2009</td>\n",
       "      <td>Medium</td>\n",
       "      <td>Tier 3</td>\n",
       "      <td>Supermarket Type2</td>\n",
       "      <td>443.4228</td>\n",
       "    </tr>\n",
       "    <tr>\n",
       "      <th>2</th>\n",
       "      <td>FDN15</td>\n",
       "      <td>17.50</td>\n",
       "      <td>Low Fat</td>\n",
       "      <td>0.016760</td>\n",
       "      <td>Meat</td>\n",
       "      <td>141.6180</td>\n",
       "      <td>OUT049</td>\n",
       "      <td>1999</td>\n",
       "      <td>Medium</td>\n",
       "      <td>Tier 1</td>\n",
       "      <td>Supermarket Type1</td>\n",
       "      <td>2097.2700</td>\n",
       "    </tr>\n",
       "    <tr>\n",
       "      <th>3</th>\n",
       "      <td>FDX07</td>\n",
       "      <td>19.20</td>\n",
       "      <td>Regular</td>\n",
       "      <td>0.000000</td>\n",
       "      <td>Fruits and Vegetables</td>\n",
       "      <td>182.0950</td>\n",
       "      <td>OUT010</td>\n",
       "      <td>1998</td>\n",
       "      <td>NaN</td>\n",
       "      <td>Tier 3</td>\n",
       "      <td>Grocery Store</td>\n",
       "      <td>732.3800</td>\n",
       "    </tr>\n",
       "    <tr>\n",
       "      <th>4</th>\n",
       "      <td>NCD19</td>\n",
       "      <td>8.93</td>\n",
       "      <td>Low Fat</td>\n",
       "      <td>0.000000</td>\n",
       "      <td>Household</td>\n",
       "      <td>53.8614</td>\n",
       "      <td>OUT013</td>\n",
       "      <td>1987</td>\n",
       "      <td>High</td>\n",
       "      <td>Tier 3</td>\n",
       "      <td>Supermarket Type1</td>\n",
       "      <td>994.7052</td>\n",
       "    </tr>\n",
       "  </tbody>\n",
       "</table>\n",
       "</div>"
      ],
      "text/plain": [
       "  Item_Identifier  Item_Weight Item_Fat_Content  Item_Visibility  \\\n",
       "0           FDA15         9.30          Low Fat         0.016047   \n",
       "1           DRC01         5.92          Regular         0.019278   \n",
       "2           FDN15        17.50          Low Fat         0.016760   \n",
       "3           FDX07        19.20          Regular         0.000000   \n",
       "4           NCD19         8.93          Low Fat         0.000000   \n",
       "\n",
       "               Item_Type  Item_MRP Outlet_Identifier  \\\n",
       "0                  Dairy  249.8092            OUT049   \n",
       "1            Soft Drinks   48.2692            OUT018   \n",
       "2                   Meat  141.6180            OUT049   \n",
       "3  Fruits and Vegetables  182.0950            OUT010   \n",
       "4              Household   53.8614            OUT013   \n",
       "\n",
       "   Outlet_Establishment_Year Outlet_Size Outlet_Location_Type  \\\n",
       "0                       1999      Medium               Tier 1   \n",
       "1                       2009      Medium               Tier 3   \n",
       "2                       1999      Medium               Tier 1   \n",
       "3                       1998         NaN               Tier 3   \n",
       "4                       1987        High               Tier 3   \n",
       "\n",
       "         Outlet_Type  Item_Outlet_Sales  \n",
       "0  Supermarket Type1          3735.1380  \n",
       "1  Supermarket Type2           443.4228  \n",
       "2  Supermarket Type1          2097.2700  \n",
       "3      Grocery Store           732.3800  \n",
       "4  Supermarket Type1           994.7052  "
      ]
     },
     "execution_count": 3,
     "metadata": {},
     "output_type": "execute_result"
    }
   ],
   "source": [
    "df.head()"
   ]
  },
  {
   "cell_type": "code",
   "execution_count": 4,
   "metadata": {},
   "outputs": [
    {
     "data": {
      "text/html": [
       "<div>\n",
       "<style scoped>\n",
       "    .dataframe tbody tr th:only-of-type {\n",
       "        vertical-align: middle;\n",
       "    }\n",
       "\n",
       "    .dataframe tbody tr th {\n",
       "        vertical-align: top;\n",
       "    }\n",
       "\n",
       "    .dataframe thead th {\n",
       "        text-align: right;\n",
       "    }\n",
       "</style>\n",
       "<table border=\"1\" class=\"dataframe\">\n",
       "  <thead>\n",
       "    <tr style=\"text-align: right;\">\n",
       "      <th></th>\n",
       "      <th>Item_Weight</th>\n",
       "      <th>Item_Visibility</th>\n",
       "      <th>Item_MRP</th>\n",
       "      <th>Outlet_Establishment_Year</th>\n",
       "      <th>Item_Outlet_Sales</th>\n",
       "    </tr>\n",
       "  </thead>\n",
       "  <tbody>\n",
       "    <tr>\n",
       "      <th>count</th>\n",
       "      <td>7060.000000</td>\n",
       "      <td>8523.000000</td>\n",
       "      <td>8523.000000</td>\n",
       "      <td>8523.000000</td>\n",
       "      <td>8523.000000</td>\n",
       "    </tr>\n",
       "    <tr>\n",
       "      <th>mean</th>\n",
       "      <td>12.857645</td>\n",
       "      <td>0.066132</td>\n",
       "      <td>140.992782</td>\n",
       "      <td>1997.831867</td>\n",
       "      <td>2181.288914</td>\n",
       "    </tr>\n",
       "    <tr>\n",
       "      <th>std</th>\n",
       "      <td>4.643456</td>\n",
       "      <td>0.051598</td>\n",
       "      <td>62.275067</td>\n",
       "      <td>8.371760</td>\n",
       "      <td>1706.499616</td>\n",
       "    </tr>\n",
       "    <tr>\n",
       "      <th>min</th>\n",
       "      <td>4.555000</td>\n",
       "      <td>0.000000</td>\n",
       "      <td>31.290000</td>\n",
       "      <td>1985.000000</td>\n",
       "      <td>33.290000</td>\n",
       "    </tr>\n",
       "    <tr>\n",
       "      <th>25%</th>\n",
       "      <td>8.773750</td>\n",
       "      <td>0.026989</td>\n",
       "      <td>93.826500</td>\n",
       "      <td>1987.000000</td>\n",
       "      <td>834.247400</td>\n",
       "    </tr>\n",
       "    <tr>\n",
       "      <th>50%</th>\n",
       "      <td>12.600000</td>\n",
       "      <td>0.053931</td>\n",
       "      <td>143.012800</td>\n",
       "      <td>1999.000000</td>\n",
       "      <td>1794.331000</td>\n",
       "    </tr>\n",
       "    <tr>\n",
       "      <th>75%</th>\n",
       "      <td>16.850000</td>\n",
       "      <td>0.094585</td>\n",
       "      <td>185.643700</td>\n",
       "      <td>2004.000000</td>\n",
       "      <td>3101.296400</td>\n",
       "    </tr>\n",
       "    <tr>\n",
       "      <th>max</th>\n",
       "      <td>21.350000</td>\n",
       "      <td>0.328391</td>\n",
       "      <td>266.888400</td>\n",
       "      <td>2009.000000</td>\n",
       "      <td>13086.964800</td>\n",
       "    </tr>\n",
       "  </tbody>\n",
       "</table>\n",
       "</div>"
      ],
      "text/plain": [
       "       Item_Weight  Item_Visibility     Item_MRP  Outlet_Establishment_Year  \\\n",
       "count  7060.000000      8523.000000  8523.000000                8523.000000   \n",
       "mean     12.857645         0.066132   140.992782                1997.831867   \n",
       "std       4.643456         0.051598    62.275067                   8.371760   \n",
       "min       4.555000         0.000000    31.290000                1985.000000   \n",
       "25%       8.773750         0.026989    93.826500                1987.000000   \n",
       "50%      12.600000         0.053931   143.012800                1999.000000   \n",
       "75%      16.850000         0.094585   185.643700                2004.000000   \n",
       "max      21.350000         0.328391   266.888400                2009.000000   \n",
       "\n",
       "       Item_Outlet_Sales  \n",
       "count        8523.000000  \n",
       "mean         2181.288914  \n",
       "std          1706.499616  \n",
       "min            33.290000  \n",
       "25%           834.247400  \n",
       "50%          1794.331000  \n",
       "75%          3101.296400  \n",
       "max         13086.964800  "
      ]
     },
     "execution_count": 4,
     "metadata": {},
     "output_type": "execute_result"
    }
   ],
   "source": [
    "df.describe()"
   ]
  },
  {
   "cell_type": "code",
   "execution_count": 5,
   "metadata": {},
   "outputs": [
    {
     "data": {
      "image/png": "[encoded data removed]",
      "text/plain": [
       "<Figure size 1080x864 with 6 Axes>"
      ]
     },
     "metadata": {
      "needs_background": "light"
     },
     "output_type": "display_data"
    }
   ],
   "source": [
    "df.hist(figsize=(15,12))\n",
    "plt.show()"
   ]
  },
  {
   "cell_type": "code",
   "execution_count": 6,
   "metadata": {},
   "outputs": [
    {
     "name": "stdout",
     "output_type": "stream",
     "text": [
      "<class 'pandas.core.frame.DataFrame'>\n",
      "RangeIndex: 8523 entries, 0 to 8522\n",
      "Data columns (total 12 columns):\n",
      " #   Column                     Non-Null Count  Dtype  \n",
      "---  ------                     --------------  -----  \n",
      " 0   Item_Identifier            8523 non-null   object \n",
      " 1   Item_Weight                7060 non-null   float64\n",
      " 2   Item_Fat_Content           8523 non-null   object \n",
      " 3   Item_Visibility            8523 non-null   float64\n",
      " 4   Item_Type                  8523 non-null   object \n",
      " 5   Item_MRP                   8523 non-null   float64\n",
      " 6   Outlet_Identifier          8523 non-null   object \n",
      " 7   Outlet_Establishment_Year  8523 non-null   int64  \n",
      " 8   Outlet_Size                6113 non-null   object \n",
      " 9   Outlet_Location_Type       8523 non-null   object \n",
      " 10  Outlet_Type                8523 non-null   object \n",
      " 11  Item_Outlet_Sales          8523 non-null   float64\n",
      "dtypes: float64(4), int64(1), object(7)\n",
      "memory usage: 799.2+ KB\n"
     ]
    }
   ],
   "source": [
    "df.info()"
   ]
  },
  {
   "cell_type": "markdown",
   "metadata": {},
   "source": [
    "Item Weight, Outlet Size columns has missing values"
   ]
  },
  {
   "cell_type": "markdown",
   "metadata": {},
   "source": [
    "## Correlation with Target Variable"
   ]
  },
  {
   "cell_type": "code",
   "execution_count": 7,
   "metadata": {},
   "outputs": [
    {
     "data": {
      "text/plain": [
       "Item_Weight                  0.014123\n",
       "Item_Visibility             -0.128625\n",
       "Item_MRP                     0.567574\n",
       "Outlet_Establishment_Year   -0.049135\n",
       "Item_Outlet_Sales            1.000000\n",
       "Name: Item_Outlet_Sales, dtype: float64"
      ]
     },
     "execution_count": 7,
     "metadata": {},
     "output_type": "execute_result"
    }
   ],
   "source": [
    "corr_matrix = df.corr()\n",
    "corr_matrix['Item_Outlet_Sales']"
   ]
  },
  {
   "cell_type": "code",
   "execution_count": 8,
   "metadata": {},
   "outputs": [
    {
     "data": {
      "image/png": "[encoded data removed]",
      "text/plain": [
       "<Figure size 432x288 with 2 Axes>"
      ]
     },
     "metadata": {
      "needs_background": "light"
     },
     "output_type": "display_data"
    }
   ],
   "source": [
    "sns.heatmap(corr_matrix,annot=True)\n",
    "plt.show()"
   ]
  },
  {
   "cell_type": "code",
   "execution_count": 9,
   "metadata": {},
   "outputs": [
    {
     "data": {
      "text/plain": [
       "<matplotlib.axes._subplots.AxesSubplot at 0x12747d4b608>"
      ]
     },
     "execution_count": 9,
     "metadata": {},
     "output_type": "execute_result"
    },
    {
     "data": {
      "image/png": "[encoded data removed]",
      "text/plain": [
       "<Figure size 432x288 with 1 Axes>"
      ]
     },
     "metadata": {
      "needs_background": "light"
     },
     "output_type": "display_data"
    }
   ],
   "source": [
    "df['Item_Identifier'].value_counts()[:30].plot(kind='barh')"
   ]
  },
  {
   "cell_type": "code",
   "execution_count": 10,
   "metadata": {},
   "outputs": [
    {
     "data": {
      "text/plain": [
       "12.150    86\n",
       "17.600    82\n",
       "13.650    77\n",
       "11.800    76\n",
       "15.100    68\n",
       "          ..\n",
       "7.560      2\n",
       "9.420      1\n",
       "5.400      1\n",
       "6.520      1\n",
       "7.685      1\n",
       "Name: Item_Weight, Length: 415, dtype: int64"
      ]
     },
     "execution_count": 10,
     "metadata": {},
     "output_type": "execute_result"
    }
   ],
   "source": [
    "df['Item_Weight'].value_counts()"
   ]
  },
  {
   "cell_type": "code",
   "execution_count": 11,
   "metadata": {},
   "outputs": [],
   "source": [
    "df.Item_Fat_Content = df.Item_Fat_Content.replace('LF','Low Fat')\n",
    "df.Item_Fat_Content = df.Item_Fat_Content.replace('reg','Regular')\n",
    "df.Item_Fat_Content = df.Item_Fat_Content.replace('low fat','Low Fat')"
   ]
  },
  {
   "cell_type": "code",
   "execution_count": 12,
   "metadata": {},
   "outputs": [
    {
     "data": {
      "image/png": "[encoded data removed]",
      "text/plain": [
       "<Figure size 432x288 with 1 Axes>"
      ]
     },
     "metadata": {
      "needs_background": "light"
     },
     "output_type": "display_data"
    }
   ],
   "source": [
    "df['Item_Fat_Content'].value_counts().plot(kind='bar')\n",
    "plt.show()"
   ]
  },
  {
   "cell_type": "code",
   "execution_count": 13,
   "metadata": {},
   "outputs": [
    {
     "data": {
      "image/png": "[encoded data removed]",
      "text/plain": [
       "<Figure size 432x288 with 1 Axes>"
      ]
     },
     "metadata": {
      "needs_background": "light"
     },
     "output_type": "display_data"
    }
   ],
   "source": [
    "df.Item_Fat_Content.value_counts().plot(kind='bar')\n",
    "plt.show()"
   ]
  },
  {
   "cell_type": "code",
   "execution_count": 14,
   "metadata": {},
   "outputs": [
    {
     "name": "stdout",
     "output_type": "stream",
     "text": [
      "<class 'pandas.core.frame.DataFrame'>\n",
      "RangeIndex: 8523 entries, 0 to 8522\n",
      "Data columns (total 12 columns):\n",
      " #   Column                     Non-Null Count  Dtype  \n",
      "---  ------                     --------------  -----  \n",
      " 0   Item_Identifier            8523 non-null   object \n",
      " 1   Item_Weight                7060 non-null   float64\n",
      " 2   Item_Fat_Content           8523 non-null   object \n",
      " 3   Item_Visibility            8523 non-null   float64\n",
      " 4   Item_Type                  8523 non-null   object \n",
      " 5   Item_MRP                   8523 non-null   float64\n",
      " 6   Outlet_Identifier          8523 non-null   object \n",
      " 7   Outlet_Establishment_Year  8523 non-null   int64  \n",
      " 8   Outlet_Size                6113 non-null   object \n",
      " 9   Outlet_Location_Type       8523 non-null   object \n",
      " 10  Outlet_Type                8523 non-null   object \n",
      " 11  Item_Outlet_Sales          8523 non-null   float64\n",
      "dtypes: float64(4), int64(1), object(7)\n",
      "memory usage: 799.2+ KB\n"
     ]
    }
   ],
   "source": [
    "df.info()"
   ]
  },
  {
   "cell_type": "code",
   "execution_count": 15,
   "metadata": {},
   "outputs": [
    {
     "data": {
      "text/plain": [
       "Item_Weight                 -0.014048\n",
       "Item_Visibility              1.000000\n",
       "Item_MRP                    -0.001315\n",
       "Outlet_Establishment_Year   -0.074834\n",
       "Item_Outlet_Sales           -0.128625\n",
       "Name: Item_Visibility, dtype: float64"
      ]
     },
     "execution_count": 15,
     "metadata": {},
     "output_type": "execute_result"
    }
   ],
   "source": [
    "corr_matrix['Item_Visibility']"
   ]
  },
  {
   "cell_type": "code",
   "execution_count": 16,
   "metadata": {},
   "outputs": [
    {
     "data": {
      "text/plain": [
       "OUT027    935\n",
       "OUT013    932\n",
       "OUT035    930\n",
       "OUT049    930\n",
       "OUT046    930\n",
       "OUT045    929\n",
       "OUT018    928\n",
       "OUT017    926\n",
       "OUT010    555\n",
       "OUT019    528\n",
       "Name: Outlet_Identifier, dtype: int64"
      ]
     },
     "execution_count": 16,
     "metadata": {},
     "output_type": "execute_result"
    }
   ],
   "source": [
    "df['Outlet_Identifier'].value_counts()"
   ]
  },
  {
   "cell_type": "code",
   "execution_count": 17,
   "metadata": {},
   "outputs": [
    {
     "data": {
      "text/plain": [
       "Medium    2793\n",
       "Small     2388\n",
       "High       932\n",
       "Name: Outlet_Size, dtype: int64"
      ]
     },
     "execution_count": 17,
     "metadata": {},
     "output_type": "execute_result"
    }
   ],
   "source": [
    "df['Outlet_Size'].value_counts()"
   ]
  },
  {
   "cell_type": "code",
   "execution_count": 18,
   "metadata": {},
   "outputs": [
    {
     "data": {
      "text/plain": [
       "Outlet_Size  Outlet_Location_Type\n",
       "High         Tier 3                   932\n",
       "Medium       Tier 3                  1863\n",
       "             Tier 1                   930\n",
       "Small        Tier 1                  1458\n",
       "             Tier 2                   930\n",
       "Name: Outlet_Location_Type, dtype: int64"
      ]
     },
     "execution_count": 18,
     "metadata": {},
     "output_type": "execute_result"
    }
   ],
   "source": [
    "df.groupby(['Outlet_Size'])['Outlet_Location_Type'].value_counts()"
   ]
  },
  {
   "cell_type": "raw",
   "metadata": {},
   "source": [
    "- From the above stat we can infer that Tier 3 has all the high sized outlets and the maximum number of medium sized outlets.\n",
    "- Tier 1 contains the large number of Small Size outlets and the remaining medium sized outlets\n",
    "- Tier 2 has the remaing Small sized outlets alone"
   ]
  },
  {
   "cell_type": "code",
   "execution_count": 19,
   "metadata": {},
   "outputs": [
    {
     "data": {
      "text/plain": [
       "<pandas.core.groupby.generic.SeriesGroupBy object at 0x0000012747F32A48>"
      ]
     },
     "execution_count": 19,
     "metadata": {},
     "output_type": "execute_result"
    }
   ],
   "source": [
    "df.groupby(['Outlet_Location_Type','Outlet_Size'])['Outlet_Type']"
   ]
  },
  {
   "cell_type": "code",
   "execution_count": 20,
   "metadata": {},
   "outputs": [
    {
     "data": {
      "text/plain": [
       "Outlet_Identifier  Outlet_Type        Outlet_Size\n",
       "OUT013             Supermarket Type1  High           932\n",
       "OUT018             Supermarket Type2  Medium         928\n",
       "OUT019             Grocery Store      Small          528\n",
       "OUT027             Supermarket Type3  Medium         935\n",
       "OUT035             Supermarket Type1  Small          930\n",
       "OUT046             Supermarket Type1  Small          930\n",
       "OUT049             Supermarket Type1  Medium         930\n",
       "Name: Outlet_Size, dtype: int64"
      ]
     },
     "execution_count": 20,
     "metadata": {},
     "output_type": "execute_result"
    }
   ],
   "source": [
    "df.groupby(['Outlet_Identifier','Outlet_Type'])['Outlet_Size'].value_counts()"
   ]
  },
  {
   "cell_type": "code",
   "execution_count": 21,
   "metadata": {},
   "outputs": [
    {
     "data": {
      "text/plain": [
       "Outlet_Location_Type  Outlet_Identifier  Outlet_Type      \n",
       "Tier 2                OUT017             Supermarket Type1    926\n",
       "                      OUT045             Supermarket Type1    929\n",
       "Tier 3                OUT010             Grocery Store        555\n",
       "Name: Outlet_Type, dtype: int64"
      ]
     },
     "execution_count": 21,
     "metadata": {},
     "output_type": "execute_result"
    }
   ],
   "source": [
    "df[df['Outlet_Size'].isnull()].groupby(['Outlet_Location_Type','Outlet_Identifier'])['Outlet_Type'].value_counts()"
   ]
  },
  {
   "cell_type": "code",
   "execution_count": 22,
   "metadata": {},
   "outputs": [
    {
     "data": {
      "text/plain": [
       "Outlet_Location_Type  Outlet_Type        Outlet_Size\n",
       "Tier 1                Grocery Store      Small          528\n",
       "                      Supermarket Type1  Medium         930\n",
       "                                         Small          930\n",
       "Tier 2                Supermarket Type1  Small          930\n",
       "Tier 3                Supermarket Type1  High           932\n",
       "                      Supermarket Type2  Medium         928\n",
       "                      Supermarket Type3  Medium         935\n",
       "Name: Outlet_Size, dtype: int64"
      ]
     },
     "execution_count": 22,
     "metadata": {},
     "output_type": "execute_result"
    }
   ],
   "source": [
    "df.groupby(['Outlet_Location_Type','Outlet_Type'])['Outlet_Size'].value_counts()"
   ]
  },
  {
   "cell_type": "raw",
   "metadata": {},
   "source": [
    "- From the above numbers we can see that Grocery Store outlet size is small.\n",
    "- If a single tier city has the same outlet type then the outlet type is used to different (Observed as in Tier 1)\n",
    "- If the Outlet Size are same then the Outlet type is different (observed as in Tier 3)"
   ]
  },
  {
   "cell_type": "raw",
   "metadata": {},
   "source": [
    "Using the above we are going to impute the NaN values in the outlet size by following:\n",
    "    - Imputing the NaN Values corresponding to Outlet Identifier OUT10 and Grocery Story as small\n",
    "    - Imputing the NaN values corresponding to OUT017 and OUT045 as Medium and High. The reverse of the same will also work fine\n",
    "    as the difference between the numbers of two outlets is three."
   ]
  },
  {
   "cell_type": "code",
   "execution_count": 23,
   "metadata": {},
   "outputs": [],
   "source": [
    "def impute(x):\n",
    "    if x.Outlet_Identifier == 'OUT010':\n",
    "        x.Outlet_Size = 'Small'\n",
    "    elif x.Outlet_Identifier == 'OUT017':\n",
    "        x.Outlet_Size = 'Medium'\n",
    "    elif x.Outlet_Identifier == 'OUT045':\n",
    "        x.Outlet_Size = 'High'\n",
    "    return (x)\n",
    "\n",
    "df['Outlet_Size'] = df.apply(impute,axis=1)"
   ]
  },
  {
   "cell_type": "code",
   "execution_count": 24,
   "metadata": {},
   "outputs": [
    {
     "data": {
      "text/html": [
       "<div>\n",
       "<style scoped>\n",
       "    .dataframe tbody tr th:only-of-type {\n",
       "        vertical-align: middle;\n",
       "    }\n",
       "\n",
       "    .dataframe tbody tr th {\n",
       "        vertical-align: top;\n",
       "    }\n",
       "\n",
       "    .dataframe thead th {\n",
       "        text-align: right;\n",
       "    }\n",
       "</style>\n",
       "<table border=\"1\" class=\"dataframe\">\n",
       "  <thead>\n",
       "    <tr style=\"text-align: right;\">\n",
       "      <th></th>\n",
       "      <th>Item_Identifier</th>\n",
       "      <th>Item_Weight</th>\n",
       "      <th>Item_Fat_Content</th>\n",
       "      <th>Item_Visibility</th>\n",
       "      <th>Item_Type</th>\n",
       "      <th>Item_MRP</th>\n",
       "      <th>Outlet_Identifier</th>\n",
       "      <th>Outlet_Establishment_Year</th>\n",
       "      <th>Outlet_Size</th>\n",
       "      <th>Outlet_Location_Type</th>\n",
       "      <th>Outlet_Type</th>\n",
       "      <th>Item_Outlet_Sales</th>\n",
       "    </tr>\n",
       "  </thead>\n",
       "  <tbody>\n",
       "    <tr>\n",
       "      <th>0</th>\n",
       "      <td>FDA15</td>\n",
       "      <td>9.300</td>\n",
       "      <td>Low Fat</td>\n",
       "      <td>0.016047</td>\n",
       "      <td>Dairy</td>\n",
       "      <td>249.8092</td>\n",
       "      <td>OUT049</td>\n",
       "      <td>1999</td>\n",
       "      <td>FDA15</td>\n",
       "      <td>Tier 1</td>\n",
       "      <td>Supermarket Type1</td>\n",
       "      <td>3735.1380</td>\n",
       "    </tr>\n",
       "    <tr>\n",
       "      <th>1</th>\n",
       "      <td>DRC01</td>\n",
       "      <td>5.920</td>\n",
       "      <td>Regular</td>\n",
       "      <td>0.019278</td>\n",
       "      <td>Soft Drinks</td>\n",
       "      <td>48.2692</td>\n",
       "      <td>OUT018</td>\n",
       "      <td>2009</td>\n",
       "      <td>DRC01</td>\n",
       "      <td>Tier 3</td>\n",
       "      <td>Supermarket Type2</td>\n",
       "      <td>443.4228</td>\n",
       "    </tr>\n",
       "    <tr>\n",
       "      <th>2</th>\n",
       "      <td>FDN15</td>\n",
       "      <td>17.500</td>\n",
       "      <td>Low Fat</td>\n",
       "      <td>0.016760</td>\n",
       "      <td>Meat</td>\n",
       "      <td>141.6180</td>\n",
       "      <td>OUT049</td>\n",
       "      <td>1999</td>\n",
       "      <td>FDN15</td>\n",
       "      <td>Tier 1</td>\n",
       "      <td>Supermarket Type1</td>\n",
       "      <td>2097.2700</td>\n",
       "    </tr>\n",
       "    <tr>\n",
       "      <th>3</th>\n",
       "      <td>FDX07</td>\n",
       "      <td>19.200</td>\n",
       "      <td>Regular</td>\n",
       "      <td>0.000000</td>\n",
       "      <td>Fruits and Vegetables</td>\n",
       "      <td>182.0950</td>\n",
       "      <td>OUT010</td>\n",
       "      <td>1998</td>\n",
       "      <td>FDX07</td>\n",
       "      <td>Tier 3</td>\n",
       "      <td>Grocery Store</td>\n",
       "      <td>732.3800</td>\n",
       "    </tr>\n",
       "    <tr>\n",
       "      <th>4</th>\n",
       "      <td>NCD19</td>\n",
       "      <td>8.930</td>\n",
       "      <td>Low Fat</td>\n",
       "      <td>0.000000</td>\n",
       "      <td>Household</td>\n",
       "      <td>53.8614</td>\n",
       "      <td>OUT013</td>\n",
       "      <td>1987</td>\n",
       "      <td>NCD19</td>\n",
       "      <td>Tier 3</td>\n",
       "      <td>Supermarket Type1</td>\n",
       "      <td>994.7052</td>\n",
       "    </tr>\n",
       "    <tr>\n",
       "      <th>...</th>\n",
       "      <td>...</td>\n",
       "      <td>...</td>\n",
       "      <td>...</td>\n",
       "      <td>...</td>\n",
       "      <td>...</td>\n",
       "      <td>...</td>\n",
       "      <td>...</td>\n",
       "      <td>...</td>\n",
       "      <td>...</td>\n",
       "      <td>...</td>\n",
       "      <td>...</td>\n",
       "      <td>...</td>\n",
       "    </tr>\n",
       "    <tr>\n",
       "      <th>8518</th>\n",
       "      <td>FDF22</td>\n",
       "      <td>6.865</td>\n",
       "      <td>Low Fat</td>\n",
       "      <td>0.056783</td>\n",
       "      <td>Snack Foods</td>\n",
       "      <td>214.5218</td>\n",
       "      <td>OUT013</td>\n",
       "      <td>1987</td>\n",
       "      <td>FDF22</td>\n",
       "      <td>Tier 3</td>\n",
       "      <td>Supermarket Type1</td>\n",
       "      <td>2778.3834</td>\n",
       "    </tr>\n",
       "    <tr>\n",
       "      <th>8519</th>\n",
       "      <td>FDS36</td>\n",
       "      <td>8.380</td>\n",
       "      <td>Regular</td>\n",
       "      <td>0.046982</td>\n",
       "      <td>Baking Goods</td>\n",
       "      <td>108.1570</td>\n",
       "      <td>OUT045</td>\n",
       "      <td>2002</td>\n",
       "      <td>FDS36</td>\n",
       "      <td>Tier 2</td>\n",
       "      <td>Supermarket Type1</td>\n",
       "      <td>549.2850</td>\n",
       "    </tr>\n",
       "    <tr>\n",
       "      <th>8520</th>\n",
       "      <td>NCJ29</td>\n",
       "      <td>10.600</td>\n",
       "      <td>Low Fat</td>\n",
       "      <td>0.035186</td>\n",
       "      <td>Health and Hygiene</td>\n",
       "      <td>85.1224</td>\n",
       "      <td>OUT035</td>\n",
       "      <td>2004</td>\n",
       "      <td>NCJ29</td>\n",
       "      <td>Tier 2</td>\n",
       "      <td>Supermarket Type1</td>\n",
       "      <td>1193.1136</td>\n",
       "    </tr>\n",
       "    <tr>\n",
       "      <th>8521</th>\n",
       "      <td>FDN46</td>\n",
       "      <td>7.210</td>\n",
       "      <td>Regular</td>\n",
       "      <td>0.145221</td>\n",
       "      <td>Snack Foods</td>\n",
       "      <td>103.1332</td>\n",
       "      <td>OUT018</td>\n",
       "      <td>2009</td>\n",
       "      <td>FDN46</td>\n",
       "      <td>Tier 3</td>\n",
       "      <td>Supermarket Type2</td>\n",
       "      <td>1845.5976</td>\n",
       "    </tr>\n",
       "    <tr>\n",
       "      <th>8522</th>\n",
       "      <td>DRG01</td>\n",
       "      <td>14.800</td>\n",
       "      <td>Low Fat</td>\n",
       "      <td>0.044878</td>\n",
       "      <td>Soft Drinks</td>\n",
       "      <td>75.4670</td>\n",
       "      <td>OUT046</td>\n",
       "      <td>1997</td>\n",
       "      <td>DRG01</td>\n",
       "      <td>Tier 1</td>\n",
       "      <td>Supermarket Type1</td>\n",
       "      <td>765.6700</td>\n",
       "    </tr>\n",
       "  </tbody>\n",
       "</table>\n",
       "<p>8523 rows × 12 columns</p>\n",
       "</div>"
      ],
      "text/plain": [
       "     Item_Identifier  Item_Weight Item_Fat_Content  Item_Visibility  \\\n",
       "0              FDA15        9.300          Low Fat         0.016047   \n",
       "1              DRC01        5.920          Regular         0.019278   \n",
       "2              FDN15       17.500          Low Fat         0.016760   \n",
       "3              FDX07       19.200          Regular         0.000000   \n",
       "4              NCD19        8.930          Low Fat         0.000000   \n",
       "...              ...          ...              ...              ...   \n",
       "8518           FDF22        6.865          Low Fat         0.056783   \n",
       "8519           FDS36        8.380          Regular         0.046982   \n",
       "8520           NCJ29       10.600          Low Fat         0.035186   \n",
       "8521           FDN46        7.210          Regular         0.145221   \n",
       "8522           DRG01       14.800          Low Fat         0.044878   \n",
       "\n",
       "                  Item_Type  Item_MRP Outlet_Identifier  \\\n",
       "0                     Dairy  249.8092            OUT049   \n",
       "1               Soft Drinks   48.2692            OUT018   \n",
       "2                      Meat  141.6180            OUT049   \n",
       "3     Fruits and Vegetables  182.0950            OUT010   \n",
       "4                 Household   53.8614            OUT013   \n",
       "...                     ...       ...               ...   \n",
       "8518            Snack Foods  214.5218            OUT013   \n",
       "8519           Baking Goods  108.1570            OUT045   \n",
       "8520     Health and Hygiene   85.1224            OUT035   \n",
       "8521            Snack Foods  103.1332            OUT018   \n",
       "8522            Soft Drinks   75.4670            OUT046   \n",
       "\n",
       "      Outlet_Establishment_Year Outlet_Size Outlet_Location_Type  \\\n",
       "0                          1999       FDA15               Tier 1   \n",
       "1                          2009       DRC01               Tier 3   \n",
       "2                          1999       FDN15               Tier 1   \n",
       "3                          1998       FDX07               Tier 3   \n",
       "4                          1987       NCD19               Tier 3   \n",
       "...                         ...         ...                  ...   \n",
       "8518                       1987       FDF22               Tier 3   \n",
       "8519                       2002       FDS36               Tier 2   \n",
       "8520                       2004       NCJ29               Tier 2   \n",
       "8521                       2009       FDN46               Tier 3   \n",
       "8522                       1997       DRG01               Tier 1   \n",
       "\n",
       "            Outlet_Type  Item_Outlet_Sales  \n",
       "0     Supermarket Type1          3735.1380  \n",
       "1     Supermarket Type2           443.4228  \n",
       "2     Supermarket Type1          2097.2700  \n",
       "3         Grocery Store           732.3800  \n",
       "4     Supermarket Type1           994.7052  \n",
       "...                 ...                ...  \n",
       "8518  Supermarket Type1          2778.3834  \n",
       "8519  Supermarket Type1           549.2850  \n",
       "8520  Supermarket Type1          1193.1136  \n",
       "8521  Supermarket Type2          1845.5976  \n",
       "8522  Supermarket Type1           765.6700  \n",
       "\n",
       "[8523 rows x 12 columns]"
      ]
     },
     "execution_count": 24,
     "metadata": {},
     "output_type": "execute_result"
    }
   ],
   "source": [
    "df"
   ]
  },
  {
   "cell_type": "code",
   "execution_count": 25,
   "metadata": {},
   "outputs": [
    {
     "data": {
      "text/plain": [
       "0"
      ]
     },
     "execution_count": 25,
     "metadata": {},
     "output_type": "execute_result"
    }
   ],
   "source": [
    "df['Outlet_Size'].isnull().sum()"
   ]
  },
  {
   "cell_type": "raw",
   "metadata": {},
   "source": [
    "We have imputed all the NaN values in the Outlet_Size column"
   ]
  },
  {
   "cell_type": "code",
   "execution_count": 26,
   "metadata": {},
   "outputs": [],
   "source": [
    "x=df[df['Item_Weight'].isnull()==True].index"
   ]
  },
  {
   "cell_type": "code",
   "execution_count": 27,
   "metadata": {},
   "outputs": [],
   "source": [
    "for i in x.astype(int):\n",
    "    y = df['Item_Type'].iloc[i]\n",
    "    z = df['Item_Identifier'].iloc[i]\n",
    "    df['Item_Weight'].iloc[i] = (df.groupby(['Item_Type','Item_Identifier'])['Item_Weight'].median())[y][z]"
   ]
  },
  {
   "cell_type": "code",
   "execution_count": 28,
   "metadata": {},
   "outputs": [],
   "source": [
    "x = df[df['Item_Weight'].isnull()==True].index"
   ]
  },
  {
   "cell_type": "code",
   "execution_count": 29,
   "metadata": {},
   "outputs": [],
   "source": [
    "for i in x.astype(int):\n",
    "    y = df['Item_Type'].iloc[i]\n",
    "    df['Item_Weight'].iloc[i] = (df.groupby(['Item_Type'])['Item_Weight'].median())[y]"
   ]
  },
  {
   "cell_type": "code",
   "execution_count": 30,
   "metadata": {},
   "outputs": [
    {
     "data": {
      "text/plain": [
       "Item_Type\n",
       "Baking Goods             11.6500\n",
       "Breads                   10.6000\n",
       "Breakfast                10.6950\n",
       "Canned                   12.3500\n",
       "Dairy                    13.3500\n",
       "Frozen Foods             12.8500\n",
       "Fruits and Vegetables    13.1000\n",
       "Hard Drinks               9.8975\n",
       "Health and Hygiene       12.1500\n",
       "Household                13.5000\n",
       "Meat                     12.3500\n",
       "Others                   14.5000\n",
       "Seafood                  11.6500\n",
       "Snack Foods              13.1500\n",
       "Soft Drinks              11.8000\n",
       "Starchy Foods            13.5000\n",
       "Name: Item_Weight, dtype: float64"
      ]
     },
     "execution_count": 30,
     "metadata": {},
     "output_type": "execute_result"
    }
   ],
   "source": [
    "df.groupby(['Item_Type'])['Item_Weight'].median()"
   ]
  },
  {
   "cell_type": "code",
   "execution_count": 31,
   "metadata": {},
   "outputs": [
    {
     "data": {
      "text/plain": [
       "0"
      ]
     },
     "execution_count": 31,
     "metadata": {},
     "output_type": "execute_result"
    }
   ],
   "source": [
    "df['Item_Weight'].isnull().sum()"
   ]
  },
  {
   "cell_type": "raw",
   "metadata": {},
   "source": [
    "We have imputed all the null values in the Item Weight column. We have imputed with the median weight obtained from \n",
    "the corresponding Item Type and Item Identifier "
   ]
  },
  {
   "cell_type": "markdown",
   "metadata": {},
   "source": [
    "## Transforming the Categorical column"
   ]
  },
  {
   "cell_type": "code",
   "execution_count": 32,
   "metadata": {},
   "outputs": [],
   "source": [
    "from sklearn.preprocessing import OneHotEncoder"
   ]
  },
  {
   "cell_type": "code",
   "execution_count": 33,
   "metadata": {},
   "outputs": [],
   "source": [
    "encode = OneHotEncoder()"
   ]
  },
  {
   "cell_type": "code",
   "execution_count": 34,
   "metadata": {},
   "outputs": [
    {
     "data": {
      "text/plain": [
       "0       Low Fat\n",
       "1       Regular\n",
       "2       Low Fat\n",
       "3       Regular\n",
       "4       Low Fat\n",
       "         ...   \n",
       "8518    Low Fat\n",
       "8519    Regular\n",
       "8520    Low Fat\n",
       "8521    Regular\n",
       "8522    Low Fat\n",
       "Name: Item_Fat_Content, Length: 8523, dtype: object"
      ]
     },
     "execution_count": 34,
     "metadata": {},
     "output_type": "execute_result"
    }
   ],
   "source": [
    "df['Item_Fat_Content']"
   ]
  },
  {
   "cell_type": "code",
   "execution_count": 35,
   "metadata": {},
   "outputs": [],
   "source": [
    "fat_encode = pd.DataFrame(encode.fit_transform(df[['Item_Fat_Content']]).toarray())"
   ]
  },
  {
   "cell_type": "code",
   "execution_count": 36,
   "metadata": {},
   "outputs": [],
   "source": [
    "df1 = df.join(fat_encode)"
   ]
  },
  {
   "cell_type": "code",
   "execution_count": 37,
   "metadata": {},
   "outputs": [],
   "source": [
    "df1 = df1.drop(['Item_Fat_Content',0],axis=1)"
   ]
  },
  {
   "cell_type": "code",
   "execution_count": 38,
   "metadata": {},
   "outputs": [],
   "source": [
    "df1.rename(columns={1:'Item_Fat_Content'},inplace=True)"
   ]
  },
  {
   "cell_type": "code",
   "execution_count": 39,
   "metadata": {},
   "outputs": [
    {
     "data": {
      "text/plain": [
       "Index(['Fruits and Vegetables', 'Snack Foods', 'Household', 'Frozen Foods',\n",
       "       'Dairy', 'Canned', 'Baking Goods', 'Health and Hygiene', 'Soft Drinks',\n",
       "       'Meat', 'Breads', 'Hard Drinks', 'Others', 'Starchy Foods', 'Breakfast',\n",
       "       'Seafood'],\n",
       "      dtype='object')"
      ]
     },
     "execution_count": 39,
     "metadata": {},
     "output_type": "execute_result"
    }
   ],
   "source": [
    "df1['Item_Type'].value_counts().index"
   ]
  },
  {
   "cell_type": "code",
   "execution_count": 40,
   "metadata": {},
   "outputs": [],
   "source": [
    "type_encode = pd.DataFrame(encode.fit_transform(df1[['Item_Type']]).toarray(),columns=df1['Item_Type'].value_counts().index)"
   ]
  },
  {
   "cell_type": "code",
   "execution_count": 41,
   "metadata": {},
   "outputs": [],
   "source": [
    "df1 = df1.join(type_encode)"
   ]
  },
  {
   "cell_type": "code",
   "execution_count": 42,
   "metadata": {},
   "outputs": [],
   "source": [
    "df1.drop(['Item_Type','Fruits and Vegetables'],axis=1,inplace=True)"
   ]
  },
  {
   "cell_type": "code",
   "execution_count": 43,
   "metadata": {},
   "outputs": [],
   "source": [
    "identifier_encode = pd.DataFrame(encode.fit_transform(df1[['Outlet_Identifier']]).toarray(),\n",
    "                                 columns=df1['Outlet_Identifier'].value_counts().index)"
   ]
  },
  {
   "cell_type": "code",
   "execution_count": 44,
   "metadata": {},
   "outputs": [],
   "source": [
    "df1 = df1.join(identifier_encode)"
   ]
  },
  {
   "cell_type": "code",
   "execution_count": 45,
   "metadata": {},
   "outputs": [],
   "source": [
    "df1.drop(['Outlet_Identifier','OUT027'],axis=1,inplace=True)"
   ]
  },
  {
   "cell_type": "code",
   "execution_count": 46,
   "metadata": {},
   "outputs": [],
   "source": [
    "year_encode = pd.DataFrame(encode.fit_transform(df1[['Outlet_Establishment_Year']]).toarray(),\n",
    "                           columns=df1['Outlet_Establishment_Year'].value_counts().index)"
   ]
  },
  {
   "cell_type": "code",
   "execution_count": 47,
   "metadata": {},
   "outputs": [],
   "source": [
    "df1 = df1.join(year_encode)"
   ]
  },
  {
   "cell_type": "code",
   "execution_count": 48,
   "metadata": {},
   "outputs": [],
   "source": [
    "df1.drop(['Outlet_Establishment_Year',1985],axis=1,inplace=True)"
   ]
  },
  {
   "cell_type": "code",
   "execution_count": 49,
   "metadata": {},
   "outputs": [],
   "source": [
    "location_encode = pd.DataFrame(encode.fit_transform(df1[['Outlet_Location_Type']]).toarray(),\n",
    "                           columns=df1['Outlet_Location_Type'].value_counts().index)\n",
    "df1 = df1.join(location_encode)\n",
    "df1.drop(['Outlet_Location_Type','Tier 1'],axis=1,inplace=True)"
   ]
  },
  {
   "cell_type": "code",
   "execution_count": 50,
   "metadata": {},
   "outputs": [],
   "source": [
    "outlet_encode = pd.DataFrame(encode.fit_transform(df1[['Outlet_Type']]).toarray(),\n",
    "                           columns=df1['Outlet_Type'].value_counts().index)\n",
    "df1 = df1.join(outlet_encode)\n",
    "df1.drop(['Outlet_Type','Supermarket Type1'],axis=1,inplace=True)"
   ]
  },
  {
   "cell_type": "code",
   "execution_count": 51,
   "metadata": {},
   "outputs": [],
   "source": [
    "df1.drop(['Item_Identifier','Outlet_Size'],axis=1,inplace=True)"
   ]
  },
  {
   "cell_type": "markdown",
   "metadata": {},
   "source": [
    "## Splitting Train, Test"
   ]
  },
  {
   "cell_type": "code",
   "execution_count": 52,
   "metadata": {},
   "outputs": [],
   "source": [
    "X = df1.drop('Item_Outlet_Sales',axis=1)\n",
    "y = df1['Item_Outlet_Sales']"
   ]
  },
  {
   "cell_type": "code",
   "execution_count": 53,
   "metadata": {},
   "outputs": [],
   "source": [
    "from sklearn.model_selection import train_test_split"
   ]
  },
  {
   "cell_type": "code",
   "execution_count": 54,
   "metadata": {},
   "outputs": [],
   "source": [
    "X_train,X_test,y_train,y_test = train_test_split(X,y,test_size=0.2,random_state=1)"
   ]
  },
  {
   "cell_type": "markdown",
   "metadata": {},
   "source": [
    "## Building Linear Regression Model"
   ]
  },
  {
   "cell_type": "code",
   "execution_count": 55,
   "metadata": {},
   "outputs": [],
   "source": [
    "from sklearn.linear_model import LinearRegression"
   ]
  },
  {
   "cell_type": "code",
   "execution_count": 56,
   "metadata": {},
   "outputs": [],
   "source": [
    "lin_reg = LinearRegression()"
   ]
  },
  {
   "cell_type": "code",
   "execution_count": 57,
   "metadata": {},
   "outputs": [],
   "source": [
    "model = lin_reg.fit(X_train,y_train)"
   ]
  },
  {
   "cell_type": "code",
   "execution_count": 58,
   "metadata": {},
   "outputs": [],
   "source": [
    "y_pred = model.predict(X_test)"
   ]
  },
  {
   "cell_type": "code",
   "execution_count": 59,
   "metadata": {},
   "outputs": [],
   "source": [
    "from sklearn.metrics import mean_squared_error"
   ]
  },
  {
   "cell_type": "code",
   "execution_count": 60,
   "metadata": {},
   "outputs": [],
   "source": [
    "mse = mean_squared_error(y_test,y_pred)"
   ]
  },
  {
   "cell_type": "code",
   "execution_count": 61,
   "metadata": {},
   "outputs": [],
   "source": [
    "lr_score = np.sqrt(mse)"
   ]
  },
  {
   "cell_type": "code",
   "execution_count": 62,
   "metadata": {},
   "outputs": [
    {
     "data": {
      "text/plain": [
       "1144.0364571092423"
      ]
     },
     "execution_count": 62,
     "metadata": {},
     "output_type": "execute_result"
    }
   ],
   "source": [
    "lr_score"
   ]
  },
  {
   "cell_type": "code",
   "execution_count": 63,
   "metadata": {},
   "outputs": [],
   "source": [
    "import seaborn as sns"
   ]
  },
  {
   "cell_type": "code",
   "execution_count": 64,
   "metadata": {},
   "outputs": [
    {
     "data": {
      "image/png": "[encoded data removed]",
      "text/plain": [
       "<Figure size 432x288 with 1 Axes>"
      ]
     },
     "metadata": {
      "needs_background": "light"
     },
     "output_type": "display_data"
    }
   ],
   "source": [
    "ax1 = sns.distplot(y_test,hist=False,color='r',label='Actual Value')\n",
    "sns.distplot(y_pred,hist=False,color='b',label='Predicted Value',ax=ax1)\n",
    "plt.show()"
   ]
  },
  {
   "cell_type": "code",
   "execution_count": 65,
   "metadata": {},
   "outputs": [],
   "source": [
    "from scipy.stats import zscore"
   ]
  },
  {
   "cell_type": "code",
   "execution_count": 66,
   "metadata": {},
   "outputs": [],
   "source": [
    "transform = pd.DataFrame(df1[['Item_Weight','Item_Visibility','Item_MRP','Item_Outlet_Sales']])"
   ]
  },
  {
   "cell_type": "code",
   "execution_count": 67,
   "metadata": {},
   "outputs": [
    {
     "data": {
      "text/html": [
       "<div>\n",
       "<style scoped>\n",
       "    .dataframe tbody tr th:only-of-type {\n",
       "        vertical-align: middle;\n",
       "    }\n",
       "\n",
       "    .dataframe tbody tr th {\n",
       "        vertical-align: top;\n",
       "    }\n",
       "\n",
       "    .dataframe thead th {\n",
       "        text-align: right;\n",
       "    }\n",
       "</style>\n",
       "<table border=\"1\" class=\"dataframe\">\n",
       "  <thead>\n",
       "    <tr style=\"text-align: right;\">\n",
       "      <th></th>\n",
       "      <th>Item_Weight</th>\n",
       "      <th>Item_Visibility</th>\n",
       "      <th>Item_MRP</th>\n",
       "      <th>Item_Outlet_Sales</th>\n",
       "    </tr>\n",
       "  </thead>\n",
       "  <tbody>\n",
       "    <tr>\n",
       "      <th>0</th>\n",
       "      <td>9.300</td>\n",
       "      <td>0.016047</td>\n",
       "      <td>249.8092</td>\n",
       "      <td>3735.1380</td>\n",
       "    </tr>\n",
       "    <tr>\n",
       "      <th>1</th>\n",
       "      <td>5.920</td>\n",
       "      <td>0.019278</td>\n",
       "      <td>48.2692</td>\n",
       "      <td>443.4228</td>\n",
       "    </tr>\n",
       "    <tr>\n",
       "      <th>2</th>\n",
       "      <td>17.500</td>\n",
       "      <td>0.016760</td>\n",
       "      <td>141.6180</td>\n",
       "      <td>2097.2700</td>\n",
       "    </tr>\n",
       "    <tr>\n",
       "      <th>3</th>\n",
       "      <td>19.200</td>\n",
       "      <td>0.000000</td>\n",
       "      <td>182.0950</td>\n",
       "      <td>732.3800</td>\n",
       "    </tr>\n",
       "    <tr>\n",
       "      <th>4</th>\n",
       "      <td>8.930</td>\n",
       "      <td>0.000000</td>\n",
       "      <td>53.8614</td>\n",
       "      <td>994.7052</td>\n",
       "    </tr>\n",
       "    <tr>\n",
       "      <th>...</th>\n",
       "      <td>...</td>\n",
       "      <td>...</td>\n",
       "      <td>...</td>\n",
       "      <td>...</td>\n",
       "    </tr>\n",
       "    <tr>\n",
       "      <th>8518</th>\n",
       "      <td>6.865</td>\n",
       "      <td>0.056783</td>\n",
       "      <td>214.5218</td>\n",
       "      <td>2778.3834</td>\n",
       "    </tr>\n",
       "    <tr>\n",
       "      <th>8519</th>\n",
       "      <td>8.380</td>\n",
       "      <td>0.046982</td>\n",
       "      <td>108.1570</td>\n",
       "      <td>549.2850</td>\n",
       "    </tr>\n",
       "    <tr>\n",
       "      <th>8520</th>\n",
       "      <td>10.600</td>\n",
       "      <td>0.035186</td>\n",
       "      <td>85.1224</td>\n",
       "      <td>1193.1136</td>\n",
       "    </tr>\n",
       "    <tr>\n",
       "      <th>8521</th>\n",
       "      <td>7.210</td>\n",
       "      <td>0.145221</td>\n",
       "      <td>103.1332</td>\n",
       "      <td>1845.5976</td>\n",
       "    </tr>\n",
       "    <tr>\n",
       "      <th>8522</th>\n",
       "      <td>14.800</td>\n",
       "      <td>0.044878</td>\n",
       "      <td>75.4670</td>\n",
       "      <td>765.6700</td>\n",
       "    </tr>\n",
       "  </tbody>\n",
       "</table>\n",
       "<p>8523 rows × 4 columns</p>\n",
       "</div>"
      ],
      "text/plain": [
       "      Item_Weight  Item_Visibility  Item_MRP  Item_Outlet_Sales\n",
       "0           9.300         0.016047  249.8092          3735.1380\n",
       "1           5.920         0.019278   48.2692           443.4228\n",
       "2          17.500         0.016760  141.6180          2097.2700\n",
       "3          19.200         0.000000  182.0950           732.3800\n",
       "4           8.930         0.000000   53.8614           994.7052\n",
       "...           ...              ...       ...                ...\n",
       "8518        6.865         0.056783  214.5218          2778.3834\n",
       "8519        8.380         0.046982  108.1570           549.2850\n",
       "8520       10.600         0.035186   85.1224          1193.1136\n",
       "8521        7.210         0.145221  103.1332          1845.5976\n",
       "8522       14.800         0.044878   75.4670           765.6700\n",
       "\n",
       "[8523 rows x 4 columns]"
      ]
     },
     "execution_count": 67,
     "metadata": {},
     "output_type": "execute_result"
    }
   ],
   "source": [
    "transform"
   ]
  },
  {
   "cell_type": "code",
   "execution_count": 68,
   "metadata": {},
   "outputs": [
    {
     "data": {
      "image/png": "[encoded data removed]",
      "text/plain": [
       "<Figure size 1152x360 with 4 Axes>"
      ]
     },
     "metadata": {
      "needs_background": "light"
     },
     "output_type": "display_data"
    }
   ],
   "source": [
    "fig,axes = plt.subplots(2,2,figsize=(16,5))\n",
    "transform['Item_Weight'].plot(kind='kde',ax=axes[0,0])\n",
    "transform['Item_Visibility'].plot(kind='kde',ax=axes[0,1])\n",
    "transform['Item_MRP'].plot(kind='kde',ax=axes[1,0])\n",
    "transform['Item_Outlet_Sales'].plot(kind='kde',ax=axes[1,1])\n",
    "plt.show()"
   ]
  },
  {
   "cell_type": "code",
   "execution_count": 69,
   "metadata": {},
   "outputs": [],
   "source": [
    "import statsmodels.api as sm"
   ]
  },
  {
   "cell_type": "code",
   "execution_count": 70,
   "metadata": {},
   "outputs": [
    {
     "data": {
      "text/html": [
       "<table class=\"simpletable\">\n",
       "<caption>OLS Regression Results</caption>\n",
       "<tr>\n",
       "  <th>Dep. Variable:</th>    <td>Item_Outlet_Sales</td> <th>  R-squared:         </th> <td>   0.564</td> \n",
       "</tr>\n",
       "<tr>\n",
       "  <th>Model:</th>                   <td>OLS</td>        <th>  Adj. R-squared:    </th> <td>   0.562</td> \n",
       "</tr>\n",
       "<tr>\n",
       "  <th>Method:</th>             <td>Least Squares</td>   <th>  F-statistic:       </th> <td>   392.0</td> \n",
       "</tr>\n",
       "<tr>\n",
       "  <th>Date:</th>             <td>Fri, 24 Jul 2020</td>  <th>  Prob (F-statistic):</th>  <td>  0.00</td>  \n",
       "</tr>\n",
       "<tr>\n",
       "  <th>Time:</th>                 <td>19:44:57</td>      <th>  Log-Likelihood:    </th> <td> -71988.</td> \n",
       "</tr>\n",
       "<tr>\n",
       "  <th>No. Observations:</th>      <td>  8523</td>       <th>  AIC:               </th> <td>1.440e+05</td>\n",
       "</tr>\n",
       "<tr>\n",
       "  <th>Df Residuals:</th>          <td>  8494</td>       <th>  BIC:               </th> <td>1.442e+05</td>\n",
       "</tr>\n",
       "<tr>\n",
       "  <th>Df Model:</th>              <td>    28</td>       <th>                     </th>     <td> </td>    \n",
       "</tr>\n",
       "<tr>\n",
       "  <th>Covariance Type:</th>      <td>nonrobust</td>     <th>                     </th>     <td> </td>    \n",
       "</tr>\n",
       "</table>\n",
       "<table class=\"simpletable\">\n",
       "<tr>\n",
       "           <td></td>             <th>coef</th>     <th>std err</th>      <th>t</th>      <th>P>|t|</th>  <th>[0.025</th>    <th>0.975]</th>  \n",
       "</tr>\n",
       "<tr>\n",
       "  <th>const</th>              <td> -514.9796</td> <td>   50.115</td> <td>  -10.276</td> <td> 0.000</td> <td> -613.217</td> <td> -416.742</td>\n",
       "</tr>\n",
       "<tr>\n",
       "  <th>Item_Weight</th>        <td>    0.0998</td> <td>    2.656</td> <td>    0.038</td> <td> 0.970</td> <td>   -5.107</td> <td>    5.307</td>\n",
       "</tr>\n",
       "<tr>\n",
       "  <th>Item_Visibility</th>    <td> -303.8378</td> <td>  248.711</td> <td>   -1.222</td> <td> 0.222</td> <td> -791.372</td> <td>  183.696</td>\n",
       "</tr>\n",
       "<tr>\n",
       "  <th>Item_MRP</th>           <td>   15.5645</td> <td>    0.198</td> <td>   78.735</td> <td> 0.000</td> <td>   15.177</td> <td>   15.952</td>\n",
       "</tr>\n",
       "<tr>\n",
       "  <th>Item_Fat_Content</th>   <td>   40.7388</td> <td>   28.231</td> <td>    1.443</td> <td> 0.149</td> <td>  -14.601</td> <td>   96.078</td>\n",
       "</tr>\n",
       "<tr>\n",
       "  <th>Snack Foods</th>        <td>    5.6309</td> <td>   84.057</td> <td>    0.067</td> <td> 0.947</td> <td> -159.142</td> <td>  170.403</td>\n",
       "</tr>\n",
       "<tr>\n",
       "  <th>Household</th>          <td>    7.2720</td> <td>  116.604</td> <td>    0.062</td> <td> 0.950</td> <td> -221.300</td> <td>  235.844</td>\n",
       "</tr>\n",
       "<tr>\n",
       "  <th>Frozen Foods</th>       <td>   25.5156</td> <td>   62.767</td> <td>    0.407</td> <td> 0.684</td> <td>  -97.522</td> <td>  148.553</td>\n",
       "</tr>\n",
       "<tr>\n",
       "  <th>Dairy</th>              <td>  -41.2797</td> <td>   62.232</td> <td>   -0.663</td> <td> 0.507</td> <td> -163.269</td> <td>   80.710</td>\n",
       "</tr>\n",
       "<tr>\n",
       "  <th>Canned</th>             <td>  -28.3080</td> <td>   58.864</td> <td>   -0.481</td> <td> 0.631</td> <td> -143.695</td> <td>   87.079</td>\n",
       "</tr>\n",
       "<tr>\n",
       "  <th>Baking Goods</th>       <td>   29.3298</td> <td>   54.967</td> <td>    0.534</td> <td> 0.594</td> <td>  -78.420</td> <td>  137.079</td>\n",
       "</tr>\n",
       "<tr>\n",
       "  <th>Health and Hygiene</th> <td>    0.2140</td> <td>   90.185</td> <td>    0.002</td> <td> 0.998</td> <td> -176.571</td> <td>  176.999</td>\n",
       "</tr>\n",
       "<tr>\n",
       "  <th>Soft Drinks</th>        <td>  -10.9986</td> <td>   68.008</td> <td>   -0.162</td> <td> 0.872</td> <td> -144.310</td> <td>  122.313</td>\n",
       "</tr>\n",
       "<tr>\n",
       "  <th>Meat</th>               <td>  -39.7840</td> <td>   59.946</td> <td>   -0.664</td> <td> 0.507</td> <td> -157.292</td> <td>   77.724</td>\n",
       "</tr>\n",
       "<tr>\n",
       "  <th>Breads</th>             <td>   -0.7242</td> <td>   70.647</td> <td>   -0.010</td> <td> 0.992</td> <td> -139.209</td> <td>  137.761</td>\n",
       "</tr>\n",
       "<tr>\n",
       "  <th>Hard Drinks</th>        <td>  -22.3407</td> <td>   98.643</td> <td>   -0.226</td> <td> 0.821</td> <td> -215.705</td> <td>  171.024</td>\n",
       "</tr>\n",
       "<tr>\n",
       "  <th>Others</th>             <td>  184.7365</td> <td>  148.004</td> <td>    1.248</td> <td> 0.212</td> <td> -105.387</td> <td>  474.860</td>\n",
       "</tr>\n",
       "<tr>\n",
       "  <th>Starchy Foods</th>      <td>  -11.7559</td> <td>   55.256</td> <td>   -0.213</td> <td> 0.832</td> <td> -120.071</td> <td>   96.559</td>\n",
       "</tr>\n",
       "<tr>\n",
       "  <th>Breakfast</th>          <td>  -27.4848</td> <td>   70.169</td> <td>   -0.392</td> <td> 0.695</td> <td> -165.032</td> <td>  110.063</td>\n",
       "</tr>\n",
       "<tr>\n",
       "  <th>Seafood</th>            <td>   20.6848</td> <td>  103.057</td> <td>    0.201</td> <td> 0.841</td> <td> -181.333</td> <td>  222.702</td>\n",
       "</tr>\n",
       "<tr>\n",
       "  <th>OUT013</th>             <td>   29.1273</td> <td>   16.067</td> <td>    1.813</td> <td> 0.070</td> <td>   -2.368</td> <td>   60.622</td>\n",
       "</tr>\n",
       "<tr>\n",
       "  <th>OUT035</th>             <td>   39.7831</td> <td>   15.747</td> <td>    2.526</td> <td> 0.012</td> <td>    8.914</td> <td>   70.652</td>\n",
       "</tr>\n",
       "<tr>\n",
       "  <th>OUT049</th>             <td>  104.6701</td> <td>   13.438</td> <td>    7.789</td> <td> 0.000</td> <td>   78.329</td> <td>  131.012</td>\n",
       "</tr>\n",
       "<tr>\n",
       "  <th>OUT046</th>             <td> -889.6751</td> <td>   31.110</td> <td>  -28.597</td> <td> 0.000</td> <td> -950.659</td> <td> -828.691</td>\n",
       "</tr>\n",
       "<tr>\n",
       "  <th>OUT045</th>             <td> 1020.4538</td> <td>   19.342</td> <td>   52.760</td> <td> 0.000</td> <td>  982.540</td> <td> 1058.368</td>\n",
       "</tr>\n",
       "<tr>\n",
       "  <th>OUT018</th>             <td>   59.5946</td> <td>   15.738</td> <td>    3.787</td> <td> 0.000</td> <td>   28.745</td> <td>   90.444</td>\n",
       "</tr>\n",
       "<tr>\n",
       "  <th>OUT017</th>             <td>  -47.2474</td> <td>   15.724</td> <td>   -3.005</td> <td> 0.003</td> <td>  -78.070</td> <td>  -16.424</td>\n",
       "</tr>\n",
       "<tr>\n",
       "  <th>OUT010</th>             <td>  217.2858</td> <td>   16.221</td> <td>   13.395</td> <td> 0.000</td> <td>  185.488</td> <td>  249.083</td>\n",
       "</tr>\n",
       "<tr>\n",
       "  <th>OUT019</th>             <td>  265.5973</td> <td>   16.219</td> <td>   16.375</td> <td> 0.000</td> <td>  233.803</td> <td>  297.391</td>\n",
       "</tr>\n",
       "<tr>\n",
       "  <th>1987</th>               <td>   29.1273</td> <td>   16.067</td> <td>    1.813</td> <td> 0.070</td> <td>   -2.368</td> <td>   60.622</td>\n",
       "</tr>\n",
       "<tr>\n",
       "  <th>1999</th>               <td>  217.2858</td> <td>   16.221</td> <td>   13.395</td> <td> 0.000</td> <td>  185.488</td> <td>  249.083</td>\n",
       "</tr>\n",
       "<tr>\n",
       "  <th>1997</th>               <td>-1314.5690</td> <td>   41.192</td> <td>  -31.913</td> <td> 0.000</td> <td>-1395.316</td> <td>-1233.822</td>\n",
       "</tr>\n",
       "<tr>\n",
       "  <th>2004</th>               <td>  265.5973</td> <td>   16.219</td> <td>   16.375</td> <td> 0.000</td> <td>  233.803</td> <td>  297.391</td>\n",
       "</tr>\n",
       "<tr>\n",
       "  <th>2002</th>               <td>  -47.2474</td> <td>   15.724</td> <td>   -3.005</td> <td> 0.003</td> <td>  -78.070</td> <td>  -16.424</td>\n",
       "</tr>\n",
       "<tr>\n",
       "  <th>2009</th>               <td>   59.5946</td> <td>   15.738</td> <td>    3.787</td> <td> 0.000</td> <td>   28.745</td> <td>   90.444</td>\n",
       "</tr>\n",
       "<tr>\n",
       "  <th>2007</th>               <td>   39.7831</td> <td>   15.747</td> <td>    2.526</td> <td> 0.012</td> <td>    8.914</td> <td>   70.652</td>\n",
       "</tr>\n",
       "<tr>\n",
       "  <th>1998</th>               <td>  104.6701</td> <td>   13.438</td> <td>    7.789</td> <td> 0.000</td> <td>   78.329</td> <td>  131.012</td>\n",
       "</tr>\n",
       "<tr>\n",
       "  <th>Tier 3</th>             <td> -406.7920</td> <td>   20.407</td> <td>  -19.934</td> <td> 0.000</td> <td> -446.795</td> <td> -366.789</td>\n",
       "</tr>\n",
       "<tr>\n",
       "  <th>Tier 2</th>             <td>   52.1303</td> <td>   12.933</td> <td>    4.031</td> <td> 0.000</td> <td>   26.778</td> <td>   77.482</td>\n",
       "</tr>\n",
       "<tr>\n",
       "  <th>Grocery Store</th>      <td>  564.1407</td> <td>   17.039</td> <td>   33.108</td> <td> 0.000</td> <td>  530.739</td> <td>  597.542</td>\n",
       "</tr>\n",
       "<tr>\n",
       "  <th>Supermarket Type3</th>  <td>  104.6701</td> <td>   13.438</td> <td>    7.789</td> <td> 0.000</td> <td>   78.329</td> <td>  131.012</td>\n",
       "</tr>\n",
       "<tr>\n",
       "  <th>Supermarket Type2</th>  <td> 1020.4538</td> <td>   19.342</td> <td>   52.760</td> <td> 0.000</td> <td>  982.540</td> <td> 1058.368</td>\n",
       "</tr>\n",
       "</table>\n",
       "<table class=\"simpletable\">\n",
       "<tr>\n",
       "  <th>Omnibus:</th>       <td>965.960</td> <th>  Durbin-Watson:     </th> <td>   2.004</td>\n",
       "</tr>\n",
       "<tr>\n",
       "  <th>Prob(Omnibus):</th> <td> 0.000</td>  <th>  Jarque-Bera (JB):  </th> <td>2312.644</td>\n",
       "</tr>\n",
       "<tr>\n",
       "  <th>Skew:</th>          <td> 0.669</td>  <th>  Prob(JB):          </th> <td>    0.00</td>\n",
       "</tr>\n",
       "<tr>\n",
       "  <th>Kurtosis:</th>      <td> 5.173</td>  <th>  Cond. No.          </th> <td>3.76e+16</td>\n",
       "</tr>\n",
       "</table><br/><br/>Warnings:<br/>[1] Standard Errors assume that the covariance matrix of the errors is correctly specified.<br/>[2] The smallest eigenvalue is 1.44e-25. This might indicate that there are<br/>strong multicollinearity problems or that the design matrix is singular."
      ],
      "text/plain": [
       "<class 'statsmodels.iolib.summary.Summary'>\n",
       "\"\"\"\n",
       "                            OLS Regression Results                            \n",
       "==============================================================================\n",
       "Dep. Variable:      Item_Outlet_Sales   R-squared:                       0.564\n",
       "Model:                            OLS   Adj. R-squared:                  0.562\n",
       "Method:                 Least Squares   F-statistic:                     392.0\n",
       "Date:                Fri, 24 Jul 2020   Prob (F-statistic):               0.00\n",
       "Time:                        19:44:57   Log-Likelihood:                -71988.\n",
       "No. Observations:                8523   AIC:                         1.440e+05\n",
       "Df Residuals:                    8494   BIC:                         1.442e+05\n",
       "Df Model:                          28                                         \n",
       "Covariance Type:            nonrobust                                         \n",
       "======================================================================================\n",
       "                         coef    std err          t      P>|t|      [0.025      0.975]\n",
       "--------------------------------------------------------------------------------------\n",
       "const               -514.9796     50.115    -10.276      0.000    -613.217    -416.742\n",
       "Item_Weight            0.0998      2.656      0.038      0.970      -5.107       5.307\n",
       "Item_Visibility     -303.8378    248.711     -1.222      0.222    -791.372     183.696\n",
       "Item_MRP              15.5645      0.198     78.735      0.000      15.177      15.952\n",
       "Item_Fat_Content      40.7388     28.231      1.443      0.149     -14.601      96.078\n",
       "Snack Foods            5.6309     84.057      0.067      0.947    -159.142     170.403\n",
       "Household              7.2720    116.604      0.062      0.950    -221.300     235.844\n",
       "Frozen Foods          25.5156     62.767      0.407      0.684     -97.522     148.553\n",
       "Dairy                -41.2797     62.232     -0.663      0.507    -163.269      80.710\n",
       "Canned               -28.3080     58.864     -0.481      0.631    -143.695      87.079\n",
       "Baking Goods          29.3298     54.967      0.534      0.594     -78.420     137.079\n",
       "Health and Hygiene     0.2140     90.185      0.002      0.998    -176.571     176.999\n",
       "Soft Drinks          -10.9986     68.008     -0.162      0.872    -144.310     122.313\n",
       "Meat                 -39.7840     59.946     -0.664      0.507    -157.292      77.724\n",
       "Breads                -0.7242     70.647     -0.010      0.992    -139.209     137.761\n",
       "Hard Drinks          -22.3407     98.643     -0.226      0.821    -215.705     171.024\n",
       "Others               184.7365    148.004      1.248      0.212    -105.387     474.860\n",
       "Starchy Foods        -11.7559     55.256     -0.213      0.832    -120.071      96.559\n",
       "Breakfast            -27.4848     70.169     -0.392      0.695    -165.032     110.063\n",
       "Seafood               20.6848    103.057      0.201      0.841    -181.333     222.702\n",
       "OUT013                29.1273     16.067      1.813      0.070      -2.368      60.622\n",
       "OUT035                39.7831     15.747      2.526      0.012       8.914      70.652\n",
       "OUT049               104.6701     13.438      7.789      0.000      78.329     131.012\n",
       "OUT046              -889.6751     31.110    -28.597      0.000    -950.659    -828.691\n",
       "OUT045              1020.4538     19.342     52.760      0.000     982.540    1058.368\n",
       "OUT018                59.5946     15.738      3.787      0.000      28.745      90.444\n",
       "OUT017               -47.2474     15.724     -3.005      0.003     -78.070     -16.424\n",
       "OUT010               217.2858     16.221     13.395      0.000     185.488     249.083\n",
       "OUT019               265.5973     16.219     16.375      0.000     233.803     297.391\n",
       "1987                  29.1273     16.067      1.813      0.070      -2.368      60.622\n",
       "1999                 217.2858     16.221     13.395      0.000     185.488     249.083\n",
       "1997               -1314.5690     41.192    -31.913      0.000   -1395.316   -1233.822\n",
       "2004                 265.5973     16.219     16.375      0.000     233.803     297.391\n",
       "2002                 -47.2474     15.724     -3.005      0.003     -78.070     -16.424\n",
       "2009                  59.5946     15.738      3.787      0.000      28.745      90.444\n",
       "2007                  39.7831     15.747      2.526      0.012       8.914      70.652\n",
       "1998                 104.6701     13.438      7.789      0.000      78.329     131.012\n",
       "Tier 3              -406.7920     20.407    -19.934      0.000    -446.795    -366.789\n",
       "Tier 2                52.1303     12.933      4.031      0.000      26.778      77.482\n",
       "Grocery Store        564.1407     17.039     33.108      0.000     530.739     597.542\n",
       "Supermarket Type3    104.6701     13.438      7.789      0.000      78.329     131.012\n",
       "Supermarket Type2   1020.4538     19.342     52.760      0.000     982.540    1058.368\n",
       "==============================================================================\n",
       "Omnibus:                      965.960   Durbin-Watson:                   2.004\n",
       "Prob(Omnibus):                  0.000   Jarque-Bera (JB):             2312.644\n",
       "Skew:                           0.669   Prob(JB):                         0.00\n",
       "Kurtosis:                       5.173   Cond. No.                     3.76e+16\n",
       "==============================================================================\n",
       "\n",
       "Warnings:\n",
       "[1] Standard Errors assume that the covariance matrix of the errors is correctly specified.\n",
       "[2] The smallest eigenvalue is 1.44e-25. This might indicate that there are\n",
       "strong multicollinearity problems or that the design matrix is singular.\n",
       "\"\"\""
      ]
     },
     "execution_count": 70,
     "metadata": {},
     "output_type": "execute_result"
    }
   ],
   "source": [
    "X_constant = sm.add_constant(X)\n",
    "mod = sm.OLS(y, X_constant).fit()\n",
    "predictions = mod.predict(X_constant)\n",
    "mod.summary()"
   ]
  },
  {
   "cell_type": "code",
   "execution_count": 71,
   "metadata": {},
   "outputs": [
    {
     "data": {
      "text/plain": [
       "0       -281.347490\n",
       "1       -114.880207\n",
       "2       -276.433965\n",
       "3       -344.269765\n",
       "4         87.857528\n",
       "           ...     \n",
       "8518    -639.627763\n",
       "8519   -1168.218914\n",
       "8520    -331.621225\n",
       "8521     455.773687\n",
       "8522    -446.231844\n",
       "Length: 8523, dtype: float64"
      ]
     },
     "execution_count": 71,
     "metadata": {},
     "output_type": "execute_result"
    }
   ],
   "source": [
    "sns.set(style='whitegrid')\n",
    "\n",
    "df1['prediction'] = mod.predict(X_constant)\n",
    "residuals = mod.resid\n",
    "residuals"
   ]
  },
  {
   "cell_type": "code",
   "execution_count": 72,
   "metadata": {},
   "outputs": [
    {
     "data": {
      "image/png": "[encoded data removed]",
      "text/plain": [
       "<Figure size 432x288 with 1 Axes>"
      ]
     },
     "metadata": {},
     "output_type": "display_data"
    }
   ],
   "source": [
    "ax = sns.residplot(df1.prediction,residuals,lowess=True,color='g')\n",
    "ax.set(xlabel = 'Fitted value', ylabel = 'Residual', title = 'Residual vs Fitted Plot \\n')\n",
    "plt.show()"
   ]
  },
  {
   "cell_type": "code",
   "execution_count": 73,
   "metadata": {},
   "outputs": [
    {
     "data": {
      "image/png": "[encoded data removed]",
      "text/plain": [
       "<Figure size 432x288 with 1 Axes>"
      ]
     },
     "metadata": {},
     "output_type": "display_data"
    }
   ],
   "source": [
    "sns.set(style = 'whitegrid')\n",
    "sns.distplot(residuals)\n",
    "plt.show()"
   ]
  },
  {
   "cell_type": "code",
   "execution_count": 74,
   "metadata": {},
   "outputs": [
    {
     "data": {
      "text/html": [
       "<div>\n",
       "<style scoped>\n",
       "    .dataframe tbody tr th:only-of-type {\n",
       "        vertical-align: middle;\n",
       "    }\n",
       "\n",
       "    .dataframe tbody tr th {\n",
       "        vertical-align: top;\n",
       "    }\n",
       "\n",
       "    .dataframe thead th {\n",
       "        text-align: right;\n",
       "    }\n",
       "</style>\n",
       "<table border=\"1\" class=\"dataframe\">\n",
       "  <thead>\n",
       "    <tr style=\"text-align: right;\">\n",
       "      <th></th>\n",
       "      <th>Item_Weight</th>\n",
       "      <th>Item_Visibility</th>\n",
       "      <th>Item_MRP</th>\n",
       "      <th>Item_Outlet_Sales</th>\n",
       "      <th>Item_Fat_Content</th>\n",
       "      <th>Snack Foods</th>\n",
       "      <th>Household</th>\n",
       "      <th>Frozen Foods</th>\n",
       "      <th>Dairy</th>\n",
       "      <th>Canned</th>\n",
       "      <th>...</th>\n",
       "      <th>2002</th>\n",
       "      <th>2009</th>\n",
       "      <th>2007</th>\n",
       "      <th>1998</th>\n",
       "      <th>Tier 3</th>\n",
       "      <th>Tier 2</th>\n",
       "      <th>Grocery Store</th>\n",
       "      <th>Supermarket Type3</th>\n",
       "      <th>Supermarket Type2</th>\n",
       "      <th>prediction</th>\n",
       "    </tr>\n",
       "  </thead>\n",
       "  <tbody>\n",
       "    <tr>\n",
       "      <th>0</th>\n",
       "      <td>9.300</td>\n",
       "      <td>0.016047</td>\n",
       "      <td>249.8092</td>\n",
       "      <td>3735.1380</td>\n",
       "      <td>0.0</td>\n",
       "      <td>0.0</td>\n",
       "      <td>0.0</td>\n",
       "      <td>0.0</td>\n",
       "      <td>1.0</td>\n",
       "      <td>0.0</td>\n",
       "      <td>...</td>\n",
       "      <td>0.0</td>\n",
       "      <td>0.0</td>\n",
       "      <td>0.0</td>\n",
       "      <td>0.0</td>\n",
       "      <td>1.0</td>\n",
       "      <td>0.0</td>\n",
       "      <td>1.0</td>\n",
       "      <td>0.0</td>\n",
       "      <td>0.0</td>\n",
       "      <td>4016.485490</td>\n",
       "    </tr>\n",
       "    <tr>\n",
       "      <th>1</th>\n",
       "      <td>5.920</td>\n",
       "      <td>0.019278</td>\n",
       "      <td>48.2692</td>\n",
       "      <td>443.4228</td>\n",
       "      <td>1.0</td>\n",
       "      <td>0.0</td>\n",
       "      <td>0.0</td>\n",
       "      <td>0.0</td>\n",
       "      <td>0.0</td>\n",
       "      <td>0.0</td>\n",
       "      <td>...</td>\n",
       "      <td>0.0</td>\n",
       "      <td>0.0</td>\n",
       "      <td>0.0</td>\n",
       "      <td>1.0</td>\n",
       "      <td>0.0</td>\n",
       "      <td>0.0</td>\n",
       "      <td>0.0</td>\n",
       "      <td>1.0</td>\n",
       "      <td>0.0</td>\n",
       "      <td>558.303007</td>\n",
       "    </tr>\n",
       "    <tr>\n",
       "      <th>2</th>\n",
       "      <td>17.500</td>\n",
       "      <td>0.016760</td>\n",
       "      <td>141.6180</td>\n",
       "      <td>2097.2700</td>\n",
       "      <td>0.0</td>\n",
       "      <td>0.0</td>\n",
       "      <td>0.0</td>\n",
       "      <td>0.0</td>\n",
       "      <td>0.0</td>\n",
       "      <td>0.0</td>\n",
       "      <td>...</td>\n",
       "      <td>0.0</td>\n",
       "      <td>0.0</td>\n",
       "      <td>0.0</td>\n",
       "      <td>0.0</td>\n",
       "      <td>1.0</td>\n",
       "      <td>0.0</td>\n",
       "      <td>1.0</td>\n",
       "      <td>0.0</td>\n",
       "      <td>0.0</td>\n",
       "      <td>2373.703965</td>\n",
       "    </tr>\n",
       "    <tr>\n",
       "      <th>3</th>\n",
       "      <td>19.200</td>\n",
       "      <td>0.000000</td>\n",
       "      <td>182.0950</td>\n",
       "      <td>732.3800</td>\n",
       "      <td>1.0</td>\n",
       "      <td>0.0</td>\n",
       "      <td>0.0</td>\n",
       "      <td>0.0</td>\n",
       "      <td>0.0</td>\n",
       "      <td>0.0</td>\n",
       "      <td>...</td>\n",
       "      <td>0.0</td>\n",
       "      <td>0.0</td>\n",
       "      <td>0.0</td>\n",
       "      <td>0.0</td>\n",
       "      <td>0.0</td>\n",
       "      <td>0.0</td>\n",
       "      <td>0.0</td>\n",
       "      <td>0.0</td>\n",
       "      <td>0.0</td>\n",
       "      <td>1076.649765</td>\n",
       "    </tr>\n",
       "    <tr>\n",
       "      <th>4</th>\n",
       "      <td>8.930</td>\n",
       "      <td>0.000000</td>\n",
       "      <td>53.8614</td>\n",
       "      <td>994.7052</td>\n",
       "      <td>0.0</td>\n",
       "      <td>0.0</td>\n",
       "      <td>0.0</td>\n",
       "      <td>0.0</td>\n",
       "      <td>0.0</td>\n",
       "      <td>0.0</td>\n",
       "      <td>...</td>\n",
       "      <td>0.0</td>\n",
       "      <td>0.0</td>\n",
       "      <td>0.0</td>\n",
       "      <td>0.0</td>\n",
       "      <td>0.0</td>\n",
       "      <td>0.0</td>\n",
       "      <td>1.0</td>\n",
       "      <td>0.0</td>\n",
       "      <td>0.0</td>\n",
       "      <td>906.847672</td>\n",
       "    </tr>\n",
       "    <tr>\n",
       "      <th>5</th>\n",
       "      <td>10.395</td>\n",
       "      <td>0.000000</td>\n",
       "      <td>51.4008</td>\n",
       "      <td>556.6088</td>\n",
       "      <td>1.0</td>\n",
       "      <td>0.0</td>\n",
       "      <td>0.0</td>\n",
       "      <td>0.0</td>\n",
       "      <td>0.0</td>\n",
       "      <td>0.0</td>\n",
       "      <td>...</td>\n",
       "      <td>0.0</td>\n",
       "      <td>0.0</td>\n",
       "      <td>0.0</td>\n",
       "      <td>1.0</td>\n",
       "      <td>0.0</td>\n",
       "      <td>0.0</td>\n",
       "      <td>0.0</td>\n",
       "      <td>1.0</td>\n",
       "      <td>0.0</td>\n",
       "      <td>640.833781</td>\n",
       "    </tr>\n",
       "    <tr>\n",
       "      <th>6</th>\n",
       "      <td>13.650</td>\n",
       "      <td>0.012741</td>\n",
       "      <td>57.6588</td>\n",
       "      <td>343.5528</td>\n",
       "      <td>1.0</td>\n",
       "      <td>0.0</td>\n",
       "      <td>0.0</td>\n",
       "      <td>0.0</td>\n",
       "      <td>0.0</td>\n",
       "      <td>0.0</td>\n",
       "      <td>...</td>\n",
       "      <td>0.0</td>\n",
       "      <td>0.0</td>\n",
       "      <td>0.0</td>\n",
       "      <td>0.0</td>\n",
       "      <td>0.0</td>\n",
       "      <td>0.0</td>\n",
       "      <td>1.0</td>\n",
       "      <td>0.0</td>\n",
       "      <td>0.0</td>\n",
       "      <td>1031.319050</td>\n",
       "    </tr>\n",
       "    <tr>\n",
       "      <th>7</th>\n",
       "      <td>19.000</td>\n",
       "      <td>0.127470</td>\n",
       "      <td>107.7622</td>\n",
       "      <td>4022.7636</td>\n",
       "      <td>0.0</td>\n",
       "      <td>0.0</td>\n",
       "      <td>0.0</td>\n",
       "      <td>0.0</td>\n",
       "      <td>0.0</td>\n",
       "      <td>0.0</td>\n",
       "      <td>...</td>\n",
       "      <td>0.0</td>\n",
       "      <td>0.0</td>\n",
       "      <td>0.0</td>\n",
       "      <td>0.0</td>\n",
       "      <td>0.0</td>\n",
       "      <td>0.0</td>\n",
       "      <td>0.0</td>\n",
       "      <td>0.0</td>\n",
       "      <td>1.0</td>\n",
       "      <td>3154.600679</td>\n",
       "    </tr>\n",
       "    <tr>\n",
       "      <th>8</th>\n",
       "      <td>16.200</td>\n",
       "      <td>0.016687</td>\n",
       "      <td>96.9726</td>\n",
       "      <td>1076.5986</td>\n",
       "      <td>1.0</td>\n",
       "      <td>0.0</td>\n",
       "      <td>0.0</td>\n",
       "      <td>0.0</td>\n",
       "      <td>0.0</td>\n",
       "      <td>1.0</td>\n",
       "      <td>...</td>\n",
       "      <td>1.0</td>\n",
       "      <td>0.0</td>\n",
       "      <td>0.0</td>\n",
       "      <td>0.0</td>\n",
       "      <td>0.0</td>\n",
       "      <td>1.0</td>\n",
       "      <td>1.0</td>\n",
       "      <td>0.0</td>\n",
       "      <td>0.0</td>\n",
       "      <td>1525.102194</td>\n",
       "    </tr>\n",
       "    <tr>\n",
       "      <th>9</th>\n",
       "      <td>19.200</td>\n",
       "      <td>0.094450</td>\n",
       "      <td>187.8214</td>\n",
       "      <td>4710.5350</td>\n",
       "      <td>1.0</td>\n",
       "      <td>0.0</td>\n",
       "      <td>0.0</td>\n",
       "      <td>0.0</td>\n",
       "      <td>0.0</td>\n",
       "      <td>1.0</td>\n",
       "      <td>...</td>\n",
       "      <td>0.0</td>\n",
       "      <td>0.0</td>\n",
       "      <td>1.0</td>\n",
       "      <td>0.0</td>\n",
       "      <td>0.0</td>\n",
       "      <td>1.0</td>\n",
       "      <td>1.0</td>\n",
       "      <td>0.0</td>\n",
       "      <td>0.0</td>\n",
       "      <td>3089.849290</td>\n",
       "    </tr>\n",
       "    <tr>\n",
       "      <th>10</th>\n",
       "      <td>11.800</td>\n",
       "      <td>0.000000</td>\n",
       "      <td>45.5402</td>\n",
       "      <td>1516.0266</td>\n",
       "      <td>0.0</td>\n",
       "      <td>0.0</td>\n",
       "      <td>0.0</td>\n",
       "      <td>0.0</td>\n",
       "      <td>0.0</td>\n",
       "      <td>0.0</td>\n",
       "      <td>...</td>\n",
       "      <td>0.0</td>\n",
       "      <td>0.0</td>\n",
       "      <td>0.0</td>\n",
       "      <td>0.0</td>\n",
       "      <td>1.0</td>\n",
       "      <td>0.0</td>\n",
       "      <td>1.0</td>\n",
       "      <td>0.0</td>\n",
       "      <td>0.0</td>\n",
       "      <td>912.880882</td>\n",
       "    </tr>\n",
       "  </tbody>\n",
       "</table>\n",
       "<p>11 rows × 43 columns</p>\n",
       "</div>"
      ],
      "text/plain": [
       "    Item_Weight  Item_Visibility  Item_MRP  Item_Outlet_Sales  \\\n",
       "0         9.300         0.016047  249.8092          3735.1380   \n",
       "1         5.920         0.019278   48.2692           443.4228   \n",
       "2        17.500         0.016760  141.6180          2097.2700   \n",
       "3        19.200         0.000000  182.0950           732.3800   \n",
       "4         8.930         0.000000   53.8614           994.7052   \n",
       "5        10.395         0.000000   51.4008           556.6088   \n",
       "6        13.650         0.012741   57.6588           343.5528   \n",
       "7        19.000         0.127470  107.7622          4022.7636   \n",
       "8        16.200         0.016687   96.9726          1076.5986   \n",
       "9        19.200         0.094450  187.8214          4710.5350   \n",
       "10       11.800         0.000000   45.5402          1516.0266   \n",
       "\n",
       "    Item_Fat_Content  Snack Foods  Household  Frozen Foods  Dairy  Canned  \\\n",
       "0                0.0          0.0        0.0           0.0    1.0     0.0   \n",
       "1                1.0          0.0        0.0           0.0    0.0     0.0   \n",
       "2                0.0          0.0        0.0           0.0    0.0     0.0   \n",
       "3                1.0          0.0        0.0           0.0    0.0     0.0   \n",
       "4                0.0          0.0        0.0           0.0    0.0     0.0   \n",
       "5                1.0          0.0        0.0           0.0    0.0     0.0   \n",
       "6                1.0          0.0        0.0           0.0    0.0     0.0   \n",
       "7                0.0          0.0        0.0           0.0    0.0     0.0   \n",
       "8                1.0          0.0        0.0           0.0    0.0     1.0   \n",
       "9                1.0          0.0        0.0           0.0    0.0     1.0   \n",
       "10               0.0          0.0        0.0           0.0    0.0     0.0   \n",
       "\n",
       "    ...  2002  2009  2007  1998  Tier 3  Tier 2  Grocery Store  \\\n",
       "0   ...   0.0   0.0   0.0   0.0     1.0     0.0            1.0   \n",
       "1   ...   0.0   0.0   0.0   1.0     0.0     0.0            0.0   \n",
       "2   ...   0.0   0.0   0.0   0.0     1.0     0.0            1.0   \n",
       "3   ...   0.0   0.0   0.0   0.0     0.0     0.0            0.0   \n",
       "4   ...   0.0   0.0   0.0   0.0     0.0     0.0            1.0   \n",
       "5   ...   0.0   0.0   0.0   1.0     0.0     0.0            0.0   \n",
       "6   ...   0.0   0.0   0.0   0.0     0.0     0.0            1.0   \n",
       "7   ...   0.0   0.0   0.0   0.0     0.0     0.0            0.0   \n",
       "8   ...   1.0   0.0   0.0   0.0     0.0     1.0            1.0   \n",
       "9   ...   0.0   0.0   1.0   0.0     0.0     1.0            1.0   \n",
       "10  ...   0.0   0.0   0.0   0.0     1.0     0.0            1.0   \n",
       "\n",
       "    Supermarket Type3  Supermarket Type2   prediction  \n",
       "0                 0.0                0.0  4016.485490  \n",
       "1                 1.0                0.0   558.303007  \n",
       "2                 0.0                0.0  2373.703965  \n",
       "3                 0.0                0.0  1076.649765  \n",
       "4                 0.0                0.0   906.847672  \n",
       "5                 1.0                0.0   640.833781  \n",
       "6                 0.0                0.0  1031.319050  \n",
       "7                 0.0                1.0  3154.600679  \n",
       "8                 0.0                0.0  1525.102194  \n",
       "9                 0.0                0.0  3089.849290  \n",
       "10                0.0                0.0   912.880882  \n",
       "\n",
       "[11 rows x 43 columns]"
      ]
     },
     "execution_count": 74,
     "metadata": {},
     "output_type": "execute_result"
    }
   ],
   "source": [
    "df1[:11]"
   ]
  },
  {
   "cell_type": "code",
   "execution_count": 75,
   "metadata": {},
   "outputs": [],
   "source": [
    "transform['Item_Outlet_Sales'] = df1['Item_Outlet_Sales']"
   ]
  },
  {
   "cell_type": "code",
   "execution_count": 76,
   "metadata": {},
   "outputs": [],
   "source": [
    "z_score = transform.apply(zscore)"
   ]
  },
  {
   "cell_type": "code",
   "execution_count": 77,
   "metadata": {},
   "outputs": [
    {
     "data": {
      "text/html": [
       "<div>\n",
       "<style scoped>\n",
       "    .dataframe tbody tr th:only-of-type {\n",
       "        vertical-align: middle;\n",
       "    }\n",
       "\n",
       "    .dataframe tbody tr th {\n",
       "        vertical-align: top;\n",
       "    }\n",
       "\n",
       "    .dataframe thead th {\n",
       "        text-align: right;\n",
       "    }\n",
       "</style>\n",
       "<table border=\"1\" class=\"dataframe\">\n",
       "  <thead>\n",
       "    <tr style=\"text-align: right;\">\n",
       "      <th></th>\n",
       "      <th>Item_Weight</th>\n",
       "      <th>Item_Visibility</th>\n",
       "      <th>Item_MRP</th>\n",
       "      <th>Item_Outlet_Sales</th>\n",
       "    </tr>\n",
       "  </thead>\n",
       "  <tbody>\n",
       "    <tr>\n",
       "      <th>0</th>\n",
       "      <td>-0.769763</td>\n",
       "      <td>-0.970732</td>\n",
       "      <td>1.747454</td>\n",
       "      <td>0.910601</td>\n",
       "    </tr>\n",
       "    <tr>\n",
       "      <th>1</th>\n",
       "      <td>-1.497465</td>\n",
       "      <td>-0.908111</td>\n",
       "      <td>-1.489023</td>\n",
       "      <td>-1.018440</td>\n",
       "    </tr>\n",
       "    <tr>\n",
       "      <th>2</th>\n",
       "      <td>0.995668</td>\n",
       "      <td>-0.956917</td>\n",
       "      <td>0.010040</td>\n",
       "      <td>-0.049238</td>\n",
       "    </tr>\n",
       "    <tr>\n",
       "      <th>3</th>\n",
       "      <td>1.361672</td>\n",
       "      <td>-1.281758</td>\n",
       "      <td>0.660050</td>\n",
       "      <td>-0.849103</td>\n",
       "    </tr>\n",
       "    <tr>\n",
       "      <th>4</th>\n",
       "      <td>-0.849422</td>\n",
       "      <td>-1.281758</td>\n",
       "      <td>-1.399220</td>\n",
       "      <td>-0.695373</td>\n",
       "    </tr>\n",
       "    <tr>\n",
       "      <th>...</th>\n",
       "      <td>...</td>\n",
       "      <td>...</td>\n",
       "      <td>...</td>\n",
       "      <td>...</td>\n",
       "    </tr>\n",
       "    <tr>\n",
       "      <th>8518</th>\n",
       "      <td>-1.294010</td>\n",
       "      <td>-0.181193</td>\n",
       "      <td>1.180783</td>\n",
       "      <td>0.349915</td>\n",
       "    </tr>\n",
       "    <tr>\n",
       "      <th>8519</th>\n",
       "      <td>-0.967835</td>\n",
       "      <td>-0.371154</td>\n",
       "      <td>-0.527301</td>\n",
       "      <td>-0.956402</td>\n",
       "    </tr>\n",
       "    <tr>\n",
       "      <th>8520</th>\n",
       "      <td>-0.489877</td>\n",
       "      <td>-0.599784</td>\n",
       "      <td>-0.897208</td>\n",
       "      <td>-0.579100</td>\n",
       "    </tr>\n",
       "    <tr>\n",
       "      <th>8521</th>\n",
       "      <td>-1.219732</td>\n",
       "      <td>1.532880</td>\n",
       "      <td>-0.607977</td>\n",
       "      <td>-0.196725</td>\n",
       "    </tr>\n",
       "    <tr>\n",
       "      <th>8522</th>\n",
       "      <td>0.414368</td>\n",
       "      <td>-0.411936</td>\n",
       "      <td>-1.052261</td>\n",
       "      <td>-0.829594</td>\n",
       "    </tr>\n",
       "  </tbody>\n",
       "</table>\n",
       "<p>8523 rows × 4 columns</p>\n",
       "</div>"
      ],
      "text/plain": [
       "      Item_Weight  Item_Visibility  Item_MRP  Item_Outlet_Sales\n",
       "0       -0.769763        -0.970732  1.747454           0.910601\n",
       "1       -1.497465        -0.908111 -1.489023          -1.018440\n",
       "2        0.995668        -0.956917  0.010040          -0.049238\n",
       "3        1.361672        -1.281758  0.660050          -0.849103\n",
       "4       -0.849422        -1.281758 -1.399220          -0.695373\n",
       "...           ...              ...       ...                ...\n",
       "8518    -1.294010        -0.181193  1.180783           0.349915\n",
       "8519    -0.967835        -0.371154 -0.527301          -0.956402\n",
       "8520    -0.489877        -0.599784 -0.897208          -0.579100\n",
       "8521    -1.219732         1.532880 -0.607977          -0.196725\n",
       "8522     0.414368        -0.411936 -1.052261          -0.829594\n",
       "\n",
       "[8523 rows x 4 columns]"
      ]
     },
     "execution_count": 77,
     "metadata": {},
     "output_type": "execute_result"
    }
   ],
   "source": [
    "z_score"
   ]
  },
  {
   "cell_type": "code",
   "execution_count": 78,
   "metadata": {},
   "outputs": [],
   "source": [
    "df1.drop(['Item_Weight','Item_Visibility','Item_MRP','Item_Outlet_Sales'],axis=1,inplace=True)"
   ]
  },
  {
   "cell_type": "code",
   "execution_count": 79,
   "metadata": {},
   "outputs": [],
   "source": [
    "df1 = df1.join(z_score)"
   ]
  },
  {
   "cell_type": "code",
   "execution_count": 80,
   "metadata": {},
   "outputs": [
    {
     "data": {
      "text/html": [
       "<div>\n",
       "<style scoped>\n",
       "    .dataframe tbody tr th:only-of-type {\n",
       "        vertical-align: middle;\n",
       "    }\n",
       "\n",
       "    .dataframe tbody tr th {\n",
       "        vertical-align: top;\n",
       "    }\n",
       "\n",
       "    .dataframe thead th {\n",
       "        text-align: right;\n",
       "    }\n",
       "</style>\n",
       "<table border=\"1\" class=\"dataframe\">\n",
       "  <thead>\n",
       "    <tr style=\"text-align: right;\">\n",
       "      <th></th>\n",
       "      <th>Item_Fat_Content</th>\n",
       "      <th>Snack Foods</th>\n",
       "      <th>Household</th>\n",
       "      <th>Frozen Foods</th>\n",
       "      <th>Dairy</th>\n",
       "      <th>Canned</th>\n",
       "      <th>Baking Goods</th>\n",
       "      <th>Health and Hygiene</th>\n",
       "      <th>Soft Drinks</th>\n",
       "      <th>Meat</th>\n",
       "      <th>...</th>\n",
       "      <th>Tier 3</th>\n",
       "      <th>Tier 2</th>\n",
       "      <th>Grocery Store</th>\n",
       "      <th>Supermarket Type3</th>\n",
       "      <th>Supermarket Type2</th>\n",
       "      <th>prediction</th>\n",
       "      <th>Item_Weight</th>\n",
       "      <th>Item_Visibility</th>\n",
       "      <th>Item_MRP</th>\n",
       "      <th>Item_Outlet_Sales</th>\n",
       "    </tr>\n",
       "  </thead>\n",
       "  <tbody>\n",
       "    <tr>\n",
       "      <th>0</th>\n",
       "      <td>0.0</td>\n",
       "      <td>0.0</td>\n",
       "      <td>0.0</td>\n",
       "      <td>0.0</td>\n",
       "      <td>1.0</td>\n",
       "      <td>0.0</td>\n",
       "      <td>0.0</td>\n",
       "      <td>0.0</td>\n",
       "      <td>0.0</td>\n",
       "      <td>0.0</td>\n",
       "      <td>...</td>\n",
       "      <td>1.0</td>\n",
       "      <td>0.0</td>\n",
       "      <td>1.0</td>\n",
       "      <td>0.0</td>\n",
       "      <td>0.0</td>\n",
       "      <td>4016.485490</td>\n",
       "      <td>-0.769763</td>\n",
       "      <td>-0.970732</td>\n",
       "      <td>1.747454</td>\n",
       "      <td>0.910601</td>\n",
       "    </tr>\n",
       "    <tr>\n",
       "      <th>1</th>\n",
       "      <td>1.0</td>\n",
       "      <td>0.0</td>\n",
       "      <td>0.0</td>\n",
       "      <td>0.0</td>\n",
       "      <td>0.0</td>\n",
       "      <td>0.0</td>\n",
       "      <td>0.0</td>\n",
       "      <td>0.0</td>\n",
       "      <td>0.0</td>\n",
       "      <td>0.0</td>\n",
       "      <td>...</td>\n",
       "      <td>0.0</td>\n",
       "      <td>0.0</td>\n",
       "      <td>0.0</td>\n",
       "      <td>1.0</td>\n",
       "      <td>0.0</td>\n",
       "      <td>558.303007</td>\n",
       "      <td>-1.497465</td>\n",
       "      <td>-0.908111</td>\n",
       "      <td>-1.489023</td>\n",
       "      <td>-1.018440</td>\n",
       "    </tr>\n",
       "    <tr>\n",
       "      <th>2</th>\n",
       "      <td>0.0</td>\n",
       "      <td>0.0</td>\n",
       "      <td>0.0</td>\n",
       "      <td>0.0</td>\n",
       "      <td>0.0</td>\n",
       "      <td>0.0</td>\n",
       "      <td>0.0</td>\n",
       "      <td>0.0</td>\n",
       "      <td>0.0</td>\n",
       "      <td>0.0</td>\n",
       "      <td>...</td>\n",
       "      <td>1.0</td>\n",
       "      <td>0.0</td>\n",
       "      <td>1.0</td>\n",
       "      <td>0.0</td>\n",
       "      <td>0.0</td>\n",
       "      <td>2373.703965</td>\n",
       "      <td>0.995668</td>\n",
       "      <td>-0.956917</td>\n",
       "      <td>0.010040</td>\n",
       "      <td>-0.049238</td>\n",
       "    </tr>\n",
       "    <tr>\n",
       "      <th>3</th>\n",
       "      <td>1.0</td>\n",
       "      <td>0.0</td>\n",
       "      <td>0.0</td>\n",
       "      <td>0.0</td>\n",
       "      <td>0.0</td>\n",
       "      <td>0.0</td>\n",
       "      <td>1.0</td>\n",
       "      <td>0.0</td>\n",
       "      <td>0.0</td>\n",
       "      <td>0.0</td>\n",
       "      <td>...</td>\n",
       "      <td>0.0</td>\n",
       "      <td>0.0</td>\n",
       "      <td>0.0</td>\n",
       "      <td>0.0</td>\n",
       "      <td>0.0</td>\n",
       "      <td>1076.649765</td>\n",
       "      <td>1.361672</td>\n",
       "      <td>-1.281758</td>\n",
       "      <td>0.660050</td>\n",
       "      <td>-0.849103</td>\n",
       "    </tr>\n",
       "    <tr>\n",
       "      <th>4</th>\n",
       "      <td>0.0</td>\n",
       "      <td>0.0</td>\n",
       "      <td>0.0</td>\n",
       "      <td>0.0</td>\n",
       "      <td>0.0</td>\n",
       "      <td>0.0</td>\n",
       "      <td>0.0</td>\n",
       "      <td>0.0</td>\n",
       "      <td>0.0</td>\n",
       "      <td>1.0</td>\n",
       "      <td>...</td>\n",
       "      <td>0.0</td>\n",
       "      <td>0.0</td>\n",
       "      <td>1.0</td>\n",
       "      <td>0.0</td>\n",
       "      <td>0.0</td>\n",
       "      <td>906.847672</td>\n",
       "      <td>-0.849422</td>\n",
       "      <td>-1.281758</td>\n",
       "      <td>-1.399220</td>\n",
       "      <td>-0.695373</td>\n",
       "    </tr>\n",
       "    <tr>\n",
       "      <th>...</th>\n",
       "      <td>...</td>\n",
       "      <td>...</td>\n",
       "      <td>...</td>\n",
       "      <td>...</td>\n",
       "      <td>...</td>\n",
       "      <td>...</td>\n",
       "      <td>...</td>\n",
       "      <td>...</td>\n",
       "      <td>...</td>\n",
       "      <td>...</td>\n",
       "      <td>...</td>\n",
       "      <td>...</td>\n",
       "      <td>...</td>\n",
       "      <td>...</td>\n",
       "      <td>...</td>\n",
       "      <td>...</td>\n",
       "      <td>...</td>\n",
       "      <td>...</td>\n",
       "      <td>...</td>\n",
       "      <td>...</td>\n",
       "      <td>...</td>\n",
       "    </tr>\n",
       "    <tr>\n",
       "      <th>8518</th>\n",
       "      <td>0.0</td>\n",
       "      <td>0.0</td>\n",
       "      <td>0.0</td>\n",
       "      <td>0.0</td>\n",
       "      <td>0.0</td>\n",
       "      <td>0.0</td>\n",
       "      <td>0.0</td>\n",
       "      <td>0.0</td>\n",
       "      <td>0.0</td>\n",
       "      <td>0.0</td>\n",
       "      <td>...</td>\n",
       "      <td>0.0</td>\n",
       "      <td>0.0</td>\n",
       "      <td>1.0</td>\n",
       "      <td>0.0</td>\n",
       "      <td>0.0</td>\n",
       "      <td>3418.011163</td>\n",
       "      <td>-1.294010</td>\n",
       "      <td>-0.181193</td>\n",
       "      <td>1.180783</td>\n",
       "      <td>0.349915</td>\n",
       "    </tr>\n",
       "    <tr>\n",
       "      <th>8519</th>\n",
       "      <td>1.0</td>\n",
       "      <td>0.0</td>\n",
       "      <td>0.0</td>\n",
       "      <td>0.0</td>\n",
       "      <td>0.0</td>\n",
       "      <td>0.0</td>\n",
       "      <td>0.0</td>\n",
       "      <td>0.0</td>\n",
       "      <td>0.0</td>\n",
       "      <td>0.0</td>\n",
       "      <td>...</td>\n",
       "      <td>0.0</td>\n",
       "      <td>1.0</td>\n",
       "      <td>1.0</td>\n",
       "      <td>0.0</td>\n",
       "      <td>0.0</td>\n",
       "      <td>1717.503914</td>\n",
       "      <td>-0.967835</td>\n",
       "      <td>-0.371154</td>\n",
       "      <td>-0.527301</td>\n",
       "      <td>-0.956402</td>\n",
       "    </tr>\n",
       "    <tr>\n",
       "      <th>8520</th>\n",
       "      <td>0.0</td>\n",
       "      <td>0.0</td>\n",
       "      <td>0.0</td>\n",
       "      <td>0.0</td>\n",
       "      <td>0.0</td>\n",
       "      <td>0.0</td>\n",
       "      <td>0.0</td>\n",
       "      <td>0.0</td>\n",
       "      <td>1.0</td>\n",
       "      <td>0.0</td>\n",
       "      <td>...</td>\n",
       "      <td>0.0</td>\n",
       "      <td>1.0</td>\n",
       "      <td>1.0</td>\n",
       "      <td>0.0</td>\n",
       "      <td>0.0</td>\n",
       "      <td>1524.734825</td>\n",
       "      <td>-0.489877</td>\n",
       "      <td>-0.599784</td>\n",
       "      <td>-0.897208</td>\n",
       "      <td>-0.579100</td>\n",
       "    </tr>\n",
       "    <tr>\n",
       "      <th>8521</th>\n",
       "      <td>1.0</td>\n",
       "      <td>0.0</td>\n",
       "      <td>0.0</td>\n",
       "      <td>0.0</td>\n",
       "      <td>0.0</td>\n",
       "      <td>0.0</td>\n",
       "      <td>0.0</td>\n",
       "      <td>0.0</td>\n",
       "      <td>0.0</td>\n",
       "      <td>0.0</td>\n",
       "      <td>...</td>\n",
       "      <td>0.0</td>\n",
       "      <td>0.0</td>\n",
       "      <td>0.0</td>\n",
       "      <td>1.0</td>\n",
       "      <td>0.0</td>\n",
       "      <td>1389.823913</td>\n",
       "      <td>-1.219732</td>\n",
       "      <td>1.532880</td>\n",
       "      <td>-0.607977</td>\n",
       "      <td>-0.196725</td>\n",
       "    </tr>\n",
       "    <tr>\n",
       "      <th>8522</th>\n",
       "      <td>0.0</td>\n",
       "      <td>0.0</td>\n",
       "      <td>0.0</td>\n",
       "      <td>0.0</td>\n",
       "      <td>0.0</td>\n",
       "      <td>0.0</td>\n",
       "      <td>0.0</td>\n",
       "      <td>0.0</td>\n",
       "      <td>0.0</td>\n",
       "      <td>0.0</td>\n",
       "      <td>...</td>\n",
       "      <td>1.0</td>\n",
       "      <td>0.0</td>\n",
       "      <td>1.0</td>\n",
       "      <td>0.0</td>\n",
       "      <td>0.0</td>\n",
       "      <td>1211.901844</td>\n",
       "      <td>0.414368</td>\n",
       "      <td>-0.411936</td>\n",
       "      <td>-1.052261</td>\n",
       "      <td>-0.829594</td>\n",
       "    </tr>\n",
       "  </tbody>\n",
       "</table>\n",
       "<p>8523 rows × 43 columns</p>\n",
       "</div>"
      ],
      "text/plain": [
       "      Item_Fat_Content  Snack Foods  Household  Frozen Foods  Dairy  Canned  \\\n",
       "0                  0.0          0.0        0.0           0.0    1.0     0.0   \n",
       "1                  1.0          0.0        0.0           0.0    0.0     0.0   \n",
       "2                  0.0          0.0        0.0           0.0    0.0     0.0   \n",
       "3                  1.0          0.0        0.0           0.0    0.0     0.0   \n",
       "4                  0.0          0.0        0.0           0.0    0.0     0.0   \n",
       "...                ...          ...        ...           ...    ...     ...   \n",
       "8518               0.0          0.0        0.0           0.0    0.0     0.0   \n",
       "8519               1.0          0.0        0.0           0.0    0.0     0.0   \n",
       "8520               0.0          0.0        0.0           0.0    0.0     0.0   \n",
       "8521               1.0          0.0        0.0           0.0    0.0     0.0   \n",
       "8522               0.0          0.0        0.0           0.0    0.0     0.0   \n",
       "\n",
       "      Baking Goods  Health and Hygiene  Soft Drinks  Meat  ...  Tier 3  \\\n",
       "0              0.0                 0.0          0.0   0.0  ...     1.0   \n",
       "1              0.0                 0.0          0.0   0.0  ...     0.0   \n",
       "2              0.0                 0.0          0.0   0.0  ...     1.0   \n",
       "3              1.0                 0.0          0.0   0.0  ...     0.0   \n",
       "4              0.0                 0.0          0.0   1.0  ...     0.0   \n",
       "...            ...                 ...          ...   ...  ...     ...   \n",
       "8518           0.0                 0.0          0.0   0.0  ...     0.0   \n",
       "8519           0.0                 0.0          0.0   0.0  ...     0.0   \n",
       "8520           0.0                 0.0          1.0   0.0  ...     0.0   \n",
       "8521           0.0                 0.0          0.0   0.0  ...     0.0   \n",
       "8522           0.0                 0.0          0.0   0.0  ...     1.0   \n",
       "\n",
       "      Tier 2  Grocery Store  Supermarket Type3  Supermarket Type2  \\\n",
       "0        0.0            1.0                0.0                0.0   \n",
       "1        0.0            0.0                1.0                0.0   \n",
       "2        0.0            1.0                0.0                0.0   \n",
       "3        0.0            0.0                0.0                0.0   \n",
       "4        0.0            1.0                0.0                0.0   \n",
       "...      ...            ...                ...                ...   \n",
       "8518     0.0            1.0                0.0                0.0   \n",
       "8519     1.0            1.0                0.0                0.0   \n",
       "8520     1.0            1.0                0.0                0.0   \n",
       "8521     0.0            0.0                1.0                0.0   \n",
       "8522     0.0            1.0                0.0                0.0   \n",
       "\n",
       "       prediction  Item_Weight  Item_Visibility  Item_MRP  Item_Outlet_Sales  \n",
       "0     4016.485490    -0.769763        -0.970732  1.747454           0.910601  \n",
       "1      558.303007    -1.497465        -0.908111 -1.489023          -1.018440  \n",
       "2     2373.703965     0.995668        -0.956917  0.010040          -0.049238  \n",
       "3     1076.649765     1.361672        -1.281758  0.660050          -0.849103  \n",
       "4      906.847672    -0.849422        -1.281758 -1.399220          -0.695373  \n",
       "...           ...          ...              ...       ...                ...  \n",
       "8518  3418.011163    -1.294010        -0.181193  1.180783           0.349915  \n",
       "8519  1717.503914    -0.967835        -0.371154 -0.527301          -0.956402  \n",
       "8520  1524.734825    -0.489877        -0.599784 -0.897208          -0.579100  \n",
       "8521  1389.823913    -1.219732         1.532880 -0.607977          -0.196725  \n",
       "8522  1211.901844     0.414368        -0.411936 -1.052261          -0.829594  \n",
       "\n",
       "[8523 rows x 43 columns]"
      ]
     },
     "execution_count": 80,
     "metadata": {},
     "output_type": "execute_result"
    }
   ],
   "source": [
    "df1"
   ]
  },
  {
   "cell_type": "code",
   "execution_count": 81,
   "metadata": {},
   "outputs": [
    {
     "data": {
      "image/png": "[encoded data removed]",
      "text/plain": [
       "<Figure size 1152x360 with 4 Axes>"
      ]
     },
     "metadata": {},
     "output_type": "display_data"
    }
   ],
   "source": [
    "fig,axes = plt.subplots(2,2,figsize=(16,5))\n",
    "df1['Item_Weight'].plot(kind='kde',ax=axes[0,0])\n",
    "df1['Item_Visibility'].plot(kind='kde',ax=axes[0,1])\n",
    "df1['Item_MRP'].plot(kind='kde',ax=axes[1,0])\n",
    "df1['Item_Outlet_Sales'].plot(kind='kde',ax=axes[1,1])\n",
    "plt.show()"
   ]
  },
  {
   "cell_type": "code",
   "execution_count": 82,
   "metadata": {},
   "outputs": [],
   "source": [
    "from sklearn.feature_selection import RFE"
   ]
  },
  {
   "cell_type": "code",
   "execution_count": 83,
   "metadata": {},
   "outputs": [
    {
     "data": {
      "text/plain": [
       "(8523, 43)"
      ]
     },
     "execution_count": 83,
     "metadata": {},
     "output_type": "execute_result"
    }
   ],
   "source": [
    "df1.shape"
   ]
  },
  {
   "cell_type": "code",
   "execution_count": 84,
   "metadata": {},
   "outputs": [
    {
     "name": "stdout",
     "output_type": "stream",
     "text": [
      "Optimum number of features: 37\n",
      "Scores with 37 features : 0.559015\n"
     ]
    }
   ],
   "source": [
    "nof_list = np.arange(1,44)\n",
    "score_list = []\n",
    "high_score = 0\n",
    "nof = 0\n",
    "for n in range(len(nof_list)):\n",
    "    rfe = RFE(lin_reg,nof_list[n])\n",
    "    X_train_rfe = rfe.fit_transform(X_train,y_train)\n",
    "    X_test_rfe = rfe.transform(X_test)\n",
    "    lin_reg.fit(X_train_rfe,y_train)\n",
    "    score = lin_reg.score(X_test_rfe,y_test)\n",
    "    score_list.append(score)\n",
    "    if (score > high_score):\n",
    "        high_score = score\n",
    "        nof = nof_list[n]\n",
    "print('Optimum number of features: %d' %nof)\n",
    "print('Scores with %d features : %f' %(nof, high_score))"
   ]
  },
  {
   "cell_type": "code",
   "execution_count": 85,
   "metadata": {},
   "outputs": [
    {
     "name": "stdout",
     "output_type": "stream",
     "text": [
      "Index([  'Item_Visibility',          'Item_MRP',  'Item_Fat_Content',\n",
      "               'Household',      'Frozen Foods',             'Dairy',\n",
      "                  'Canned',      'Baking Goods',       'Soft Drinks',\n",
      "                    'Meat',       'Hard Drinks',            'Others',\n",
      "           'Starchy Foods',         'Breakfast',           'Seafood',\n",
      "                  'OUT013',            'OUT035',            'OUT049',\n",
      "                  'OUT046',            'OUT045',            'OUT018',\n",
      "                  'OUT017',            'OUT010',            'OUT019',\n",
      "                      1987,                1999,                1997,\n",
      "                      2004,                2002,                2009,\n",
      "                      2007,                1998,            'Tier 3',\n",
      "                  'Tier 2',     'Grocery Store', 'Supermarket Type3',\n",
      "       'Supermarket Type2'],\n",
      "      dtype='object')\n"
     ]
    }
   ],
   "source": [
    "col = list(X.columns)\n",
    "rfe = RFE(lin_reg,37)\n",
    "X_rfe = rfe.fit_transform(X,y)\n",
    "lin_reg.fit(X_rfe,y)\n",
    "temp = pd.Series(rfe.support_,index=col)\n",
    "selected_features_rfe = temp[temp==True].index\n",
    "print(selected_features_rfe)"
   ]
  },
  {
   "cell_type": "code",
   "execution_count": 86,
   "metadata": {},
   "outputs": [],
   "source": [
    "from sklearn.linear_model import LassoCV, Lasso"
   ]
  },
  {
   "cell_type": "code",
   "execution_count": 87,
   "metadata": {},
   "outputs": [
    {
     "name": "stdout",
     "output_type": "stream",
     "text": [
      "60.31040858685904\n",
      "0.5094098885108423\n"
     ]
    }
   ],
   "source": [
    "reg = LassoCV()\n",
    "reg.fit(X,y)\n",
    "print(reg.alpha_)\n",
    "print(reg.score(X,y))"
   ]
  },
  {
   "cell_type": "code",
   "execution_count": 88,
   "metadata": {},
   "outputs": [],
   "source": [
    "X1 = df1.drop(['Item_Outlet_Sales','prediction'],axis=1)\n",
    "y1 = df1['Item_Outlet_Sales']"
   ]
  },
  {
   "cell_type": "code",
   "execution_count": 89,
   "metadata": {},
   "outputs": [],
   "source": [
    "X1_train,X1_test,y1_train,y1_test = train_test_split(X1,y1,test_size = 0.3,random_state = 1)"
   ]
  },
  {
   "cell_type": "code",
   "execution_count": 90,
   "metadata": {},
   "outputs": [],
   "source": [
    "lasso = Lasso()"
   ]
  },
  {
   "cell_type": "code",
   "execution_count": 91,
   "metadata": {},
   "outputs": [],
   "source": [
    "lasso.fit(X1_train,y1_train)\n",
    "train_score = lasso.score(X1_train,y1_train)\n",
    "test_score = lasso.score(X1_test,y1_test)\n",
    "coeff_used = np.sum(lasso.coef_!=0)"
   ]
  },
  {
   "cell_type": "code",
   "execution_count": 92,
   "metadata": {},
   "outputs": [
    {
     "name": "stdout",
     "output_type": "stream",
     "text": [
      "0.0\n",
      "-0.0003042078216084487\n",
      "0\n"
     ]
    }
   ],
   "source": [
    "print(train_score)\n",
    "print(test_score)\n",
    "print(coeff_used)"
   ]
  },
  {
   "cell_type": "code",
   "execution_count": 93,
   "metadata": {},
   "outputs": [
    {
     "data": {
      "text/plain": [
       "Lasso(alpha=0.01, max_iter=1000000.0)"
      ]
     },
     "execution_count": 93,
     "metadata": {},
     "output_type": "execute_result"
    }
   ],
   "source": [
    "lasso001 = Lasso(alpha=0.01,max_iter=10e5)\n",
    "lasso001.fit(X1_train,y1_train)"
   ]
  },
  {
   "cell_type": "code",
   "execution_count": 94,
   "metadata": {},
   "outputs": [],
   "source": [
    "train_score001 = lasso001.score(X1_train,y1_train)\n",
    "test_score001 = lasso001.score(X1_test,y1_test)\n",
    "coef_used001 = np.sum(lasso001.coef_!=0)"
   ]
  },
  {
   "cell_type": "code",
   "execution_count": 95,
   "metadata": {},
   "outputs": [
    {
     "name": "stdout",
     "output_type": "stream",
     "text": [
      "0.5546549965373165\n",
      "0.5644472782677912\n",
      "7\n"
     ]
    }
   ],
   "source": [
    "print(train_score001)\n",
    "print(test_score001)\n",
    "print(coef_used001)"
   ]
  },
  {
   "cell_type": "code",
   "execution_count": 96,
   "metadata": {},
   "outputs": [
    {
     "data": {
      "text/plain": [
       "Lasso(alpha=0.0001, max_iter=1000000.0)"
      ]
     },
     "execution_count": 96,
     "metadata": {},
     "output_type": "execute_result"
    }
   ],
   "source": [
    "lasso00001 = Lasso(alpha=0.0001,max_iter=10e5)\n",
    "lasso00001.fit(X1_train,y1_train)"
   ]
  },
  {
   "cell_type": "code",
   "execution_count": 97,
   "metadata": {},
   "outputs": [],
   "source": [
    "train_score00001 = lasso00001.score(X1_train,y1_train)\n",
    "test_score00001 = lasso00001.score(X1_test,y1_test)\n",
    "coef_used00001 = np.sum(lasso00001.coef_!=0)"
   ]
  },
  {
   "cell_type": "code",
   "execution_count": 98,
   "metadata": {},
   "outputs": [
    {
     "name": "stdout",
     "output_type": "stream",
     "text": [
      "0.561617396156957\n",
      "0.5664931622056892\n",
      "34\n"
     ]
    }
   ],
   "source": [
    "print(train_score00001)\n",
    "print(test_score00001)\n",
    "print(coef_used00001)"
   ]
  },
  {
   "cell_type": "code",
   "execution_count": 100,
   "metadata": {},
   "outputs": [],
   "source": [
    "removed_features = X_train.columns[lasso00001.coef_==0]"
   ]
  },
  {
   "cell_type": "code",
   "execution_count": 101,
   "metadata": {},
   "outputs": [
    {
     "data": {
      "text/plain": [
       "Index([            'Canned', 'Health and Hygiene',      'Starchy Foods',\n",
       "                  'Seafood',             'OUT017',                 2002,\n",
       "                   'Tier 3'],\n",
       "      dtype='object')"
      ]
     },
     "execution_count": 101,
     "metadata": {},
     "output_type": "execute_result"
    }
   ],
   "source": [
    "removed_features"
   ]
  },
  {
   "cell_type": "code",
   "execution_count": 102,
   "metadata": {},
   "outputs": [],
   "source": [
    "selected_features = X_train.columns[lasso00001.coef_!=0]"
   ]
  },
  {
   "cell_type": "code",
   "execution_count": 103,
   "metadata": {},
   "outputs": [],
   "source": [
    "df2 = df1[selected_features]"
   ]
  },
  {
   "cell_type": "code",
   "execution_count": 104,
   "metadata": {},
   "outputs": [],
   "source": [
    "X2 = df2\n",
    "y2 = df['Item_Outlet_Sales']"
   ]
  },
  {
   "cell_type": "code",
   "execution_count": 105,
   "metadata": {},
   "outputs": [],
   "source": [
    "X2_train,X2_test,y2_train,y2_test = train_test_split(X2,y2,test_size=0.3,random_state=1)"
   ]
  },
  {
   "cell_type": "code",
   "execution_count": 106,
   "metadata": {},
   "outputs": [
    {
     "data": {
      "text/plain": [
       "LinearRegression()"
      ]
     },
     "execution_count": 106,
     "metadata": {},
     "output_type": "execute_result"
    }
   ],
   "source": [
    "lin_reg.fit(X2_train,y2_train)"
   ]
  },
  {
   "cell_type": "code",
   "execution_count": 107,
   "metadata": {},
   "outputs": [],
   "source": [
    "y2_pred = lin_reg.predict(X2_test)"
   ]
  },
  {
   "cell_type": "code",
   "execution_count": 108,
   "metadata": {},
   "outputs": [],
   "source": [
    "mse = mean_squared_error(y2_test,y2_pred)"
   ]
  },
  {
   "cell_type": "code",
   "execution_count": 109,
   "metadata": {},
   "outputs": [
    {
     "data": {
      "text/plain": [
       "1122.884584038502"
      ]
     },
     "execution_count": 109,
     "metadata": {},
     "output_type": "execute_result"
    }
   ],
   "source": [
    "np.sqrt(mse)"
   ]
  },
  {
   "cell_type": "code",
   "execution_count": 110,
   "metadata": {},
   "outputs": [
    {
     "data": {
      "text/plain": [
       "0       0.910601\n",
       "1      -1.018440\n",
       "2      -0.049238\n",
       "3      -0.849103\n",
       "4      -0.695373\n",
       "          ...   \n",
       "8518    0.349915\n",
       "8519   -0.956402\n",
       "8520   -0.579100\n",
       "8521   -0.196725\n",
       "8522   -0.829594\n",
       "Name: Item_Outlet_Sales, Length: 8523, dtype: float64"
      ]
     },
     "execution_count": 110,
     "metadata": {},
     "output_type": "execute_result"
    }
   ],
   "source": [
    "df1['Item_Outlet_Sales']"
   ]
  },
  {
   "cell_type": "code",
   "execution_count": 111,
   "metadata": {},
   "outputs": [],
   "source": [
    "from sklearn.tree import DecisionTreeRegressor"
   ]
  },
  {
   "cell_type": "code",
   "execution_count": 112,
   "metadata": {},
   "outputs": [],
   "source": [
    "tree = DecisionTreeRegressor()"
   ]
  },
  {
   "cell_type": "code",
   "execution_count": 113,
   "metadata": {},
   "outputs": [
    {
     "data": {
      "text/plain": [
       "DecisionTreeRegressor()"
      ]
     },
     "execution_count": 113,
     "metadata": {},
     "output_type": "execute_result"
    }
   ],
   "source": [
    "tree.fit(X2_train,y2_train)"
   ]
  },
  {
   "cell_type": "code",
   "execution_count": 114,
   "metadata": {},
   "outputs": [],
   "source": [
    "y2_tree = tree.predict(X2_test)"
   ]
  },
  {
   "cell_type": "code",
   "execution_count": 115,
   "metadata": {},
   "outputs": [
    {
     "data": {
      "text/plain": [
       "1533.861907037577"
      ]
     },
     "execution_count": 115,
     "metadata": {},
     "output_type": "execute_result"
    }
   ],
   "source": [
    "np.sqrt(mean_squared_error(y2_test,y2_tree))"
   ]
  },
  {
   "cell_type": "code",
   "execution_count": 116,
   "metadata": {},
   "outputs": [],
   "source": [
    "from sklearn.model_selection import GridSearchCV"
   ]
  },
  {
   "cell_type": "code",
   "execution_count": 117,
   "metadata": {},
   "outputs": [],
   "source": [
    "from sklearn.metrics import r2_score, make_scorer"
   ]
  },
  {
   "cell_type": "code",
   "execution_count": 118,
   "metadata": {},
   "outputs": [],
   "source": [
    "n_folds = 6\n",
    "scoring = make_scorer(r2_score)\n",
    "params = {'max_depth': range(1,40)}\n",
    "dtree = DecisionTreeRegressor(criterion='mse',random_state=1)"
   ]
  },
  {
   "cell_type": "code",
   "execution_count": 119,
   "metadata": {},
   "outputs": [],
   "source": [
    "tree = GridSearchCV(dtree,params,cv=n_folds,scoring=scoring,return_train_score='warn')"
   ]
  },
  {
   "cell_type": "code",
   "execution_count": 120,
   "metadata": {},
   "outputs": [
    {
     "data": {
      "text/plain": [
       "GridSearchCV(cv=6, estimator=DecisionTreeRegressor(random_state=1),\n",
       "             param_grid={'max_depth': range(1, 40)}, return_train_score='warn',\n",
       "             scoring=make_scorer(r2_score))"
      ]
     },
     "execution_count": 120,
     "metadata": {},
     "output_type": "execute_result"
    }
   ],
   "source": [
    "tree.fit(X2_train,y2_train)"
   ]
  },
  {
   "cell_type": "code",
   "execution_count": 121,
   "metadata": {},
   "outputs": [
    {
     "data": {
      "text/html": [
       "<div>\n",
       "<style scoped>\n",
       "    .dataframe tbody tr th:only-of-type {\n",
       "        vertical-align: middle;\n",
       "    }\n",
       "\n",
       "    .dataframe tbody tr th {\n",
       "        vertical-align: top;\n",
       "    }\n",
       "\n",
       "    .dataframe thead th {\n",
       "        text-align: right;\n",
       "    }\n",
       "</style>\n",
       "<table border=\"1\" class=\"dataframe\">\n",
       "  <thead>\n",
       "    <tr style=\"text-align: right;\">\n",
       "      <th></th>\n",
       "      <th>mean_fit_time</th>\n",
       "      <th>std_fit_time</th>\n",
       "      <th>mean_score_time</th>\n",
       "      <th>std_score_time</th>\n",
       "      <th>param_max_depth</th>\n",
       "      <th>params</th>\n",
       "      <th>split0_test_score</th>\n",
       "      <th>split1_test_score</th>\n",
       "      <th>split2_test_score</th>\n",
       "      <th>split3_test_score</th>\n",
       "      <th>...</th>\n",
       "      <th>std_test_score</th>\n",
       "      <th>rank_test_score</th>\n",
       "      <th>split0_train_score</th>\n",
       "      <th>split1_train_score</th>\n",
       "      <th>split2_train_score</th>\n",
       "      <th>split3_train_score</th>\n",
       "      <th>split4_train_score</th>\n",
       "      <th>split5_train_score</th>\n",
       "      <th>mean_train_score</th>\n",
       "      <th>std_train_score</th>\n",
       "    </tr>\n",
       "  </thead>\n",
       "  <tbody>\n",
       "    <tr>\n",
       "      <th>0</th>\n",
       "      <td>0.018984</td>\n",
       "      <td>0.002637</td>\n",
       "      <td>0.011217</td>\n",
       "      <td>0.004226</td>\n",
       "      <td>1</td>\n",
       "      <td>{'max_depth': 1}</td>\n",
       "      <td>0.203307</td>\n",
       "      <td>0.250003</td>\n",
       "      <td>0.200498</td>\n",
       "      <td>0.255114</td>\n",
       "      <td>...</td>\n",
       "      <td>0.021455</td>\n",
       "      <td>20</td>\n",
       "      <td>0.242619</td>\n",
       "      <td>0.233305</td>\n",
       "      <td>0.242858</td>\n",
       "      <td>0.233002</td>\n",
       "      <td>0.232162</td>\n",
       "      <td>0.235047</td>\n",
       "      <td>0.236499</td>\n",
       "      <td>0.004495</td>\n",
       "    </tr>\n",
       "    <tr>\n",
       "      <th>1</th>\n",
       "      <td>0.028868</td>\n",
       "      <td>0.001106</td>\n",
       "      <td>0.007372</td>\n",
       "      <td>0.001800</td>\n",
       "      <td>2</td>\n",
       "      <td>{'max_depth': 2}</td>\n",
       "      <td>0.313280</td>\n",
       "      <td>0.381574</td>\n",
       "      <td>0.348938</td>\n",
       "      <td>0.356983</td>\n",
       "      <td>...</td>\n",
       "      <td>0.023510</td>\n",
       "      <td>12</td>\n",
       "      <td>0.365557</td>\n",
       "      <td>0.351880</td>\n",
       "      <td>0.358672</td>\n",
       "      <td>0.357263</td>\n",
       "      <td>0.355626</td>\n",
       "      <td>0.363602</td>\n",
       "      <td>0.358767</td>\n",
       "      <td>0.004638</td>\n",
       "    </tr>\n",
       "    <tr>\n",
       "      <th>2</th>\n",
       "      <td>0.035690</td>\n",
       "      <td>0.003366</td>\n",
       "      <td>0.009180</td>\n",
       "      <td>0.001384</td>\n",
       "      <td>3</td>\n",
       "      <td>{'max_depth': 3}</td>\n",
       "      <td>0.408025</td>\n",
       "      <td>0.459959</td>\n",
       "      <td>0.477828</td>\n",
       "      <td>0.478764</td>\n",
       "      <td>...</td>\n",
       "      <td>0.027138</td>\n",
       "      <td>8</td>\n",
       "      <td>0.477174</td>\n",
       "      <td>0.467389</td>\n",
       "      <td>0.464211</td>\n",
       "      <td>0.463606</td>\n",
       "      <td>0.457497</td>\n",
       "      <td>0.467183</td>\n",
       "      <td>0.466177</td>\n",
       "      <td>0.005905</td>\n",
       "    </tr>\n",
       "    <tr>\n",
       "      <th>3</th>\n",
       "      <td>0.039894</td>\n",
       "      <td>0.000515</td>\n",
       "      <td>0.008370</td>\n",
       "      <td>0.000786</td>\n",
       "      <td>4</td>\n",
       "      <td>{'max_depth': 4}</td>\n",
       "      <td>0.533943</td>\n",
       "      <td>0.553726</td>\n",
       "      <td>0.593436</td>\n",
       "      <td>0.575691</td>\n",
       "      <td>...</td>\n",
       "      <td>0.022376</td>\n",
       "      <td>3</td>\n",
       "      <td>0.588024</td>\n",
       "      <td>0.581722</td>\n",
       "      <td>0.575579</td>\n",
       "      <td>0.578612</td>\n",
       "      <td>0.569012</td>\n",
       "      <td>0.575752</td>\n",
       "      <td>0.578117</td>\n",
       "      <td>0.005864</td>\n",
       "    </tr>\n",
       "    <tr>\n",
       "      <th>4</th>\n",
       "      <td>0.044945</td>\n",
       "      <td>0.007968</td>\n",
       "      <td>0.008850</td>\n",
       "      <td>0.001917</td>\n",
       "      <td>5</td>\n",
       "      <td>{'max_depth': 5}</td>\n",
       "      <td>0.547850</td>\n",
       "      <td>0.566030</td>\n",
       "      <td>0.613436</td>\n",
       "      <td>0.603792</td>\n",
       "      <td>...</td>\n",
       "      <td>0.023929</td>\n",
       "      <td>1</td>\n",
       "      <td>0.623240</td>\n",
       "      <td>0.616716</td>\n",
       "      <td>0.609478</td>\n",
       "      <td>0.611248</td>\n",
       "      <td>0.605583</td>\n",
       "      <td>0.616003</td>\n",
       "      <td>0.613711</td>\n",
       "      <td>0.005703</td>\n",
       "    </tr>\n",
       "  </tbody>\n",
       "</table>\n",
       "<p>5 rows × 23 columns</p>\n",
       "</div>"
      ],
      "text/plain": [
       "   mean_fit_time  std_fit_time  mean_score_time  std_score_time  \\\n",
       "0       0.018984      0.002637         0.011217        0.004226   \n",
       "1       0.028868      0.001106         0.007372        0.001800   \n",
       "2       0.035690      0.003366         0.009180        0.001384   \n",
       "3       0.039894      0.000515         0.008370        0.000786   \n",
       "4       0.044945      0.007968         0.008850        0.001917   \n",
       "\n",
       "  param_max_depth            params  split0_test_score  split1_test_score  \\\n",
       "0               1  {'max_depth': 1}           0.203307           0.250003   \n",
       "1               2  {'max_depth': 2}           0.313280           0.381574   \n",
       "2               3  {'max_depth': 3}           0.408025           0.459959   \n",
       "3               4  {'max_depth': 4}           0.533943           0.553726   \n",
       "4               5  {'max_depth': 5}           0.547850           0.566030   \n",
       "\n",
       "   split2_test_score  split3_test_score  ...  std_test_score  rank_test_score  \\\n",
       "0           0.200498           0.255114  ...        0.021455               20   \n",
       "1           0.348938           0.356983  ...        0.023510               12   \n",
       "2           0.477828           0.478764  ...        0.027138                8   \n",
       "3           0.593436           0.575691  ...        0.022376                3   \n",
       "4           0.613436           0.603792  ...        0.023929                1   \n",
       "\n",
       "   split0_train_score  split1_train_score  split2_train_score  \\\n",
       "0            0.242619            0.233305            0.242858   \n",
       "1            0.365557            0.351880            0.358672   \n",
       "2            0.477174            0.467389            0.464211   \n",
       "3            0.588024            0.581722            0.575579   \n",
       "4            0.623240            0.616716            0.609478   \n",
       "\n",
       "   split3_train_score  split4_train_score  split5_train_score  \\\n",
       "0            0.233002            0.232162            0.235047   \n",
       "1            0.357263            0.355626            0.363602   \n",
       "2            0.463606            0.457497            0.467183   \n",
       "3            0.578612            0.569012            0.575752   \n",
       "4            0.611248            0.605583            0.616003   \n",
       "\n",
       "   mean_train_score  std_train_score  \n",
       "0          0.236499         0.004495  \n",
       "1          0.358767         0.004638  \n",
       "2          0.466177         0.005905  \n",
       "3          0.578117         0.005864  \n",
       "4          0.613711         0.005703  \n",
       "\n",
       "[5 rows x 23 columns]"
      ]
     },
     "execution_count": 121,
     "metadata": {},
     "output_type": "execute_result"
    }
   ],
   "source": [
    "scores = tree.cv_results_\n",
    "pd.DataFrame(scores).head()"
   ]
  },
  {
   "cell_type": "code",
   "execution_count": 122,
   "metadata": {},
   "outputs": [
    {
     "data": {
      "image/png": "[encoded data removed]",
      "text/plain": [
       "<Figure size 432x288 with 1 Axes>"
      ]
     },
     "metadata": {},
     "output_type": "display_data"
    }
   ],
   "source": [
    "plt.figure()\n",
    "plt.plot(scores['param_max_depth'],\n",
    "        scores['mean_train_score'],\n",
    "        label='training_accuracy')\n",
    "plt.plot(scores['param_max_depth'],\n",
    "        scores['mean_test_score'],\n",
    "        label='training_accuracy')\n",
    "plt.xlabel('max_depth')\n",
    "plt.ylabel('r2_score')\n",
    "plt.show()"
   ]
  },
  {
   "cell_type": "code",
   "execution_count": 123,
   "metadata": {},
   "outputs": [
    {
     "data": {
      "text/plain": [
       "(5966, 34)"
      ]
     },
     "execution_count": 123,
     "metadata": {},
     "output_type": "execute_result"
    }
   ],
   "source": [
    "X2_train.shape"
   ]
  },
  {
   "cell_type": "code",
   "execution_count": 124,
   "metadata": {},
   "outputs": [
    {
     "data": {
      "text/plain": [
       "GridSearchCV(cv=6, estimator=DecisionTreeRegressor(random_state=1),\n",
       "             param_grid={'min_samples_leaf': range(2, 200, 20)},\n",
       "             return_train_score='warn', scoring=make_scorer(r2_score))"
      ]
     },
     "execution_count": 124,
     "metadata": {},
     "output_type": "execute_result"
    }
   ],
   "source": [
    "params = {'min_samples_leaf': range(2,200,20)}\n",
    "tree = GridSearchCV(dtree,params,cv=n_folds,scoring=scoring,return_train_score='warn')\n",
    "tree.fit(X2_train,y2_train)"
   ]
  },
  {
   "cell_type": "code",
   "execution_count": 125,
   "metadata": {},
   "outputs": [
    {
     "data": {
      "text/html": [
       "<div>\n",
       "<style scoped>\n",
       "    .dataframe tbody tr th:only-of-type {\n",
       "        vertical-align: middle;\n",
       "    }\n",
       "\n",
       "    .dataframe tbody tr th {\n",
       "        vertical-align: top;\n",
       "    }\n",
       "\n",
       "    .dataframe thead th {\n",
       "        text-align: right;\n",
       "    }\n",
       "</style>\n",
       "<table border=\"1\" class=\"dataframe\">\n",
       "  <thead>\n",
       "    <tr style=\"text-align: right;\">\n",
       "      <th></th>\n",
       "      <th>mean_fit_time</th>\n",
       "      <th>std_fit_time</th>\n",
       "      <th>mean_score_time</th>\n",
       "      <th>std_score_time</th>\n",
       "      <th>param_min_samples_leaf</th>\n",
       "      <th>params</th>\n",
       "      <th>split0_test_score</th>\n",
       "      <th>split1_test_score</th>\n",
       "      <th>split2_test_score</th>\n",
       "      <th>split3_test_score</th>\n",
       "      <th>...</th>\n",
       "      <th>std_test_score</th>\n",
       "      <th>rank_test_score</th>\n",
       "      <th>split0_train_score</th>\n",
       "      <th>split1_train_score</th>\n",
       "      <th>split2_train_score</th>\n",
       "      <th>split3_train_score</th>\n",
       "      <th>split4_train_score</th>\n",
       "      <th>split5_train_score</th>\n",
       "      <th>mean_train_score</th>\n",
       "      <th>std_train_score</th>\n",
       "    </tr>\n",
       "  </thead>\n",
       "  <tbody>\n",
       "    <tr>\n",
       "      <th>0</th>\n",
       "      <td>0.089850</td>\n",
       "      <td>0.007161</td>\n",
       "      <td>0.007136</td>\n",
       "      <td>0.002224</td>\n",
       "      <td>2</td>\n",
       "      <td>{'min_samples_leaf': 2}</td>\n",
       "      <td>0.290463</td>\n",
       "      <td>0.184823</td>\n",
       "      <td>0.250861</td>\n",
       "      <td>0.291058</td>\n",
       "      <td>...</td>\n",
       "      <td>0.053829</td>\n",
       "      <td>10</td>\n",
       "      <td>0.930999</td>\n",
       "      <td>0.931951</td>\n",
       "      <td>0.928927</td>\n",
       "      <td>0.931517</td>\n",
       "      <td>0.927027</td>\n",
       "      <td>0.934586</td>\n",
       "      <td>0.930835</td>\n",
       "      <td>0.002378</td>\n",
       "    </tr>\n",
       "    <tr>\n",
       "      <th>1</th>\n",
       "      <td>0.049675</td>\n",
       "      <td>0.003260</td>\n",
       "      <td>0.007474</td>\n",
       "      <td>0.002372</td>\n",
       "      <td>22</td>\n",
       "      <td>{'min_samples_leaf': 22}</td>\n",
       "      <td>0.520246</td>\n",
       "      <td>0.551448</td>\n",
       "      <td>0.578886</td>\n",
       "      <td>0.562875</td>\n",
       "      <td>...</td>\n",
       "      <td>0.020945</td>\n",
       "      <td>8</td>\n",
       "      <td>0.659960</td>\n",
       "      <td>0.655673</td>\n",
       "      <td>0.647435</td>\n",
       "      <td>0.651888</td>\n",
       "      <td>0.645416</td>\n",
       "      <td>0.655750</td>\n",
       "      <td>0.652687</td>\n",
       "      <td>0.005038</td>\n",
       "    </tr>\n",
       "    <tr>\n",
       "      <th>2</th>\n",
       "      <td>0.050776</td>\n",
       "      <td>0.005368</td>\n",
       "      <td>0.005781</td>\n",
       "      <td>0.003506</td>\n",
       "      <td>42</td>\n",
       "      <td>{'min_samples_leaf': 42}</td>\n",
       "      <td>0.536659</td>\n",
       "      <td>0.573326</td>\n",
       "      <td>0.608147</td>\n",
       "      <td>0.596837</td>\n",
       "      <td>...</td>\n",
       "      <td>0.023460</td>\n",
       "      <td>5</td>\n",
       "      <td>0.636468</td>\n",
       "      <td>0.630552</td>\n",
       "      <td>0.622096</td>\n",
       "      <td>0.625190</td>\n",
       "      <td>0.624910</td>\n",
       "      <td>0.632227</td>\n",
       "      <td>0.628574</td>\n",
       "      <td>0.004940</td>\n",
       "    </tr>\n",
       "    <tr>\n",
       "      <th>3</th>\n",
       "      <td>0.040293</td>\n",
       "      <td>0.005485</td>\n",
       "      <td>0.005902</td>\n",
       "      <td>0.003681</td>\n",
       "      <td>62</td>\n",
       "      <td>{'min_samples_leaf': 62}</td>\n",
       "      <td>0.539593</td>\n",
       "      <td>0.582207</td>\n",
       "      <td>0.611158</td>\n",
       "      <td>0.602815</td>\n",
       "      <td>...</td>\n",
       "      <td>0.023687</td>\n",
       "      <td>3</td>\n",
       "      <td>0.627337</td>\n",
       "      <td>0.619505</td>\n",
       "      <td>0.613196</td>\n",
       "      <td>0.616019</td>\n",
       "      <td>0.613149</td>\n",
       "      <td>0.620777</td>\n",
       "      <td>0.618331</td>\n",
       "      <td>0.004950</td>\n",
       "    </tr>\n",
       "    <tr>\n",
       "      <th>4</th>\n",
       "      <td>0.047952</td>\n",
       "      <td>0.004012</td>\n",
       "      <td>0.007637</td>\n",
       "      <td>0.001311</td>\n",
       "      <td>82</td>\n",
       "      <td>{'min_samples_leaf': 82}</td>\n",
       "      <td>0.544355</td>\n",
       "      <td>0.591104</td>\n",
       "      <td>0.617485</td>\n",
       "      <td>0.610204</td>\n",
       "      <td>...</td>\n",
       "      <td>0.024686</td>\n",
       "      <td>1</td>\n",
       "      <td>0.621883</td>\n",
       "      <td>0.614154</td>\n",
       "      <td>0.607966</td>\n",
       "      <td>0.610131</td>\n",
       "      <td>0.604316</td>\n",
       "      <td>0.616797</td>\n",
       "      <td>0.612541</td>\n",
       "      <td>0.005808</td>\n",
       "    </tr>\n",
       "  </tbody>\n",
       "</table>\n",
       "<p>5 rows × 23 columns</p>\n",
       "</div>"
      ],
      "text/plain": [
       "   mean_fit_time  std_fit_time  mean_score_time  std_score_time  \\\n",
       "0       0.089850      0.007161         0.007136        0.002224   \n",
       "1       0.049675      0.003260         0.007474        0.002372   \n",
       "2       0.050776      0.005368         0.005781        0.003506   \n",
       "3       0.040293      0.005485         0.005902        0.003681   \n",
       "4       0.047952      0.004012         0.007637        0.001311   \n",
       "\n",
       "  param_min_samples_leaf                    params  split0_test_score  \\\n",
       "0                      2   {'min_samples_leaf': 2}           0.290463   \n",
       "1                     22  {'min_samples_leaf': 22}           0.520246   \n",
       "2                     42  {'min_samples_leaf': 42}           0.536659   \n",
       "3                     62  {'min_samples_leaf': 62}           0.539593   \n",
       "4                     82  {'min_samples_leaf': 82}           0.544355   \n",
       "\n",
       "   split1_test_score  split2_test_score  split3_test_score  ...  \\\n",
       "0           0.184823           0.250861           0.291058  ...   \n",
       "1           0.551448           0.578886           0.562875  ...   \n",
       "2           0.573326           0.608147           0.596837  ...   \n",
       "3           0.582207           0.611158           0.602815  ...   \n",
       "4           0.591104           0.617485           0.610204  ...   \n",
       "\n",
       "   std_test_score  rank_test_score  split0_train_score  split1_train_score  \\\n",
       "0        0.053829               10            0.930999            0.931951   \n",
       "1        0.020945                8            0.659960            0.655673   \n",
       "2        0.023460                5            0.636468            0.630552   \n",
       "3        0.023687                3            0.627337            0.619505   \n",
       "4        0.024686                1            0.621883            0.614154   \n",
       "\n",
       "   split2_train_score  split3_train_score  split4_train_score  \\\n",
       "0            0.928927            0.931517            0.927027   \n",
       "1            0.647435            0.651888            0.645416   \n",
       "2            0.622096            0.625190            0.624910   \n",
       "3            0.613196            0.616019            0.613149   \n",
       "4            0.607966            0.610131            0.604316   \n",
       "\n",
       "   split5_train_score  mean_train_score  std_train_score  \n",
       "0            0.934586          0.930835         0.002378  \n",
       "1            0.655750          0.652687         0.005038  \n",
       "2            0.632227          0.628574         0.004940  \n",
       "3            0.620777          0.618331         0.004950  \n",
       "4            0.616797          0.612541         0.005808  \n",
       "\n",
       "[5 rows x 23 columns]"
      ]
     },
     "execution_count": 125,
     "metadata": {},
     "output_type": "execute_result"
    }
   ],
   "source": [
    "score = tree.cv_results_\n",
    "pd.DataFrame(score).head()"
   ]
  },
  {
   "cell_type": "code",
   "execution_count": 126,
   "metadata": {},
   "outputs": [
    {
     "data": {
      "image/png": "[encoded data removed]",
      "text/plain": [
       "<Figure size 432x288 with 1 Axes>"
      ]
     },
     "metadata": {},
     "output_type": "display_data"
    }
   ],
   "source": [
    "plt.figure()\n",
    "plt.plot(score['param_min_samples_leaf'],\n",
    "        score['mean_train_score'],\n",
    "        label='training_accuracy')\n",
    "plt.plot(score['param_min_samples_leaf'],\n",
    "        score['mean_test_score'],\n",
    "        label='test_accuracy')\n",
    "plt.xlabel('param_min_samples_leaf')\n",
    "plt.ylabel('r2_score')\n",
    "plt.legend()\n",
    "plt.show()"
   ]
  },
  {
   "cell_type": "code",
   "execution_count": 127,
   "metadata": {},
   "outputs": [
    {
     "data": {
      "text/plain": [
       "GridSearchCV(cv=6, estimator=DecisionTreeRegressor(random_state=1),\n",
       "             param_grid={'min_samples_split': range(5, 300, 20)},\n",
       "             return_train_score='warn', scoring=make_scorer(r2_score))"
      ]
     },
     "execution_count": 127,
     "metadata": {},
     "output_type": "execute_result"
    }
   ],
   "source": [
    "params = {'min_samples_split': range(5,300,20)}\n",
    "tree = GridSearchCV(dtree,params,scoring=scoring,cv=n_folds,return_train_score = 'warn')\n",
    "tree.fit(X2_train,y2_train)"
   ]
  },
  {
   "cell_type": "code",
   "execution_count": 128,
   "metadata": {},
   "outputs": [
    {
     "data": {
      "text/html": [
       "<div>\n",
       "<style scoped>\n",
       "    .dataframe tbody tr th:only-of-type {\n",
       "        vertical-align: middle;\n",
       "    }\n",
       "\n",
       "    .dataframe tbody tr th {\n",
       "        vertical-align: top;\n",
       "    }\n",
       "\n",
       "    .dataframe thead th {\n",
       "        text-align: right;\n",
       "    }\n",
       "</style>\n",
       "<table border=\"1\" class=\"dataframe\">\n",
       "  <thead>\n",
       "    <tr style=\"text-align: right;\">\n",
       "      <th></th>\n",
       "      <th>mean_fit_time</th>\n",
       "      <th>std_fit_time</th>\n",
       "      <th>mean_score_time</th>\n",
       "      <th>std_score_time</th>\n",
       "      <th>param_min_samples_split</th>\n",
       "      <th>params</th>\n",
       "      <th>split0_test_score</th>\n",
       "      <th>split1_test_score</th>\n",
       "      <th>split2_test_score</th>\n",
       "      <th>split3_test_score</th>\n",
       "      <th>...</th>\n",
       "      <th>std_test_score</th>\n",
       "      <th>rank_test_score</th>\n",
       "      <th>split0_train_score</th>\n",
       "      <th>split1_train_score</th>\n",
       "      <th>split2_train_score</th>\n",
       "      <th>split3_train_score</th>\n",
       "      <th>split4_train_score</th>\n",
       "      <th>split5_train_score</th>\n",
       "      <th>mean_train_score</th>\n",
       "      <th>std_train_score</th>\n",
       "    </tr>\n",
       "  </thead>\n",
       "  <tbody>\n",
       "    <tr>\n",
       "      <th>0</th>\n",
       "      <td>0.095820</td>\n",
       "      <td>0.005616</td>\n",
       "      <td>0.007721</td>\n",
       "      <td>0.002456</td>\n",
       "      <td>5</td>\n",
       "      <td>{'min_samples_split': 5}</td>\n",
       "      <td>0.225257</td>\n",
       "      <td>0.246942</td>\n",
       "      <td>0.198376</td>\n",
       "      <td>0.285437</td>\n",
       "      <td>...</td>\n",
       "      <td>0.039762</td>\n",
       "      <td>15</td>\n",
       "      <td>0.944330</td>\n",
       "      <td>0.942722</td>\n",
       "      <td>0.945680</td>\n",
       "      <td>0.945643</td>\n",
       "      <td>0.942719</td>\n",
       "      <td>0.946244</td>\n",
       "      <td>0.944556</td>\n",
       "      <td>0.001419</td>\n",
       "    </tr>\n",
       "    <tr>\n",
       "      <th>1</th>\n",
       "      <td>0.067927</td>\n",
       "      <td>0.003555</td>\n",
       "      <td>0.008166</td>\n",
       "      <td>0.001956</td>\n",
       "      <td>25</td>\n",
       "      <td>{'min_samples_split': 25}</td>\n",
       "      <td>0.449806</td>\n",
       "      <td>0.441047</td>\n",
       "      <td>0.452092</td>\n",
       "      <td>0.465962</td>\n",
       "      <td>...</td>\n",
       "      <td>0.031054</td>\n",
       "      <td>14</td>\n",
       "      <td>0.755078</td>\n",
       "      <td>0.759254</td>\n",
       "      <td>0.755434</td>\n",
       "      <td>0.745211</td>\n",
       "      <td>0.752235</td>\n",
       "      <td>0.765168</td>\n",
       "      <td>0.755397</td>\n",
       "      <td>0.006113</td>\n",
       "    </tr>\n",
       "    <tr>\n",
       "      <th>2</th>\n",
       "      <td>0.064707</td>\n",
       "      <td>0.005960</td>\n",
       "      <td>0.005544</td>\n",
       "      <td>0.002715</td>\n",
       "      <td>45</td>\n",
       "      <td>{'min_samples_split': 45}</td>\n",
       "      <td>0.496169</td>\n",
       "      <td>0.486893</td>\n",
       "      <td>0.520525</td>\n",
       "      <td>0.493797</td>\n",
       "      <td>...</td>\n",
       "      <td>0.028871</td>\n",
       "      <td>13</td>\n",
       "      <td>0.706325</td>\n",
       "      <td>0.704723</td>\n",
       "      <td>0.701249</td>\n",
       "      <td>0.704150</td>\n",
       "      <td>0.699911</td>\n",
       "      <td>0.707140</td>\n",
       "      <td>0.703916</td>\n",
       "      <td>0.002584</td>\n",
       "    </tr>\n",
       "    <tr>\n",
       "      <th>3</th>\n",
       "      <td>0.059166</td>\n",
       "      <td>0.006807</td>\n",
       "      <td>0.004449</td>\n",
       "      <td>0.002462</td>\n",
       "      <td>65</td>\n",
       "      <td>{'min_samples_split': 65}</td>\n",
       "      <td>0.508480</td>\n",
       "      <td>0.509306</td>\n",
       "      <td>0.554965</td>\n",
       "      <td>0.517965</td>\n",
       "      <td>...</td>\n",
       "      <td>0.023550</td>\n",
       "      <td>12</td>\n",
       "      <td>0.688816</td>\n",
       "      <td>0.684424</td>\n",
       "      <td>0.676239</td>\n",
       "      <td>0.683351</td>\n",
       "      <td>0.677687</td>\n",
       "      <td>0.684848</td>\n",
       "      <td>0.682561</td>\n",
       "      <td>0.004324</td>\n",
       "    </tr>\n",
       "    <tr>\n",
       "      <th>4</th>\n",
       "      <td>0.060604</td>\n",
       "      <td>0.005107</td>\n",
       "      <td>0.005397</td>\n",
       "      <td>0.001811</td>\n",
       "      <td>85</td>\n",
       "      <td>{'min_samples_split': 85}</td>\n",
       "      <td>0.516429</td>\n",
       "      <td>0.508770</td>\n",
       "      <td>0.571171</td>\n",
       "      <td>0.546331</td>\n",
       "      <td>...</td>\n",
       "      <td>0.024577</td>\n",
       "      <td>11</td>\n",
       "      <td>0.677005</td>\n",
       "      <td>0.676582</td>\n",
       "      <td>0.657147</td>\n",
       "      <td>0.667716</td>\n",
       "      <td>0.663982</td>\n",
       "      <td>0.672639</td>\n",
       "      <td>0.669179</td>\n",
       "      <td>0.007094</td>\n",
       "    </tr>\n",
       "  </tbody>\n",
       "</table>\n",
       "<p>5 rows × 23 columns</p>\n",
       "</div>"
      ],
      "text/plain": [
       "   mean_fit_time  std_fit_time  mean_score_time  std_score_time  \\\n",
       "0       0.095820      0.005616         0.007721        0.002456   \n",
       "1       0.067927      0.003555         0.008166        0.001956   \n",
       "2       0.064707      0.005960         0.005544        0.002715   \n",
       "3       0.059166      0.006807         0.004449        0.002462   \n",
       "4       0.060604      0.005107         0.005397        0.001811   \n",
       "\n",
       "  param_min_samples_split                     params  split0_test_score  \\\n",
       "0                       5   {'min_samples_split': 5}           0.225257   \n",
       "1                      25  {'min_samples_split': 25}           0.449806   \n",
       "2                      45  {'min_samples_split': 45}           0.496169   \n",
       "3                      65  {'min_samples_split': 65}           0.508480   \n",
       "4                      85  {'min_samples_split': 85}           0.516429   \n",
       "\n",
       "   split1_test_score  split2_test_score  split3_test_score  ...  \\\n",
       "0           0.246942           0.198376           0.285437  ...   \n",
       "1           0.441047           0.452092           0.465962  ...   \n",
       "2           0.486893           0.520525           0.493797  ...   \n",
       "3           0.509306           0.554965           0.517965  ...   \n",
       "4           0.508770           0.571171           0.546331  ...   \n",
       "\n",
       "   std_test_score  rank_test_score  split0_train_score  split1_train_score  \\\n",
       "0        0.039762               15            0.944330            0.942722   \n",
       "1        0.031054               14            0.755078            0.759254   \n",
       "2        0.028871               13            0.706325            0.704723   \n",
       "3        0.023550               12            0.688816            0.684424   \n",
       "4        0.024577               11            0.677005            0.676582   \n",
       "\n",
       "   split2_train_score  split3_train_score  split4_train_score  \\\n",
       "0            0.945680            0.945643            0.942719   \n",
       "1            0.755434            0.745211            0.752235   \n",
       "2            0.701249            0.704150            0.699911   \n",
       "3            0.676239            0.683351            0.677687   \n",
       "4            0.657147            0.667716            0.663982   \n",
       "\n",
       "   split5_train_score  mean_train_score  std_train_score  \n",
       "0            0.946244          0.944556         0.001419  \n",
       "1            0.765168          0.755397         0.006113  \n",
       "2            0.707140          0.703916         0.002584  \n",
       "3            0.684848          0.682561         0.004324  \n",
       "4            0.672639          0.669179         0.007094  \n",
       "\n",
       "[5 rows x 23 columns]"
      ]
     },
     "execution_count": 128,
     "metadata": {},
     "output_type": "execute_result"
    }
   ],
   "source": [
    "score = tree.cv_results_\n",
    "pd.DataFrame(score).head()"
   ]
  },
  {
   "cell_type": "code",
   "execution_count": 129,
   "metadata": {},
   "outputs": [
    {
     "data": {
      "image/png": "[encoded data removed]",
      "text/plain": [
       "<Figure size 432x288 with 1 Axes>"
      ]
     },
     "metadata": {},
     "output_type": "display_data"
    }
   ],
   "source": [
    "plt.figure()\n",
    "plt.plot(score['param_min_samples_split'],\n",
    "        score['mean_train_score'],\n",
    "        label = 'training score')\n",
    "plt.plot(score['param_min_samples_split'],\n",
    "        score['mean_test_score'],\n",
    "        label = 'test score')\n",
    "plt.xlabel('Minimum Sample Split')\n",
    "plt.ylabel('r2_score')\n",
    "plt.legend()\n",
    "plt.show()"
   ]
  },
  {
   "cell_type": "code",
   "execution_count": 130,
   "metadata": {},
   "outputs": [
    {
     "data": {
      "text/plain": [
       "GridSearchCV(cv=6, estimator=DecisionTreeRegressor(random_state=1),\n",
       "             param_grid={'max_depth': range(1, 6),\n",
       "                         'min_samples_leaf': range(30, 60, 5),\n",
       "                         'min_samples_split': range(100, 135, 5)},\n",
       "             scoring=make_scorer(r2_score))"
      ]
     },
     "execution_count": 130,
     "metadata": {},
     "output_type": "execute_result"
    }
   ],
   "source": [
    "params = {'max_depth': range(1,6),\n",
    "         'min_samples_leaf' : range(30,60,5),\n",
    "         'min_samples_split': range(100,135,5)}\n",
    "tree = GridSearchCV(dtree,params,scoring=scoring,cv=n_folds)\n",
    "tree.fit(X2_train,y2_train)"
   ]
  },
  {
   "cell_type": "code",
   "execution_count": 131,
   "metadata": {},
   "outputs": [
    {
     "data": {
      "text/plain": [
       "0.5889217371916401"
      ]
     },
     "execution_count": 131,
     "metadata": {},
     "output_type": "execute_result"
    }
   ],
   "source": [
    "tree.best_score_"
   ]
  },
  {
   "cell_type": "code",
   "execution_count": 132,
   "metadata": {},
   "outputs": [
    {
     "data": {
      "text/plain": [
       "{'max_depth': 5, 'min_samples_leaf': 50, 'min_samples_split': 105}"
      ]
     },
     "execution_count": 132,
     "metadata": {},
     "output_type": "execute_result"
    }
   ],
   "source": [
    "tree.best_params_"
   ]
  },
  {
   "cell_type": "code",
   "execution_count": 133,
   "metadata": {},
   "outputs": [],
   "source": [
    "dtree = DecisionTreeRegressor(max_depth = 5, min_samples_leaf = 50, min_samples_split = 105, criterion = 'mse')"
   ]
  },
  {
   "cell_type": "code",
   "execution_count": 134,
   "metadata": {},
   "outputs": [
    {
     "data": {
      "text/plain": [
       "DecisionTreeRegressor(max_depth=5, min_samples_leaf=50, min_samples_split=105)"
      ]
     },
     "execution_count": 134,
     "metadata": {},
     "output_type": "execute_result"
    }
   ],
   "source": [
    "dtree.fit(X2_train,y2_train)"
   ]
  },
  {
   "cell_type": "code",
   "execution_count": 135,
   "metadata": {},
   "outputs": [],
   "source": [
    "ydtree_pred = dtree.predict(X2_test)"
   ]
  },
  {
   "cell_type": "code",
   "execution_count": 136,
   "metadata": {},
   "outputs": [],
   "source": [
    "mse= mean_squared_error(y2_test,ydtree_pred)"
   ]
  },
  {
   "cell_type": "code",
   "execution_count": 137,
   "metadata": {},
   "outputs": [
    {
     "data": {
      "text/plain": [
       "1078.7773622140746"
      ]
     },
     "execution_count": 137,
     "metadata": {},
     "output_type": "execute_result"
    }
   ],
   "source": [
    "np.sqrt(mse)"
   ]
  },
  {
   "cell_type": "code",
   "execution_count": 138,
   "metadata": {},
   "outputs": [],
   "source": [
    "from sklearn.ensemble import RandomForestRegressor"
   ]
  },
  {
   "cell_type": "code",
   "execution_count": 139,
   "metadata": {},
   "outputs": [],
   "source": [
    "rand = RandomForestRegressor()"
   ]
  },
  {
   "cell_type": "code",
   "execution_count": 140,
   "metadata": {},
   "outputs": [
    {
     "data": {
      "text/plain": [
       "RandomForestRegressor()"
      ]
     },
     "execution_count": 140,
     "metadata": {},
     "output_type": "execute_result"
    }
   ],
   "source": [
    "rand.fit(X2_train,y2_train)"
   ]
  },
  {
   "cell_type": "code",
   "execution_count": 141,
   "metadata": {},
   "outputs": [],
   "source": [
    "yrand_pred = rand.predict(X2_test)"
   ]
  },
  {
   "cell_type": "code",
   "execution_count": 142,
   "metadata": {},
   "outputs": [
    {
     "data": {
      "text/plain": [
       "1133.0497681213121"
      ]
     },
     "execution_count": 142,
     "metadata": {},
     "output_type": "execute_result"
    }
   ],
   "source": [
    "np.sqrt(mean_squared_error(y2_test,yrand_pred))"
   ]
  },
  {
   "cell_type": "code",
   "execution_count": 143,
   "metadata": {},
   "outputs": [],
   "source": [
    "rand = RandomForestRegressor(max_depth = 5, min_samples_leaf = 50, min_samples_split = 105)"
   ]
  },
  {
   "cell_type": "code",
   "execution_count": 144,
   "metadata": {},
   "outputs": [],
   "source": [
    "rand.fit(X2_train,y2_train)\n",
    "yrand_pred = rand.predict(X2_test)"
   ]
  },
  {
   "cell_type": "code",
   "execution_count": 145,
   "metadata": {},
   "outputs": [
    {
     "data": {
      "text/plain": [
       "1067.4868308570049"
      ]
     },
     "execution_count": 145,
     "metadata": {},
     "output_type": "execute_result"
    }
   ],
   "source": [
    "np.sqrt(mean_squared_error(y2_test,yrand_pred))"
   ]
  },
  {
   "cell_type": "code",
   "execution_count": 146,
   "metadata": {},
   "outputs": [
    {
     "data": {
      "text/plain": [
       "GridSearchCV(cv=6, estimator=RandomForestRegressor(random_state=1),\n",
       "             param_grid={'max_depth': range(1, 40)}, return_train_score='warn',\n",
       "             scoring=make_scorer(r2_score))"
      ]
     },
     "execution_count": 146,
     "metadata": {},
     "output_type": "execute_result"
    }
   ],
   "source": [
    "params = {'max_depth' : range(1,40)}\n",
    "n_folds = 6\n",
    "scoring = make_scorer(r2_score)\n",
    "rfor = RandomForestRegressor(random_state = 1)\n",
    "rand_grid = GridSearchCV(rfor,params,cv=n_folds,scoring=scoring,return_train_score='warn')\n",
    "rand_grid.fit(X2_train,y2_train)"
   ]
  },
  {
   "cell_type": "code",
   "execution_count": 147,
   "metadata": {},
   "outputs": [
    {
     "data": {
      "text/html": [
       "<div>\n",
       "<style scoped>\n",
       "    .dataframe tbody tr th:only-of-type {\n",
       "        vertical-align: middle;\n",
       "    }\n",
       "\n",
       "    .dataframe tbody tr th {\n",
       "        vertical-align: top;\n",
       "    }\n",
       "\n",
       "    .dataframe thead th {\n",
       "        text-align: right;\n",
       "    }\n",
       "</style>\n",
       "<table border=\"1\" class=\"dataframe\">\n",
       "  <thead>\n",
       "    <tr style=\"text-align: right;\">\n",
       "      <th></th>\n",
       "      <th>mean_fit_time</th>\n",
       "      <th>std_fit_time</th>\n",
       "      <th>mean_score_time</th>\n",
       "      <th>std_score_time</th>\n",
       "      <th>param_max_depth</th>\n",
       "      <th>params</th>\n",
       "      <th>split0_test_score</th>\n",
       "      <th>split1_test_score</th>\n",
       "      <th>split2_test_score</th>\n",
       "      <th>split3_test_score</th>\n",
       "      <th>...</th>\n",
       "      <th>std_test_score</th>\n",
       "      <th>rank_test_score</th>\n",
       "      <th>split0_train_score</th>\n",
       "      <th>split1_train_score</th>\n",
       "      <th>split2_train_score</th>\n",
       "      <th>split3_train_score</th>\n",
       "      <th>split4_train_score</th>\n",
       "      <th>split5_train_score</th>\n",
       "      <th>mean_train_score</th>\n",
       "      <th>std_train_score</th>\n",
       "    </tr>\n",
       "  </thead>\n",
       "  <tbody>\n",
       "    <tr>\n",
       "      <th>0</th>\n",
       "      <td>0.784312</td>\n",
       "      <td>0.031619</td>\n",
       "      <td>0.027113</td>\n",
       "      <td>0.004141</td>\n",
       "      <td>1</td>\n",
       "      <td>{'max_depth': 1}</td>\n",
       "      <td>0.220479</td>\n",
       "      <td>0.267458</td>\n",
       "      <td>0.224869</td>\n",
       "      <td>0.274874</td>\n",
       "      <td>...</td>\n",
       "      <td>0.020973</td>\n",
       "      <td>39</td>\n",
       "      <td>0.261027</td>\n",
       "      <td>0.254788</td>\n",
       "      <td>0.261234</td>\n",
       "      <td>0.253371</td>\n",
       "      <td>0.251598</td>\n",
       "      <td>0.256109</td>\n",
       "      <td>0.256354</td>\n",
       "      <td>0.003644</td>\n",
       "    </tr>\n",
       "    <tr>\n",
       "      <th>1</th>\n",
       "      <td>1.120236</td>\n",
       "      <td>0.018249</td>\n",
       "      <td>0.030881</td>\n",
       "      <td>0.004252</td>\n",
       "      <td>2</td>\n",
       "      <td>{'max_depth': 2}</td>\n",
       "      <td>0.342258</td>\n",
       "      <td>0.414537</td>\n",
       "      <td>0.392660</td>\n",
       "      <td>0.391328</td>\n",
       "      <td>...</td>\n",
       "      <td>0.025510</td>\n",
       "      <td>38</td>\n",
       "      <td>0.398785</td>\n",
       "      <td>0.402518</td>\n",
       "      <td>0.397273</td>\n",
       "      <td>0.387870</td>\n",
       "      <td>0.397106</td>\n",
       "      <td>0.388245</td>\n",
       "      <td>0.395300</td>\n",
       "      <td>0.005422</td>\n",
       "    </tr>\n",
       "    <tr>\n",
       "      <th>2</th>\n",
       "      <td>1.463312</td>\n",
       "      <td>0.022464</td>\n",
       "      <td>0.032061</td>\n",
       "      <td>0.004787</td>\n",
       "      <td>3</td>\n",
       "      <td>{'max_depth': 3}</td>\n",
       "      <td>0.439382</td>\n",
       "      <td>0.503209</td>\n",
       "      <td>0.520183</td>\n",
       "      <td>0.517228</td>\n",
       "      <td>...</td>\n",
       "      <td>0.032133</td>\n",
       "      <td>37</td>\n",
       "      <td>0.510100</td>\n",
       "      <td>0.515529</td>\n",
       "      <td>0.504709</td>\n",
       "      <td>0.497449</td>\n",
       "      <td>0.508959</td>\n",
       "      <td>0.498093</td>\n",
       "      <td>0.505807</td>\n",
       "      <td>0.006499</td>\n",
       "    </tr>\n",
       "    <tr>\n",
       "      <th>3</th>\n",
       "      <td>1.782584</td>\n",
       "      <td>0.017134</td>\n",
       "      <td>0.032929</td>\n",
       "      <td>0.003359</td>\n",
       "      <td>4</td>\n",
       "      <td>{'max_depth': 4}</td>\n",
       "      <td>0.541738</td>\n",
       "      <td>0.574780</td>\n",
       "      <td>0.606450</td>\n",
       "      <td>0.590866</td>\n",
       "      <td>...</td>\n",
       "      <td>0.023773</td>\n",
       "      <td>8</td>\n",
       "      <td>0.603580</td>\n",
       "      <td>0.594032</td>\n",
       "      <td>0.590238</td>\n",
       "      <td>0.593958</td>\n",
       "      <td>0.587102</td>\n",
       "      <td>0.599548</td>\n",
       "      <td>0.594743</td>\n",
       "      <td>0.005492</td>\n",
       "    </tr>\n",
       "    <tr>\n",
       "      <th>4</th>\n",
       "      <td>2.107841</td>\n",
       "      <td>0.024850</td>\n",
       "      <td>0.034386</td>\n",
       "      <td>0.003257</td>\n",
       "      <td>5</td>\n",
       "      <td>{'max_depth': 5}</td>\n",
       "      <td>0.555917</td>\n",
       "      <td>0.591418</td>\n",
       "      <td>0.620275</td>\n",
       "      <td>0.609869</td>\n",
       "      <td>...</td>\n",
       "      <td>0.024451</td>\n",
       "      <td>1</td>\n",
       "      <td>0.630841</td>\n",
       "      <td>0.621127</td>\n",
       "      <td>0.616547</td>\n",
       "      <td>0.619611</td>\n",
       "      <td>0.613791</td>\n",
       "      <td>0.627346</td>\n",
       "      <td>0.621544</td>\n",
       "      <td>0.005903</td>\n",
       "    </tr>\n",
       "  </tbody>\n",
       "</table>\n",
       "<p>5 rows × 23 columns</p>\n",
       "</div>"
      ],
      "text/plain": [
       "   mean_fit_time  std_fit_time  mean_score_time  std_score_time  \\\n",
       "0       0.784312      0.031619         0.027113        0.004141   \n",
       "1       1.120236      0.018249         0.030881        0.004252   \n",
       "2       1.463312      0.022464         0.032061        0.004787   \n",
       "3       1.782584      0.017134         0.032929        0.003359   \n",
       "4       2.107841      0.024850         0.034386        0.003257   \n",
       "\n",
       "  param_max_depth            params  split0_test_score  split1_test_score  \\\n",
       "0               1  {'max_depth': 1}           0.220479           0.267458   \n",
       "1               2  {'max_depth': 2}           0.342258           0.414537   \n",
       "2               3  {'max_depth': 3}           0.439382           0.503209   \n",
       "3               4  {'max_depth': 4}           0.541738           0.574780   \n",
       "4               5  {'max_depth': 5}           0.555917           0.591418   \n",
       "\n",
       "   split2_test_score  split3_test_score  ...  std_test_score  rank_test_score  \\\n",
       "0           0.224869           0.274874  ...        0.020973               39   \n",
       "1           0.392660           0.391328  ...        0.025510               38   \n",
       "2           0.520183           0.517228  ...        0.032133               37   \n",
       "3           0.606450           0.590866  ...        0.023773                8   \n",
       "4           0.620275           0.609869  ...        0.024451                1   \n",
       "\n",
       "   split0_train_score  split1_train_score  split2_train_score  \\\n",
       "0            0.261027            0.254788            0.261234   \n",
       "1            0.398785            0.402518            0.397273   \n",
       "2            0.510100            0.515529            0.504709   \n",
       "3            0.603580            0.594032            0.590238   \n",
       "4            0.630841            0.621127            0.616547   \n",
       "\n",
       "   split3_train_score  split4_train_score  split5_train_score  \\\n",
       "0            0.253371            0.251598            0.256109   \n",
       "1            0.387870            0.397106            0.388245   \n",
       "2            0.497449            0.508959            0.498093   \n",
       "3            0.593958            0.587102            0.599548   \n",
       "4            0.619611            0.613791            0.627346   \n",
       "\n",
       "   mean_train_score  std_train_score  \n",
       "0          0.256354         0.003644  \n",
       "1          0.395300         0.005422  \n",
       "2          0.505807         0.006499  \n",
       "3          0.594743         0.005492  \n",
       "4          0.621544         0.005903  \n",
       "\n",
       "[5 rows x 23 columns]"
      ]
     },
     "execution_count": 147,
     "metadata": {},
     "output_type": "execute_result"
    }
   ],
   "source": [
    "score = rand_grid.cv_results_\n",
    "pd.DataFrame(score).head()"
   ]
  },
  {
   "cell_type": "code",
   "execution_count": 148,
   "metadata": {},
   "outputs": [
    {
     "data": {
      "image/png": "[encoded data removed]",
      "text/plain": [
       "<Figure size 432x288 with 1 Axes>"
      ]
     },
     "metadata": {},
     "output_type": "display_data"
    }
   ],
   "source": [
    "plt.figure()\n",
    "plt.plot(score['param_max_depth'],\n",
    "        score['mean_train_score'],\n",
    "        label = 'training score')\n",
    "plt.plot(score['param_max_depth'],\n",
    "        score['mean_test_score'],\n",
    "        label ='test score')\n",
    "plt.xlabel('Max Depth')\n",
    "plt.ylabel('r2_score')\n",
    "plt.legend()\n",
    "plt.show()"
   ]
  },
  {
   "cell_type": "code",
   "execution_count": 149,
   "metadata": {},
   "outputs": [
    {
     "data": {
      "image/png": "[encoded data removed]",
      "text/plain": [
       "<Figure size 432x288 with 1 Axes>"
      ]
     },
     "metadata": {},
     "output_type": "display_data"
    }
   ],
   "source": [
    "params = {'min_samples_leaf' : range(5,200,5)}\n",
    "n_folds = 6\n",
    "scoring = make_scorer(r2_score)\n",
    "rfor = RandomForestRegressor(random_state = 1)\n",
    "rand_grid = GridSearchCV(rfor,params,cv=n_folds,scoring=scoring,return_train_score='warn')\n",
    "rand_grid.fit(X2_train,y2_train)\n",
    "score = rand_grid.cv_results_\n",
    "pd.DataFrame(score)\n",
    "\n",
    "plt.figure()\n",
    "plt.plot(score['param_min_samples_leaf'],\n",
    "        score['mean_train_score'],\n",
    "        label = 'training score')\n",
    "plt.plot(score['param_min_samples_leaf'],\n",
    "        score['mean_test_score'],\n",
    "        label ='test score')\n",
    "plt.xlabel('Min sample leaf')\n",
    "plt.ylabel('r2_score')\n",
    "plt.legend()\n",
    "plt.show()"
   ]
  },
  {
   "cell_type": "code",
   "execution_count": 150,
   "metadata": {},
   "outputs": [
    {
     "data": {
      "image/png": "[encoded data removed]",
      "text/plain": [
       "<Figure size 432x288 with 1 Axes>"
      ]
     },
     "metadata": {},
     "output_type": "display_data"
    }
   ],
   "source": [
    "params = {'min_samples_split' : range(5,200,5)}\n",
    "n_folds = 6\n",
    "scoring = make_scorer(r2_score)\n",
    "rfor = RandomForestRegressor(random_state = 1)\n",
    "rand_grid = GridSearchCV(rfor,params,cv=n_folds,scoring=scoring,return_train_score='warn')\n",
    "rand_grid.fit(X2_train,y2_train)\n",
    "score = rand_grid.cv_results_\n",
    "pd.DataFrame(score)\n",
    "\n",
    "plt.figure()\n",
    "plt.plot(score['param_min_samples_split'],\n",
    "        score['mean_train_score'],\n",
    "        label = 'training score')\n",
    "plt.plot(score['param_min_samples_split'],\n",
    "        score['mean_test_score'],\n",
    "        label ='test score')\n",
    "plt.xlabel('Min sample split')\n",
    "plt.ylabel('r2_score')\n",
    "plt.legend()\n",
    "plt.show()"
   ]
  },
  {
   "cell_type": "code",
   "execution_count": 151,
   "metadata": {},
   "outputs": [
    {
     "data": {
      "text/plain": [
       "GridSearchCV(cv=6, estimator=RandomForestRegressor(random_state=1),\n",
       "             param_grid={'max_depth': range(1, 6),\n",
       "                         'min_samples_leaf': range(10, 30, 5),\n",
       "                         'min_samples_split': range(50, 105, 5)},\n",
       "             return_train_score='warn', scoring=make_scorer(r2_score))"
      ]
     },
     "execution_count": 151,
     "metadata": {},
     "output_type": "execute_result"
    }
   ],
   "source": [
    "params = {'max_depth' : range(1,6),\n",
    "         'min_samples_leaf': range(10,30,5),\n",
    "         'min_samples_split': range(50,105,5)}\n",
    "n_folds = 6\n",
    "scoring = make_scorer(r2_score)\n",
    "rfor = RandomForestRegressor(random_state = 1)\n",
    "rand_grid = GridSearchCV(rfor,params,cv=n_folds,scoring=scoring,return_train_score='warn')\n",
    "rand_grid.fit(X2_train,y2_train)"
   ]
  },
  {
   "cell_type": "code",
   "execution_count": 152,
   "metadata": {},
   "outputs": [
    {
     "data": {
      "text/plain": [
       "0.5977243678520335"
      ]
     },
     "execution_count": 152,
     "metadata": {},
     "output_type": "execute_result"
    }
   ],
   "source": [
    "rand_grid.best_score_"
   ]
  },
  {
   "cell_type": "code",
   "execution_count": 153,
   "metadata": {},
   "outputs": [
    {
     "data": {
      "text/plain": [
       "RandomForestRegressor(max_depth=5, min_samples_leaf=25, min_samples_split=75,\n",
       "                      random_state=1)"
      ]
     },
     "execution_count": 153,
     "metadata": {},
     "output_type": "execute_result"
    }
   ],
   "source": [
    "rand_grid.best_estimator_"
   ]
  },
  {
   "cell_type": "code",
   "execution_count": 154,
   "metadata": {},
   "outputs": [],
   "source": [
    "from sklearn.ensemble import RandomForestRegressor"
   ]
  },
  {
   "cell_type": "code",
   "execution_count": 155,
   "metadata": {},
   "outputs": [
    {
     "data": {
      "text/plain": [
       "RandomForestRegressor(max_depth=5, min_samples_leaf=25, min_samples_split=75)"
      ]
     },
     "execution_count": 155,
     "metadata": {},
     "output_type": "execute_result"
    }
   ],
   "source": [
    "rfor = RandomForestRegressor(max_depth = 5, min_samples_leaf = 25, min_samples_split = 75)\n",
    "rfor.fit(X2_train,y2_train)"
   ]
  },
  {
   "cell_type": "code",
   "execution_count": 156,
   "metadata": {},
   "outputs": [],
   "source": [
    "y2rfor_pred = rfor.predict(X2_test)"
   ]
  },
  {
   "cell_type": "code",
   "execution_count": 157,
   "metadata": {},
   "outputs": [
    {
     "data": {
      "text/plain": [
       "1070.390368130832"
      ]
     },
     "execution_count": 157,
     "metadata": {},
     "output_type": "execute_result"
    }
   ],
   "source": [
    "np.sqrt(mean_squared_error(y2_test,y2rfor_pred))"
   ]
  },
  {
   "cell_type": "code",
   "execution_count": 158,
   "metadata": {},
   "outputs": [],
   "source": [
    "from sklearn.ensemble import GradientBoostingRegressor"
   ]
  },
  {
   "cell_type": "code",
   "execution_count": 159,
   "metadata": {},
   "outputs": [],
   "source": [
    "grad = GradientBoostingRegressor(max_depth = 2, n_estimators = 90, learning_rate = 0.1,random_state=1 )"
   ]
  },
  {
   "cell_type": "code",
   "execution_count": 160,
   "metadata": {},
   "outputs": [
    {
     "data": {
      "text/plain": [
       "GradientBoostingRegressor(max_depth=2, n_estimators=90, random_state=1)"
      ]
     },
     "execution_count": 160,
     "metadata": {},
     "output_type": "execute_result"
    }
   ],
   "source": [
    "grad.fit(X2_train,y2_train)"
   ]
  },
  {
   "cell_type": "code",
   "execution_count": 161,
   "metadata": {},
   "outputs": [],
   "source": [
    "errors = [mean_squared_error(y2_test,y2grad) for y2grad in grad.staged_predict(X2_test)]"
   ]
  },
  {
   "cell_type": "code",
   "execution_count": 162,
   "metadata": {},
   "outputs": [],
   "source": [
    "best_n_estimator = np.argmin(errors)"
   ]
  },
  {
   "cell_type": "code",
   "execution_count": 163,
   "metadata": {},
   "outputs": [
    {
     "data": {
      "text/plain": [
       "1068.3948388658368"
      ]
     },
     "execution_count": 163,
     "metadata": {},
     "output_type": "execute_result"
    }
   ],
   "source": [
    "np.sqrt(errors[best_n_estimator])"
   ]
  },
  {
   "cell_type": "code",
   "execution_count": 164,
   "metadata": {},
   "outputs": [
    {
     "data": {
      "text/plain": [
       "1068.3948388658368"
      ]
     },
     "execution_count": 164,
     "metadata": {},
     "output_type": "execute_result"
    }
   ],
   "source": [
    "1068.3948388658368"
   ]
  },
  {
   "cell_type": "code",
   "execution_count": 165,
   "metadata": {},
   "outputs": [
    {
     "data": {
      "text/plain": [
       "GridSearchCV(estimator=GradientBoostingRegressor(max_depth=2, n_estimators=90,\n",
       "                                                 random_state=1),\n",
       "             n_jobs=3, param_grid={'n_estimators': range(1, 200)},\n",
       "             return_train_score=True, scoring=make_scorer(r2_score))"
      ]
     },
     "execution_count": 165,
     "metadata": {},
     "output_type": "execute_result"
    }
   ],
   "source": [
    "params = {'n_estimators' : range(1,200)}\n",
    "         \n",
    "grid_grad = GridSearchCV(grad,params,scoring=make_scorer(r2_score),n_jobs = 3,return_train_score = True)\n",
    "grid_grad.fit(X2_train,y2_train)\n"
   ]
  },
  {
   "cell_type": "code",
   "execution_count": 166,
   "metadata": {},
   "outputs": [
    {
     "data": {
      "text/html": [
       "<div>\n",
       "<style scoped>\n",
       "    .dataframe tbody tr th:only-of-type {\n",
       "        vertical-align: middle;\n",
       "    }\n",
       "\n",
       "    .dataframe tbody tr th {\n",
       "        vertical-align: top;\n",
       "    }\n",
       "\n",
       "    .dataframe thead th {\n",
       "        text-align: right;\n",
       "    }\n",
       "</style>\n",
       "<table border=\"1\" class=\"dataframe\">\n",
       "  <thead>\n",
       "    <tr style=\"text-align: right;\">\n",
       "      <th></th>\n",
       "      <th>mean_fit_time</th>\n",
       "      <th>std_fit_time</th>\n",
       "      <th>mean_score_time</th>\n",
       "      <th>std_score_time</th>\n",
       "      <th>param_n_estimators</th>\n",
       "      <th>params</th>\n",
       "      <th>split0_test_score</th>\n",
       "      <th>split1_test_score</th>\n",
       "      <th>split2_test_score</th>\n",
       "      <th>split3_test_score</th>\n",
       "      <th>...</th>\n",
       "      <th>mean_test_score</th>\n",
       "      <th>std_test_score</th>\n",
       "      <th>rank_test_score</th>\n",
       "      <th>split0_train_score</th>\n",
       "      <th>split1_train_score</th>\n",
       "      <th>split2_train_score</th>\n",
       "      <th>split3_train_score</th>\n",
       "      <th>split4_train_score</th>\n",
       "      <th>mean_train_score</th>\n",
       "      <th>std_train_score</th>\n",
       "    </tr>\n",
       "  </thead>\n",
       "  <tbody>\n",
       "    <tr>\n",
       "      <th>0</th>\n",
       "      <td>0.028123</td>\n",
       "      <td>6.249785e-03</td>\n",
       "      <td>0.003125</td>\n",
       "      <td>0.006249</td>\n",
       "      <td>1</td>\n",
       "      <td>{'n_estimators': 1}</td>\n",
       "      <td>0.063047</td>\n",
       "      <td>0.068605</td>\n",
       "      <td>0.069182</td>\n",
       "      <td>0.072184</td>\n",
       "      <td>...</td>\n",
       "      <td>0.067280</td>\n",
       "      <td>0.003536</td>\n",
       "      <td>199</td>\n",
       "      <td>0.069143</td>\n",
       "      <td>0.067606</td>\n",
       "      <td>0.067486</td>\n",
       "      <td>0.067213</td>\n",
       "      <td>0.068855</td>\n",
       "      <td>0.068060</td>\n",
       "      <td>0.000782</td>\n",
       "    </tr>\n",
       "    <tr>\n",
       "      <th>1</th>\n",
       "      <td>0.031247</td>\n",
       "      <td>9.608003e-07</td>\n",
       "      <td>0.003125</td>\n",
       "      <td>0.006250</td>\n",
       "      <td>2</td>\n",
       "      <td>{'n_estimators': 2}</td>\n",
       "      <td>0.116284</td>\n",
       "      <td>0.124472</td>\n",
       "      <td>0.128404</td>\n",
       "      <td>0.129588</td>\n",
       "      <td>...</td>\n",
       "      <td>0.123252</td>\n",
       "      <td>0.005471</td>\n",
       "      <td>198</td>\n",
       "      <td>0.127129</td>\n",
       "      <td>0.125316</td>\n",
       "      <td>0.123916</td>\n",
       "      <td>0.124051</td>\n",
       "      <td>0.125201</td>\n",
       "      <td>0.125122</td>\n",
       "      <td>0.001155</td>\n",
       "    </tr>\n",
       "    <tr>\n",
       "      <th>2</th>\n",
       "      <td>0.040623</td>\n",
       "      <td>7.654208e-03</td>\n",
       "      <td>0.003125</td>\n",
       "      <td>0.006250</td>\n",
       "      <td>3</td>\n",
       "      <td>{'n_estimators': 3}</td>\n",
       "      <td>0.161090</td>\n",
       "      <td>0.171084</td>\n",
       "      <td>0.177885</td>\n",
       "      <td>0.180346</td>\n",
       "      <td>...</td>\n",
       "      <td>0.170950</td>\n",
       "      <td>0.007447</td>\n",
       "      <td>197</td>\n",
       "      <td>0.175907</td>\n",
       "      <td>0.173625</td>\n",
       "      <td>0.171496</td>\n",
       "      <td>0.172199</td>\n",
       "      <td>0.173403</td>\n",
       "      <td>0.173326</td>\n",
       "      <td>0.001508</td>\n",
       "    </tr>\n",
       "    <tr>\n",
       "      <th>3</th>\n",
       "      <td>0.049995</td>\n",
       "      <td>6.248761e-03</td>\n",
       "      <td>0.006250</td>\n",
       "      <td>0.007655</td>\n",
       "      <td>4</td>\n",
       "      <td>{'n_estimators': 4}</td>\n",
       "      <td>0.200910</td>\n",
       "      <td>0.213861</td>\n",
       "      <td>0.222418</td>\n",
       "      <td>0.225904</td>\n",
       "      <td>...</td>\n",
       "      <td>0.213778</td>\n",
       "      <td>0.009497</td>\n",
       "      <td>196</td>\n",
       "      <td>0.218748</td>\n",
       "      <td>0.216047</td>\n",
       "      <td>0.213727</td>\n",
       "      <td>0.213175</td>\n",
       "      <td>0.215849</td>\n",
       "      <td>0.215509</td>\n",
       "      <td>0.001976</td>\n",
       "    </tr>\n",
       "    <tr>\n",
       "      <th>4</th>\n",
       "      <td>0.062496</td>\n",
       "      <td>7.747687e-07</td>\n",
       "      <td>0.003125</td>\n",
       "      <td>0.006250</td>\n",
       "      <td>5</td>\n",
       "      <td>{'n_estimators': 5}</td>\n",
       "      <td>0.235540</td>\n",
       "      <td>0.248557</td>\n",
       "      <td>0.260179</td>\n",
       "      <td>0.262805</td>\n",
       "      <td>...</td>\n",
       "      <td>0.248906</td>\n",
       "      <td>0.011227</td>\n",
       "      <td>195</td>\n",
       "      <td>0.255483</td>\n",
       "      <td>0.252378</td>\n",
       "      <td>0.249136</td>\n",
       "      <td>0.249269</td>\n",
       "      <td>0.251734</td>\n",
       "      <td>0.251600</td>\n",
       "      <td>0.002333</td>\n",
       "    </tr>\n",
       "  </tbody>\n",
       "</table>\n",
       "<p>5 rows × 21 columns</p>\n",
       "</div>"
      ],
      "text/plain": [
       "   mean_fit_time  std_fit_time  mean_score_time  std_score_time  \\\n",
       "0       0.028123  6.249785e-03         0.003125        0.006249   \n",
       "1       0.031247  9.608003e-07         0.003125        0.006250   \n",
       "2       0.040623  7.654208e-03         0.003125        0.006250   \n",
       "3       0.049995  6.248761e-03         0.006250        0.007655   \n",
       "4       0.062496  7.747687e-07         0.003125        0.006250   \n",
       "\n",
       "  param_n_estimators               params  split0_test_score  \\\n",
       "0                  1  {'n_estimators': 1}           0.063047   \n",
       "1                  2  {'n_estimators': 2}           0.116284   \n",
       "2                  3  {'n_estimators': 3}           0.161090   \n",
       "3                  4  {'n_estimators': 4}           0.200910   \n",
       "4                  5  {'n_estimators': 5}           0.235540   \n",
       "\n",
       "   split1_test_score  split2_test_score  split3_test_score  ...  \\\n",
       "0           0.068605           0.069182           0.072184  ...   \n",
       "1           0.124472           0.128404           0.129588  ...   \n",
       "2           0.171084           0.177885           0.180346  ...   \n",
       "3           0.213861           0.222418           0.225904  ...   \n",
       "4           0.248557           0.260179           0.262805  ...   \n",
       "\n",
       "   mean_test_score  std_test_score  rank_test_score  split0_train_score  \\\n",
       "0         0.067280        0.003536              199            0.069143   \n",
       "1         0.123252        0.005471              198            0.127129   \n",
       "2         0.170950        0.007447              197            0.175907   \n",
       "3         0.213778        0.009497              196            0.218748   \n",
       "4         0.248906        0.011227              195            0.255483   \n",
       "\n",
       "   split1_train_score  split2_train_score  split3_train_score  \\\n",
       "0            0.067606            0.067486            0.067213   \n",
       "1            0.125316            0.123916            0.124051   \n",
       "2            0.173625            0.171496            0.172199   \n",
       "3            0.216047            0.213727            0.213175   \n",
       "4            0.252378            0.249136            0.249269   \n",
       "\n",
       "   split4_train_score  mean_train_score  std_train_score  \n",
       "0            0.068855          0.068060         0.000782  \n",
       "1            0.125201          0.125122         0.001155  \n",
       "2            0.173403          0.173326         0.001508  \n",
       "3            0.215849          0.215509         0.001976  \n",
       "4            0.251734          0.251600         0.002333  \n",
       "\n",
       "[5 rows x 21 columns]"
      ]
     },
     "execution_count": 166,
     "metadata": {},
     "output_type": "execute_result"
    }
   ],
   "source": [
    "score = grid_grad.cv_results_\n",
    "pd.DataFrame(score).head()"
   ]
  },
  {
   "cell_type": "code",
   "execution_count": 167,
   "metadata": {},
   "outputs": [
    {
     "data": {
      "image/png": "[encoded data removed]",
      "text/plain": [
       "<Figure size 432x288 with 1 Axes>"
      ]
     },
     "metadata": {},
     "output_type": "display_data"
    }
   ],
   "source": [
    "plt.figure()\n",
    "plt.plot(score['param_n_estimators'],\n",
    "        score['mean_train_score'],\n",
    "        label = 'training score')\n",
    "plt.plot(score['param_n_estimators'],\n",
    "        score['mean_test_score'],\n",
    "        label = 'test score')\n",
    "plt.legend()\n",
    "plt.xlabel('Number of Estimators')\n",
    "plt.ylabel('r2_score')\n",
    "plt.show()"
   ]
  },
  {
   "cell_type": "code",
   "execution_count": 168,
   "metadata": {},
   "outputs": [],
   "source": [
    "df_test = pd.read_csv('Test.csv')"
   ]
  },
  {
   "cell_type": "code",
   "execution_count": 169,
   "metadata": {},
   "outputs": [],
   "source": [
    "df_test.Item_Fat_Content = df_test.Item_Fat_Content.replace('LF','Low Fat')\n",
    "df_test.Item_Fat_Content = df_test.Item_Fat_Content.replace('reg','Regular')\n",
    "df_test.Item_Fat_Content = df_test.Item_Fat_Content.replace('low fat','Low Fat')"
   ]
  },
  {
   "cell_type": "code",
   "execution_count": 170,
   "metadata": {},
   "outputs": [],
   "source": [
    "def impute(x):\n",
    "    if x.Outlet_Identifier == 'OUT010':\n",
    "        x.Outlet_Size = 'Small'\n",
    "    elif x.Outlet_Identifier == 'OUT017':\n",
    "        x.Outlet_Size = 'Medium'\n",
    "    elif x.Outlet_Identifier == 'OUT045':\n",
    "        x.Outlet_Size = 'High'\n",
    "    return (x)\n",
    "\n",
    "df_test['Outlet_Size'] = df_test.apply(impute,axis=1)"
   ]
  },
  {
   "cell_type": "code",
   "execution_count": 171,
   "metadata": {},
   "outputs": [],
   "source": [
    "x=df_test[df_test['Item_Weight'].isnull()==True].index\n",
    "for i in x.astype(int):\n",
    "    y = df_test['Item_Type'].iloc[i]\n",
    "    z = df_test['Item_Identifier'].iloc[i]\n",
    "    df_test['Item_Weight'].iloc[i] = (df.groupby(['Item_Type','Item_Identifier'])['Item_Weight'].median())[y][z]"
   ]
  },
  {
   "cell_type": "code",
   "execution_count": 172,
   "metadata": {},
   "outputs": [],
   "source": [
    "df_test['Item_Weight'].iloc[1724] = 11.6500"
   ]
  },
  {
   "cell_type": "code",
   "execution_count": 173,
   "metadata": {},
   "outputs": [],
   "source": [
    "fat_encode = pd.DataFrame(encode.fit_transform(df_test[['Item_Fat_Content']]).toarray())\n",
    "df1_test = df_test.join(fat_encode)\n",
    "df1_test = df1_test.drop(['Item_Fat_Content',0],axis=1)\n",
    "df1_test.rename(columns={1:'Item_Fat_Content'},inplace=True)"
   ]
  },
  {
   "cell_type": "code",
   "execution_count": 174,
   "metadata": {},
   "outputs": [],
   "source": [
    "type_encode = pd.DataFrame(encode.fit_transform(df1_test[['Item_Type']]).toarray(),columns=df1_test['Item_Type'].value_counts().index)\n",
    "df1_test = df1_test.join(type_encode)\n",
    "df1_test.drop(['Item_Type','Fruits and Vegetables'],axis=1,inplace=True)"
   ]
  },
  {
   "cell_type": "code",
   "execution_count": 175,
   "metadata": {},
   "outputs": [],
   "source": [
    "identifier_encode = pd.DataFrame(encode.fit_transform(df1_test[['Outlet_Identifier']]).toarray(),\n",
    "                                 columns=df1_test['Outlet_Identifier'].value_counts().index)\n",
    "df1_test = df1_test.join(identifier_encode)\n",
    "df1_test.drop(['Outlet_Identifier','OUT027'],axis=1,inplace=True)"
   ]
  },
  {
   "cell_type": "code",
   "execution_count": 176,
   "metadata": {},
   "outputs": [],
   "source": [
    "year_encode = pd.DataFrame(encode.fit_transform(df1_test[['Outlet_Establishment_Year']]).toarray(),\n",
    "                           columns=df1_test['Outlet_Establishment_Year'].value_counts().index)\n",
    "df1_test = df1_test.join(year_encode)\n",
    "df1_test.drop(['Outlet_Establishment_Year',1985],axis=1,inplace=True)"
   ]
  },
  {
   "cell_type": "code",
   "execution_count": 177,
   "metadata": {},
   "outputs": [],
   "source": [
    "location_encode = pd.DataFrame(encode.fit_transform(df1_test[['Outlet_Location_Type']]).toarray(),\n",
    "                           columns=df1_test['Outlet_Location_Type'].value_counts().index)\n",
    "df1_test = df1_test.join(location_encode)\n",
    "df1_test.drop(['Outlet_Location_Type','Tier 1'],axis=1,inplace=True)"
   ]
  },
  {
   "cell_type": "code",
   "execution_count": 178,
   "metadata": {},
   "outputs": [],
   "source": [
    "outlet_encode = pd.DataFrame(encode.fit_transform(df1_test[['Outlet_Type']]).toarray(),\n",
    "                           columns=df1_test['Outlet_Type'].value_counts().index)\n",
    "df1_test = df1_test.join(outlet_encode)\n",
    "df1_test.drop(['Outlet_Type','Supermarket Type1'],axis=1,inplace=True)"
   ]
  },
  {
   "cell_type": "code",
   "execution_count": 179,
   "metadata": {},
   "outputs": [],
   "source": [
    "df2_test = df1_test.drop(['Item_Identifier','Outlet_Size'],axis=1)"
   ]
  },
  {
   "cell_type": "code",
   "execution_count": 180,
   "metadata": {},
   "outputs": [
    {
     "data": {
      "text/html": [
       "<div>\n",
       "<style scoped>\n",
       "    .dataframe tbody tr th:only-of-type {\n",
       "        vertical-align: middle;\n",
       "    }\n",
       "\n",
       "    .dataframe tbody tr th {\n",
       "        vertical-align: top;\n",
       "    }\n",
       "\n",
       "    .dataframe thead th {\n",
       "        text-align: right;\n",
       "    }\n",
       "</style>\n",
       "<table border=\"1\" class=\"dataframe\">\n",
       "  <thead>\n",
       "    <tr style=\"text-align: right;\">\n",
       "      <th></th>\n",
       "      <th>Item_Weight</th>\n",
       "      <th>Item_Visibility</th>\n",
       "      <th>Item_MRP</th>\n",
       "      <th>Item_Fat_Content</th>\n",
       "      <th>Snack Foods</th>\n",
       "      <th>Household</th>\n",
       "      <th>Frozen Foods</th>\n",
       "      <th>Dairy</th>\n",
       "      <th>Baking Goods</th>\n",
       "      <th>Canned</th>\n",
       "      <th>...</th>\n",
       "      <th>2004</th>\n",
       "      <th>2002</th>\n",
       "      <th>2009</th>\n",
       "      <th>2007</th>\n",
       "      <th>1998</th>\n",
       "      <th>Tier 3</th>\n",
       "      <th>Tier 2</th>\n",
       "      <th>Grocery Store</th>\n",
       "      <th>Supermarket Type3</th>\n",
       "      <th>Supermarket Type2</th>\n",
       "    </tr>\n",
       "  </thead>\n",
       "  <tbody>\n",
       "    <tr>\n",
       "      <th>0</th>\n",
       "      <td>20.750</td>\n",
       "      <td>0.007565</td>\n",
       "      <td>107.8622</td>\n",
       "      <td>0.0</td>\n",
       "      <td>0.0</td>\n",
       "      <td>0.0</td>\n",
       "      <td>0.0</td>\n",
       "      <td>0.0</td>\n",
       "      <td>0.0</td>\n",
       "      <td>0.0</td>\n",
       "      <td>...</td>\n",
       "      <td>1.0</td>\n",
       "      <td>0.0</td>\n",
       "      <td>0.0</td>\n",
       "      <td>0.0</td>\n",
       "      <td>0.0</td>\n",
       "      <td>1.0</td>\n",
       "      <td>0.0</td>\n",
       "      <td>1.0</td>\n",
       "      <td>0.0</td>\n",
       "      <td>0.0</td>\n",
       "    </tr>\n",
       "    <tr>\n",
       "      <th>1</th>\n",
       "      <td>8.300</td>\n",
       "      <td>0.038428</td>\n",
       "      <td>87.3198</td>\n",
       "      <td>1.0</td>\n",
       "      <td>0.0</td>\n",
       "      <td>0.0</td>\n",
       "      <td>0.0</td>\n",
       "      <td>1.0</td>\n",
       "      <td>0.0</td>\n",
       "      <td>0.0</td>\n",
       "      <td>...</td>\n",
       "      <td>0.0</td>\n",
       "      <td>0.0</td>\n",
       "      <td>0.0</td>\n",
       "      <td>1.0</td>\n",
       "      <td>0.0</td>\n",
       "      <td>0.0</td>\n",
       "      <td>1.0</td>\n",
       "      <td>1.0</td>\n",
       "      <td>0.0</td>\n",
       "      <td>0.0</td>\n",
       "    </tr>\n",
       "    <tr>\n",
       "      <th>2</th>\n",
       "      <td>14.600</td>\n",
       "      <td>0.099575</td>\n",
       "      <td>241.7538</td>\n",
       "      <td>0.0</td>\n",
       "      <td>0.0</td>\n",
       "      <td>0.0</td>\n",
       "      <td>0.0</td>\n",
       "      <td>0.0</td>\n",
       "      <td>0.0</td>\n",
       "      <td>0.0</td>\n",
       "      <td>...</td>\n",
       "      <td>0.0</td>\n",
       "      <td>0.0</td>\n",
       "      <td>0.0</td>\n",
       "      <td>0.0</td>\n",
       "      <td>0.0</td>\n",
       "      <td>0.0</td>\n",
       "      <td>0.0</td>\n",
       "      <td>0.0</td>\n",
       "      <td>0.0</td>\n",
       "      <td>0.0</td>\n",
       "    </tr>\n",
       "    <tr>\n",
       "      <th>3</th>\n",
       "      <td>7.315</td>\n",
       "      <td>0.015388</td>\n",
       "      <td>155.0340</td>\n",
       "      <td>0.0</td>\n",
       "      <td>0.0</td>\n",
       "      <td>0.0</td>\n",
       "      <td>0.0</td>\n",
       "      <td>0.0</td>\n",
       "      <td>0.0</td>\n",
       "      <td>0.0</td>\n",
       "      <td>...</td>\n",
       "      <td>0.0</td>\n",
       "      <td>0.0</td>\n",
       "      <td>0.0</td>\n",
       "      <td>1.0</td>\n",
       "      <td>0.0</td>\n",
       "      <td>0.0</td>\n",
       "      <td>1.0</td>\n",
       "      <td>1.0</td>\n",
       "      <td>0.0</td>\n",
       "      <td>0.0</td>\n",
       "    </tr>\n",
       "    <tr>\n",
       "      <th>4</th>\n",
       "      <td>13.600</td>\n",
       "      <td>0.118599</td>\n",
       "      <td>234.2300</td>\n",
       "      <td>1.0</td>\n",
       "      <td>0.0</td>\n",
       "      <td>0.0</td>\n",
       "      <td>0.0</td>\n",
       "      <td>1.0</td>\n",
       "      <td>0.0</td>\n",
       "      <td>0.0</td>\n",
       "      <td>...</td>\n",
       "      <td>0.0</td>\n",
       "      <td>0.0</td>\n",
       "      <td>0.0</td>\n",
       "      <td>0.0</td>\n",
       "      <td>0.0</td>\n",
       "      <td>0.0</td>\n",
       "      <td>0.0</td>\n",
       "      <td>0.0</td>\n",
       "      <td>0.0</td>\n",
       "      <td>1.0</td>\n",
       "    </tr>\n",
       "    <tr>\n",
       "      <th>...</th>\n",
       "      <td>...</td>\n",
       "      <td>...</td>\n",
       "      <td>...</td>\n",
       "      <td>...</td>\n",
       "      <td>...</td>\n",
       "      <td>...</td>\n",
       "      <td>...</td>\n",
       "      <td>...</td>\n",
       "      <td>...</td>\n",
       "      <td>...</td>\n",
       "      <td>...</td>\n",
       "      <td>...</td>\n",
       "      <td>...</td>\n",
       "      <td>...</td>\n",
       "      <td>...</td>\n",
       "      <td>...</td>\n",
       "      <td>...</td>\n",
       "      <td>...</td>\n",
       "      <td>...</td>\n",
       "      <td>...</td>\n",
       "      <td>...</td>\n",
       "    </tr>\n",
       "    <tr>\n",
       "      <th>5676</th>\n",
       "      <td>10.500</td>\n",
       "      <td>0.013496</td>\n",
       "      <td>141.3154</td>\n",
       "      <td>1.0</td>\n",
       "      <td>0.0</td>\n",
       "      <td>0.0</td>\n",
       "      <td>0.0</td>\n",
       "      <td>0.0</td>\n",
       "      <td>0.0</td>\n",
       "      <td>0.0</td>\n",
       "      <td>...</td>\n",
       "      <td>0.0</td>\n",
       "      <td>0.0</td>\n",
       "      <td>0.0</td>\n",
       "      <td>0.0</td>\n",
       "      <td>0.0</td>\n",
       "      <td>1.0</td>\n",
       "      <td>0.0</td>\n",
       "      <td>1.0</td>\n",
       "      <td>0.0</td>\n",
       "      <td>0.0</td>\n",
       "    </tr>\n",
       "    <tr>\n",
       "      <th>5677</th>\n",
       "      <td>7.600</td>\n",
       "      <td>0.142991</td>\n",
       "      <td>169.1448</td>\n",
       "      <td>1.0</td>\n",
       "      <td>0.0</td>\n",
       "      <td>0.0</td>\n",
       "      <td>0.0</td>\n",
       "      <td>0.0</td>\n",
       "      <td>0.0</td>\n",
       "      <td>0.0</td>\n",
       "      <td>...</td>\n",
       "      <td>0.0</td>\n",
       "      <td>0.0</td>\n",
       "      <td>0.0</td>\n",
       "      <td>0.0</td>\n",
       "      <td>1.0</td>\n",
       "      <td>0.0</td>\n",
       "      <td>0.0</td>\n",
       "      <td>0.0</td>\n",
       "      <td>1.0</td>\n",
       "      <td>0.0</td>\n",
       "    </tr>\n",
       "    <tr>\n",
       "      <th>5678</th>\n",
       "      <td>10.000</td>\n",
       "      <td>0.073529</td>\n",
       "      <td>118.7440</td>\n",
       "      <td>0.0</td>\n",
       "      <td>0.0</td>\n",
       "      <td>0.0</td>\n",
       "      <td>0.0</td>\n",
       "      <td>0.0</td>\n",
       "      <td>0.0</td>\n",
       "      <td>0.0</td>\n",
       "      <td>...</td>\n",
       "      <td>0.0</td>\n",
       "      <td>1.0</td>\n",
       "      <td>0.0</td>\n",
       "      <td>0.0</td>\n",
       "      <td>0.0</td>\n",
       "      <td>0.0</td>\n",
       "      <td>1.0</td>\n",
       "      <td>1.0</td>\n",
       "      <td>0.0</td>\n",
       "      <td>0.0</td>\n",
       "    </tr>\n",
       "    <tr>\n",
       "      <th>5679</th>\n",
       "      <td>15.300</td>\n",
       "      <td>0.000000</td>\n",
       "      <td>214.6218</td>\n",
       "      <td>1.0</td>\n",
       "      <td>0.0</td>\n",
       "      <td>0.0</td>\n",
       "      <td>1.0</td>\n",
       "      <td>0.0</td>\n",
       "      <td>0.0</td>\n",
       "      <td>0.0</td>\n",
       "      <td>...</td>\n",
       "      <td>0.0</td>\n",
       "      <td>0.0</td>\n",
       "      <td>0.0</td>\n",
       "      <td>1.0</td>\n",
       "      <td>0.0</td>\n",
       "      <td>0.0</td>\n",
       "      <td>1.0</td>\n",
       "      <td>1.0</td>\n",
       "      <td>0.0</td>\n",
       "      <td>0.0</td>\n",
       "    </tr>\n",
       "    <tr>\n",
       "      <th>5680</th>\n",
       "      <td>9.500</td>\n",
       "      <td>0.104720</td>\n",
       "      <td>79.7960</td>\n",
       "      <td>1.0</td>\n",
       "      <td>0.0</td>\n",
       "      <td>0.0</td>\n",
       "      <td>1.0</td>\n",
       "      <td>0.0</td>\n",
       "      <td>0.0</td>\n",
       "      <td>0.0</td>\n",
       "      <td>...</td>\n",
       "      <td>0.0</td>\n",
       "      <td>1.0</td>\n",
       "      <td>0.0</td>\n",
       "      <td>0.0</td>\n",
       "      <td>0.0</td>\n",
       "      <td>0.0</td>\n",
       "      <td>1.0</td>\n",
       "      <td>1.0</td>\n",
       "      <td>0.0</td>\n",
       "      <td>0.0</td>\n",
       "    </tr>\n",
       "  </tbody>\n",
       "</table>\n",
       "<p>5681 rows × 41 columns</p>\n",
       "</div>"
      ],
      "text/plain": [
       "      Item_Weight  Item_Visibility  Item_MRP  Item_Fat_Content  Snack Foods  \\\n",
       "0          20.750         0.007565  107.8622               0.0          0.0   \n",
       "1           8.300         0.038428   87.3198               1.0          0.0   \n",
       "2          14.600         0.099575  241.7538               0.0          0.0   \n",
       "3           7.315         0.015388  155.0340               0.0          0.0   \n",
       "4          13.600         0.118599  234.2300               1.0          0.0   \n",
       "...           ...              ...       ...               ...          ...   \n",
       "5676       10.500         0.013496  141.3154               1.0          0.0   \n",
       "5677        7.600         0.142991  169.1448               1.0          0.0   \n",
       "5678       10.000         0.073529  118.7440               0.0          0.0   \n",
       "5679       15.300         0.000000  214.6218               1.0          0.0   \n",
       "5680        9.500         0.104720   79.7960               1.0          0.0   \n",
       "\n",
       "      Household  Frozen Foods  Dairy  Baking Goods  Canned  ...  2004  2002  \\\n",
       "0           0.0           0.0    0.0           0.0     0.0  ...   1.0   0.0   \n",
       "1           0.0           0.0    1.0           0.0     0.0  ...   0.0   0.0   \n",
       "2           0.0           0.0    0.0           0.0     0.0  ...   0.0   0.0   \n",
       "3           0.0           0.0    0.0           0.0     0.0  ...   0.0   0.0   \n",
       "4           0.0           0.0    1.0           0.0     0.0  ...   0.0   0.0   \n",
       "...         ...           ...    ...           ...     ...  ...   ...   ...   \n",
       "5676        0.0           0.0    0.0           0.0     0.0  ...   0.0   0.0   \n",
       "5677        0.0           0.0    0.0           0.0     0.0  ...   0.0   0.0   \n",
       "5678        0.0           0.0    0.0           0.0     0.0  ...   0.0   1.0   \n",
       "5679        0.0           1.0    0.0           0.0     0.0  ...   0.0   0.0   \n",
       "5680        0.0           1.0    0.0           0.0     0.0  ...   0.0   1.0   \n",
       "\n",
       "      2009  2007  1998  Tier 3  Tier 2  Grocery Store  Supermarket Type3  \\\n",
       "0      0.0   0.0   0.0     1.0     0.0            1.0                0.0   \n",
       "1      0.0   1.0   0.0     0.0     1.0            1.0                0.0   \n",
       "2      0.0   0.0   0.0     0.0     0.0            0.0                0.0   \n",
       "3      0.0   1.0   0.0     0.0     1.0            1.0                0.0   \n",
       "4      0.0   0.0   0.0     0.0     0.0            0.0                0.0   \n",
       "...    ...   ...   ...     ...     ...            ...                ...   \n",
       "5676   0.0   0.0   0.0     1.0     0.0            1.0                0.0   \n",
       "5677   0.0   0.0   1.0     0.0     0.0            0.0                1.0   \n",
       "5678   0.0   0.0   0.0     0.0     1.0            1.0                0.0   \n",
       "5679   0.0   1.0   0.0     0.0     1.0            1.0                0.0   \n",
       "5680   0.0   0.0   0.0     0.0     1.0            1.0                0.0   \n",
       "\n",
       "      Supermarket Type2  \n",
       "0                   0.0  \n",
       "1                   0.0  \n",
       "2                   0.0  \n",
       "3                   0.0  \n",
       "4                   1.0  \n",
       "...                 ...  \n",
       "5676                0.0  \n",
       "5677                0.0  \n",
       "5678                0.0  \n",
       "5679                0.0  \n",
       "5680                0.0  \n",
       "\n",
       "[5681 rows x 41 columns]"
      ]
     },
     "execution_count": 180,
     "metadata": {},
     "output_type": "execute_result"
    }
   ],
   "source": [
    "df2_test"
   ]
  },
  {
   "cell_type": "code",
   "execution_count": 181,
   "metadata": {},
   "outputs": [],
   "source": [
    "transform = pd.DataFrame(df2_test[['Item_Weight','Item_Visibility','Item_MRP']])\n",
    "z_score = transform.apply(zscore)\n",
    "df2_test.drop(['Item_Weight','Item_Visibility','Item_MRP'],axis=1,inplace=True)\n",
    "df2_test = df2_test.join(z_score)"
   ]
  },
  {
   "cell_type": "code",
   "execution_count": 182,
   "metadata": {},
   "outputs": [
    {
     "data": {
      "text/html": [
       "<div>\n",
       "<style scoped>\n",
       "    .dataframe tbody tr th:only-of-type {\n",
       "        vertical-align: middle;\n",
       "    }\n",
       "\n",
       "    .dataframe tbody tr th {\n",
       "        vertical-align: top;\n",
       "    }\n",
       "\n",
       "    .dataframe thead th {\n",
       "        text-align: right;\n",
       "    }\n",
       "</style>\n",
       "<table border=\"1\" class=\"dataframe\">\n",
       "  <thead>\n",
       "    <tr style=\"text-align: right;\">\n",
       "      <th></th>\n",
       "      <th>Item_Fat_Content</th>\n",
       "      <th>Snack Foods</th>\n",
       "      <th>Household</th>\n",
       "      <th>Frozen Foods</th>\n",
       "      <th>Dairy</th>\n",
       "      <th>Baking Goods</th>\n",
       "      <th>Canned</th>\n",
       "      <th>Health and Hygiene</th>\n",
       "      <th>Meat</th>\n",
       "      <th>Soft Drinks</th>\n",
       "      <th>...</th>\n",
       "      <th>2007</th>\n",
       "      <th>1998</th>\n",
       "      <th>Tier 3</th>\n",
       "      <th>Tier 2</th>\n",
       "      <th>Grocery Store</th>\n",
       "      <th>Supermarket Type3</th>\n",
       "      <th>Supermarket Type2</th>\n",
       "      <th>Item_Weight</th>\n",
       "      <th>Item_Visibility</th>\n",
       "      <th>Item_MRP</th>\n",
       "    </tr>\n",
       "  </thead>\n",
       "  <tbody>\n",
       "    <tr>\n",
       "      <th>0</th>\n",
       "      <td>0.0</td>\n",
       "      <td>0.0</td>\n",
       "      <td>0.0</td>\n",
       "      <td>0.0</td>\n",
       "      <td>0.0</td>\n",
       "      <td>0.0</td>\n",
       "      <td>0.0</td>\n",
       "      <td>0.0</td>\n",
       "      <td>0.0</td>\n",
       "      <td>0.0</td>\n",
       "      <td>...</td>\n",
       "      <td>0.0</td>\n",
       "      <td>0.0</td>\n",
       "      <td>1.0</td>\n",
       "      <td>0.0</td>\n",
       "      <td>1.0</td>\n",
       "      <td>0.0</td>\n",
       "      <td>0.0</td>\n",
       "      <td>1.734146</td>\n",
       "      <td>-1.134077</td>\n",
       "      <td>-0.536555</td>\n",
       "    </tr>\n",
       "    <tr>\n",
       "      <th>1</th>\n",
       "      <td>1.0</td>\n",
       "      <td>0.0</td>\n",
       "      <td>0.0</td>\n",
       "      <td>0.0</td>\n",
       "      <td>1.0</td>\n",
       "      <td>0.0</td>\n",
       "      <td>0.0</td>\n",
       "      <td>0.0</td>\n",
       "      <td>0.0</td>\n",
       "      <td>0.0</td>\n",
       "      <td>...</td>\n",
       "      <td>1.0</td>\n",
       "      <td>0.0</td>\n",
       "      <td>0.0</td>\n",
       "      <td>1.0</td>\n",
       "      <td>1.0</td>\n",
       "      <td>0.0</td>\n",
       "      <td>0.0</td>\n",
       "      <td>-0.939207</td>\n",
       "      <td>-0.531850</td>\n",
       "      <td>-0.868937</td>\n",
       "    </tr>\n",
       "    <tr>\n",
       "      <th>2</th>\n",
       "      <td>0.0</td>\n",
       "      <td>0.0</td>\n",
       "      <td>0.0</td>\n",
       "      <td>0.0</td>\n",
       "      <td>0.0</td>\n",
       "      <td>0.0</td>\n",
       "      <td>0.0</td>\n",
       "      <td>0.0</td>\n",
       "      <td>0.0</td>\n",
       "      <td>0.0</td>\n",
       "      <td>...</td>\n",
       "      <td>0.0</td>\n",
       "      <td>0.0</td>\n",
       "      <td>0.0</td>\n",
       "      <td>0.0</td>\n",
       "      <td>0.0</td>\n",
       "      <td>0.0</td>\n",
       "      <td>0.0</td>\n",
       "      <td>0.413574</td>\n",
       "      <td>0.661316</td>\n",
       "      <td>1.629848</td>\n",
       "    </tr>\n",
       "    <tr>\n",
       "      <th>3</th>\n",
       "      <td>0.0</td>\n",
       "      <td>0.0</td>\n",
       "      <td>0.0</td>\n",
       "      <td>0.0</td>\n",
       "      <td>0.0</td>\n",
       "      <td>0.0</td>\n",
       "      <td>0.0</td>\n",
       "      <td>0.0</td>\n",
       "      <td>0.0</td>\n",
       "      <td>0.0</td>\n",
       "      <td>...</td>\n",
       "      <td>1.0</td>\n",
       "      <td>0.0</td>\n",
       "      <td>0.0</td>\n",
       "      <td>1.0</td>\n",
       "      <td>1.0</td>\n",
       "      <td>0.0</td>\n",
       "      <td>0.0</td>\n",
       "      <td>-1.150714</td>\n",
       "      <td>-0.981416</td>\n",
       "      <td>0.226697</td>\n",
       "    </tr>\n",
       "    <tr>\n",
       "      <th>4</th>\n",
       "      <td>1.0</td>\n",
       "      <td>0.0</td>\n",
       "      <td>0.0</td>\n",
       "      <td>0.0</td>\n",
       "      <td>1.0</td>\n",
       "      <td>0.0</td>\n",
       "      <td>0.0</td>\n",
       "      <td>0.0</td>\n",
       "      <td>0.0</td>\n",
       "      <td>0.0</td>\n",
       "      <td>...</td>\n",
       "      <td>0.0</td>\n",
       "      <td>0.0</td>\n",
       "      <td>0.0</td>\n",
       "      <td>0.0</td>\n",
       "      <td>0.0</td>\n",
       "      <td>0.0</td>\n",
       "      <td>1.0</td>\n",
       "      <td>0.198847</td>\n",
       "      <td>1.032540</td>\n",
       "      <td>1.508110</td>\n",
       "    </tr>\n",
       "    <tr>\n",
       "      <th>...</th>\n",
       "      <td>...</td>\n",
       "      <td>...</td>\n",
       "      <td>...</td>\n",
       "      <td>...</td>\n",
       "      <td>...</td>\n",
       "      <td>...</td>\n",
       "      <td>...</td>\n",
       "      <td>...</td>\n",
       "      <td>...</td>\n",
       "      <td>...</td>\n",
       "      <td>...</td>\n",
       "      <td>...</td>\n",
       "      <td>...</td>\n",
       "      <td>...</td>\n",
       "      <td>...</td>\n",
       "      <td>...</td>\n",
       "      <td>...</td>\n",
       "      <td>...</td>\n",
       "      <td>...</td>\n",
       "      <td>...</td>\n",
       "      <td>...</td>\n",
       "    </tr>\n",
       "    <tr>\n",
       "      <th>5676</th>\n",
       "      <td>1.0</td>\n",
       "      <td>0.0</td>\n",
       "      <td>0.0</td>\n",
       "      <td>0.0</td>\n",
       "      <td>0.0</td>\n",
       "      <td>0.0</td>\n",
       "      <td>0.0</td>\n",
       "      <td>0.0</td>\n",
       "      <td>0.0</td>\n",
       "      <td>0.0</td>\n",
       "      <td>...</td>\n",
       "      <td>0.0</td>\n",
       "      <td>0.0</td>\n",
       "      <td>1.0</td>\n",
       "      <td>0.0</td>\n",
       "      <td>1.0</td>\n",
       "      <td>0.0</td>\n",
       "      <td>0.0</td>\n",
       "      <td>-0.466807</td>\n",
       "      <td>-1.018333</td>\n",
       "      <td>0.004727</td>\n",
       "    </tr>\n",
       "    <tr>\n",
       "      <th>5677</th>\n",
       "      <td>1.0</td>\n",
       "      <td>0.0</td>\n",
       "      <td>0.0</td>\n",
       "      <td>0.0</td>\n",
       "      <td>0.0</td>\n",
       "      <td>0.0</td>\n",
       "      <td>0.0</td>\n",
       "      <td>0.0</td>\n",
       "      <td>0.0</td>\n",
       "      <td>0.0</td>\n",
       "      <td>...</td>\n",
       "      <td>0.0</td>\n",
       "      <td>1.0</td>\n",
       "      <td>0.0</td>\n",
       "      <td>0.0</td>\n",
       "      <td>0.0</td>\n",
       "      <td>1.0</td>\n",
       "      <td>0.0</td>\n",
       "      <td>-1.089516</td>\n",
       "      <td>1.508493</td>\n",
       "      <td>0.455014</td>\n",
       "    </tr>\n",
       "    <tr>\n",
       "      <th>5678</th>\n",
       "      <td>0.0</td>\n",
       "      <td>0.0</td>\n",
       "      <td>0.0</td>\n",
       "      <td>0.0</td>\n",
       "      <td>0.0</td>\n",
       "      <td>0.0</td>\n",
       "      <td>0.0</td>\n",
       "      <td>0.0</td>\n",
       "      <td>1.0</td>\n",
       "      <td>0.0</td>\n",
       "      <td>...</td>\n",
       "      <td>0.0</td>\n",
       "      <td>0.0</td>\n",
       "      <td>0.0</td>\n",
       "      <td>1.0</td>\n",
       "      <td>1.0</td>\n",
       "      <td>0.0</td>\n",
       "      <td>0.0</td>\n",
       "      <td>-0.574171</td>\n",
       "      <td>0.153074</td>\n",
       "      <td>-0.360485</td>\n",
       "    </tr>\n",
       "    <tr>\n",
       "      <th>5679</th>\n",
       "      <td>1.0</td>\n",
       "      <td>0.0</td>\n",
       "      <td>0.0</td>\n",
       "      <td>1.0</td>\n",
       "      <td>0.0</td>\n",
       "      <td>0.0</td>\n",
       "      <td>0.0</td>\n",
       "      <td>0.0</td>\n",
       "      <td>0.0</td>\n",
       "      <td>0.0</td>\n",
       "      <td>...</td>\n",
       "      <td>1.0</td>\n",
       "      <td>0.0</td>\n",
       "      <td>0.0</td>\n",
       "      <td>1.0</td>\n",
       "      <td>1.0</td>\n",
       "      <td>0.0</td>\n",
       "      <td>0.0</td>\n",
       "      <td>0.563883</td>\n",
       "      <td>-1.281690</td>\n",
       "      <td>1.190844</td>\n",
       "    </tr>\n",
       "    <tr>\n",
       "      <th>5680</th>\n",
       "      <td>1.0</td>\n",
       "      <td>0.0</td>\n",
       "      <td>0.0</td>\n",
       "      <td>1.0</td>\n",
       "      <td>0.0</td>\n",
       "      <td>0.0</td>\n",
       "      <td>0.0</td>\n",
       "      <td>0.0</td>\n",
       "      <td>0.0</td>\n",
       "      <td>0.0</td>\n",
       "      <td>...</td>\n",
       "      <td>0.0</td>\n",
       "      <td>0.0</td>\n",
       "      <td>0.0</td>\n",
       "      <td>1.0</td>\n",
       "      <td>1.0</td>\n",
       "      <td>0.0</td>\n",
       "      <td>0.0</td>\n",
       "      <td>-0.681535</td>\n",
       "      <td>0.761716</td>\n",
       "      <td>-0.990674</td>\n",
       "    </tr>\n",
       "  </tbody>\n",
       "</table>\n",
       "<p>5681 rows × 41 columns</p>\n",
       "</div>"
      ],
      "text/plain": [
       "      Item_Fat_Content  Snack Foods  Household  Frozen Foods  Dairy  \\\n",
       "0                  0.0          0.0        0.0           0.0    0.0   \n",
       "1                  1.0          0.0        0.0           0.0    1.0   \n",
       "2                  0.0          0.0        0.0           0.0    0.0   \n",
       "3                  0.0          0.0        0.0           0.0    0.0   \n",
       "4                  1.0          0.0        0.0           0.0    1.0   \n",
       "...                ...          ...        ...           ...    ...   \n",
       "5676               1.0          0.0        0.0           0.0    0.0   \n",
       "5677               1.0          0.0        0.0           0.0    0.0   \n",
       "5678               0.0          0.0        0.0           0.0    0.0   \n",
       "5679               1.0          0.0        0.0           1.0    0.0   \n",
       "5680               1.0          0.0        0.0           1.0    0.0   \n",
       "\n",
       "      Baking Goods  Canned  Health and Hygiene  Meat  Soft Drinks  ...  2007  \\\n",
       "0              0.0     0.0                 0.0   0.0          0.0  ...   0.0   \n",
       "1              0.0     0.0                 0.0   0.0          0.0  ...   1.0   \n",
       "2              0.0     0.0                 0.0   0.0          0.0  ...   0.0   \n",
       "3              0.0     0.0                 0.0   0.0          0.0  ...   1.0   \n",
       "4              0.0     0.0                 0.0   0.0          0.0  ...   0.0   \n",
       "...            ...     ...                 ...   ...          ...  ...   ...   \n",
       "5676           0.0     0.0                 0.0   0.0          0.0  ...   0.0   \n",
       "5677           0.0     0.0                 0.0   0.0          0.0  ...   0.0   \n",
       "5678           0.0     0.0                 0.0   1.0          0.0  ...   0.0   \n",
       "5679           0.0     0.0                 0.0   0.0          0.0  ...   1.0   \n",
       "5680           0.0     0.0                 0.0   0.0          0.0  ...   0.0   \n",
       "\n",
       "      1998  Tier 3  Tier 2  Grocery Store  Supermarket Type3  \\\n",
       "0      0.0     1.0     0.0            1.0                0.0   \n",
       "1      0.0     0.0     1.0            1.0                0.0   \n",
       "2      0.0     0.0     0.0            0.0                0.0   \n",
       "3      0.0     0.0     1.0            1.0                0.0   \n",
       "4      0.0     0.0     0.0            0.0                0.0   \n",
       "...    ...     ...     ...            ...                ...   \n",
       "5676   0.0     1.0     0.0            1.0                0.0   \n",
       "5677   1.0     0.0     0.0            0.0                1.0   \n",
       "5678   0.0     0.0     1.0            1.0                0.0   \n",
       "5679   0.0     0.0     1.0            1.0                0.0   \n",
       "5680   0.0     0.0     1.0            1.0                0.0   \n",
       "\n",
       "      Supermarket Type2  Item_Weight  Item_Visibility  Item_MRP  \n",
       "0                   0.0     1.734146        -1.134077 -0.536555  \n",
       "1                   0.0    -0.939207        -0.531850 -0.868937  \n",
       "2                   0.0     0.413574         0.661316  1.629848  \n",
       "3                   0.0    -1.150714        -0.981416  0.226697  \n",
       "4                   1.0     0.198847         1.032540  1.508110  \n",
       "...                 ...          ...              ...       ...  \n",
       "5676                0.0    -0.466807        -1.018333  0.004727  \n",
       "5677                0.0    -1.089516         1.508493  0.455014  \n",
       "5678                0.0    -0.574171         0.153074 -0.360485  \n",
       "5679                0.0     0.563883        -1.281690  1.190844  \n",
       "5680                0.0    -0.681535         0.761716 -0.990674  \n",
       "\n",
       "[5681 rows x 41 columns]"
      ]
     },
     "execution_count": 182,
     "metadata": {},
     "output_type": "execute_result"
    }
   ],
   "source": [
    "df2_test"
   ]
  },
  {
   "cell_type": "code",
   "execution_count": 183,
   "metadata": {},
   "outputs": [],
   "source": [
    "selected_features = df2_test.columns[lasso00001.coef_!=0]"
   ]
  },
  {
   "cell_type": "code",
   "execution_count": 184,
   "metadata": {},
   "outputs": [
    {
     "data": {
      "text/plain": [
       "Index([  'Item_Fat_Content',        'Snack Foods',          'Household',\n",
       "             'Frozen Foods',              'Dairy',       'Baking Goods',\n",
       "                   'Canned', 'Health and Hygiene',        'Soft Drinks',\n",
       "              'Hard Drinks',      'Starchy Foods',             'Others',\n",
       "                'Breakfast',            'Seafood',             'OUT035',\n",
       "                   'OUT046',             'OUT045',             'OUT018',\n",
       "                   'OUT017',             'OUT010',             'OUT019',\n",
       "                       1999,                 1997,                 2004,\n",
       "                       2002,                 2009,                 2007,\n",
       "                   'Tier 3',             'Tier 2',      'Grocery Store',\n",
       "        'Supermarket Type2',        'Item_Weight',    'Item_Visibility',\n",
       "                 'Item_MRP'],\n",
       "      dtype='object')"
      ]
     },
     "execution_count": 184,
     "metadata": {},
     "output_type": "execute_result"
    }
   ],
   "source": [
    "selected_features"
   ]
  },
  {
   "cell_type": "code",
   "execution_count": 185,
   "metadata": {},
   "outputs": [],
   "source": [
    "df2_test = df2_test[selected_features]"
   ]
  },
  {
   "cell_type": "code",
   "execution_count": 186,
   "metadata": {},
   "outputs": [
    {
     "data": {
      "text/plain": [
       "(5681, 34)"
      ]
     },
     "execution_count": 186,
     "metadata": {},
     "output_type": "execute_result"
    }
   ],
   "source": [
    "df2_test.shape"
   ]
  },
  {
   "cell_type": "code",
   "execution_count": 187,
   "metadata": {},
   "outputs": [
    {
     "data": {
      "text/plain": [
       "RandomForestRegressor(max_depth=5, min_samples_leaf=25, min_samples_split=75)"
      ]
     },
     "execution_count": 187,
     "metadata": {},
     "output_type": "execute_result"
    }
   ],
   "source": [
    "rfor.fit(X2,y2)"
   ]
  },
  {
   "cell_type": "code",
   "execution_count": 188,
   "metadata": {},
   "outputs": [],
   "source": [
    "ytest_predict = rfor.predict(df2_test)"
   ]
  },
  {
   "cell_type": "code",
   "execution_count": 189,
   "metadata": {},
   "outputs": [
    {
     "data": {
      "text/plain": [
       "array([2084.36880944,  701.91592187, 1786.07192849, ...,  670.67295211,\n",
       "       2630.91499507, 1109.06672321])"
      ]
     },
     "execution_count": 189,
     "metadata": {},
     "output_type": "execute_result"
    }
   ],
   "source": [
    "ytest_predict"
   ]
  },
  {
   "cell_type": "code",
   "execution_count": 190,
   "metadata": {},
   "outputs": [],
   "source": [
    "result =pd.DataFrame()"
   ]
  },
  {
   "cell_type": "code",
   "execution_count": 191,
   "metadata": {},
   "outputs": [],
   "source": [
    "result = df_test[['Item_Identifier','Outlet_Identifier']]"
   ]
  },
  {
   "cell_type": "code",
   "execution_count": 192,
   "metadata": {},
   "outputs": [],
   "source": [
    "result['Item_Outlet_Sales'] = ytest_predict"
   ]
  },
  {
   "cell_type": "code",
   "execution_count": 193,
   "metadata": {},
   "outputs": [
    {
     "data": {
      "text/html": [
       "<div>\n",
       "<style scoped>\n",
       "    .dataframe tbody tr th:only-of-type {\n",
       "        vertical-align: middle;\n",
       "    }\n",
       "\n",
       "    .dataframe tbody tr th {\n",
       "        vertical-align: top;\n",
       "    }\n",
       "\n",
       "    .dataframe thead th {\n",
       "        text-align: right;\n",
       "    }\n",
       "</style>\n",
       "<table border=\"1\" class=\"dataframe\">\n",
       "  <thead>\n",
       "    <tr style=\"text-align: right;\">\n",
       "      <th></th>\n",
       "      <th>Item_Identifier</th>\n",
       "      <th>Outlet_Identifier</th>\n",
       "      <th>Item_Outlet_Sales</th>\n",
       "    </tr>\n",
       "  </thead>\n",
       "  <tbody>\n",
       "    <tr>\n",
       "      <th>0</th>\n",
       "      <td>FDW58</td>\n",
       "      <td>OUT049</td>\n",
       "      <td>2084.368809</td>\n",
       "    </tr>\n",
       "    <tr>\n",
       "      <th>1</th>\n",
       "      <td>FDW14</td>\n",
       "      <td>OUT017</td>\n",
       "      <td>701.915922</td>\n",
       "    </tr>\n",
       "    <tr>\n",
       "      <th>2</th>\n",
       "      <td>NCN55</td>\n",
       "      <td>OUT010</td>\n",
       "      <td>1786.071928</td>\n",
       "    </tr>\n",
       "    <tr>\n",
       "      <th>3</th>\n",
       "      <td>FDQ58</td>\n",
       "      <td>OUT017</td>\n",
       "      <td>701.915922</td>\n",
       "    </tr>\n",
       "    <tr>\n",
       "      <th>4</th>\n",
       "      <td>FDY38</td>\n",
       "      <td>OUT027</td>\n",
       "      <td>1788.369009</td>\n",
       "    </tr>\n",
       "    <tr>\n",
       "      <th>...</th>\n",
       "      <td>...</td>\n",
       "      <td>...</td>\n",
       "      <td>...</td>\n",
       "    </tr>\n",
       "    <tr>\n",
       "      <th>5676</th>\n",
       "      <td>FDB58</td>\n",
       "      <td>OUT046</td>\n",
       "      <td>2261.435666</td>\n",
       "    </tr>\n",
       "    <tr>\n",
       "      <th>5677</th>\n",
       "      <td>FDD47</td>\n",
       "      <td>OUT018</td>\n",
       "      <td>733.127521</td>\n",
       "    </tr>\n",
       "    <tr>\n",
       "      <th>5678</th>\n",
       "      <td>NCO17</td>\n",
       "      <td>OUT045</td>\n",
       "      <td>670.672952</td>\n",
       "    </tr>\n",
       "    <tr>\n",
       "      <th>5679</th>\n",
       "      <td>FDJ26</td>\n",
       "      <td>OUT017</td>\n",
       "      <td>2630.914995</td>\n",
       "    </tr>\n",
       "    <tr>\n",
       "      <th>5680</th>\n",
       "      <td>FDU37</td>\n",
       "      <td>OUT045</td>\n",
       "      <td>1109.066723</td>\n",
       "    </tr>\n",
       "  </tbody>\n",
       "</table>\n",
       "<p>5681 rows × 3 columns</p>\n",
       "</div>"
      ],
      "text/plain": [
       "     Item_Identifier Outlet_Identifier  Item_Outlet_Sales\n",
       "0              FDW58            OUT049        2084.368809\n",
       "1              FDW14            OUT017         701.915922\n",
       "2              NCN55            OUT010        1786.071928\n",
       "3              FDQ58            OUT017         701.915922\n",
       "4              FDY38            OUT027        1788.369009\n",
       "...              ...               ...                ...\n",
       "5676           FDB58            OUT046        2261.435666\n",
       "5677           FDD47            OUT018         733.127521\n",
       "5678           NCO17            OUT045         670.672952\n",
       "5679           FDJ26            OUT017        2630.914995\n",
       "5680           FDU37            OUT045        1109.066723\n",
       "\n",
       "[5681 rows x 3 columns]"
      ]
     },
     "execution_count": 193,
     "metadata": {},
     "output_type": "execute_result"
    }
   ],
   "source": [
    "result"
   ]
  },
  {
   "cell_type": "code",
   "execution_count": 194,
   "metadata": {},
   "outputs": [],
   "source": [
    "result.to_csv('final.csv')"
   ]
  },
  {
   "cell_type": "code",
   "execution_count": 195,
   "metadata": {},
   "outputs": [
    {
     "data": {
      "text/plain": [
       "GridSearchCV(cv=9, estimator=RandomForestRegressor(random_state=1),\n",
       "             param_grid={'max_depth': range(1, 6),\n",
       "                         'min_samples_leaf': range(10, 30, 5),\n",
       "                         'min_samples_split': range(50, 105, 5)},\n",
       "             return_train_score='warn', scoring=make_scorer(r2_score))"
      ]
     },
     "execution_count": 195,
     "metadata": {},
     "output_type": "execute_result"
    }
   ],
   "source": [
    "params = {'max_depth' : range(1,6),\n",
    "         'min_samples_leaf': range(10,30,5),\n",
    "         'min_samples_split': range(50,105,5)}\n",
    "n_folds = 9\n",
    "scoring = make_scorer(r2_score)\n",
    "rfor = RandomForestRegressor(random_state = 1)\n",
    "rand_grid = GridSearchCV(rfor,params,cv=n_folds,scoring=scoring,return_train_score='warn')\n",
    "rand_grid.fit(X2,y2)"
   ]
  },
  {
   "cell_type": "code",
   "execution_count": 196,
   "metadata": {},
   "outputs": [
    {
     "data": {
      "text/plain": [
       "0.5994139913387682"
      ]
     },
     "execution_count": 196,
     "metadata": {},
     "output_type": "execute_result"
    }
   ],
   "source": [
    "rand_grid.best_score_"
   ]
  },
  {
   "cell_type": "code",
   "execution_count": 197,
   "metadata": {},
   "outputs": [],
   "source": [
    "y_pred = rand_grid.predict(X2)"
   ]
  },
  {
   "cell_type": "code",
   "execution_count": 198,
   "metadata": {},
   "outputs": [
    {
     "data": {
      "text/plain": [
       "1062.876479859755"
      ]
     },
     "execution_count": 198,
     "metadata": {},
     "output_type": "execute_result"
    }
   ],
   "source": [
    "np.sqrt(mean_squared_error(y2,y_pred))"
   ]
  },
  {
   "cell_type": "code",
   "execution_count": 199,
   "metadata": {},
   "outputs": [
    {
     "data": {
      "text/plain": [
       "{'max_depth': 5, 'min_samples_leaf': 25, 'min_samples_split': 90}"
      ]
     },
     "execution_count": 199,
     "metadata": {},
     "output_type": "execute_result"
    }
   ],
   "source": [
    "rand_grid.best_params_"
   ]
  },
  {
   "cell_type": "code",
   "execution_count": 200,
   "metadata": {},
   "outputs": [],
   "source": [
    "rfor = RandomForestRegressor(max_depth = 5, min_samples_leaf = 15, min_samples_split = 70, random_state = 1)"
   ]
  },
  {
   "cell_type": "code",
   "execution_count": 201,
   "metadata": {},
   "outputs": [
    {
     "data": {
      "text/plain": [
       "RandomForestRegressor(max_depth=5, min_samples_leaf=15, min_samples_split=70,\n",
       "                      random_state=1)"
      ]
     },
     "execution_count": 201,
     "metadata": {},
     "output_type": "execute_result"
    }
   ],
   "source": [
    "rfor.fit(X2,y2)"
   ]
  },
  {
   "cell_type": "code",
   "execution_count": 202,
   "metadata": {},
   "outputs": [],
   "source": [
    "ytestup_predict = rfor.predict(df2_test)"
   ]
  },
  {
   "cell_type": "code",
   "execution_count": 203,
   "metadata": {},
   "outputs": [],
   "source": [
    "resultup = pd.DataFrame()"
   ]
  },
  {
   "cell_type": "code",
   "execution_count": 204,
   "metadata": {},
   "outputs": [],
   "source": [
    "resultup = df_test[['Item_Identifier','Outlet_Identifier']]\n",
    "resultup['Item_Outlet_Sales'] = ytestup_predict"
   ]
  },
  {
   "cell_type": "code",
   "execution_count": 205,
   "metadata": {},
   "outputs": [],
   "source": [
    "resultup.to_csv('finalup.csv')"
   ]
  },
  {
   "cell_type": "code",
   "execution_count": null,
   "metadata": {},
   "outputs": [],
   "source": []
  }
 ],
 "metadata": {
  "kernelspec": {
   "display_name": "Python 3",
   "language": "python",
   "name": "python3"
  },
  "language_info": {
   "codemirror_mode": {
    "name": "ipython",
    "version": 3
   },
   "file_extension": ".py",
   "mimetype": "text/x-python",
   "name": "python",
   "nbconvert_exporter": "python",
   "pygments_lexer": "ipython3",
   "version": "3.7.6"
  }
 },
 "nbformat": 4,
 "nbformat_minor": 2
}
